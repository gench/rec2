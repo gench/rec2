{
 "cells": [
  {
   "cell_type": "markdown",
   "metadata": {
    "deletable": true,
    "editable": true
   },
   "source": [
    "# Recipe Recommender Capstone Project"
   ]
  },
  {
   "cell_type": "markdown",
   "metadata": {
    "deletable": true,
    "editable": true
   },
   "source": [
    "** Task: ** Given a recipe from the existing data set that you have, suggest another recipe by replacing n (random) ingredients. The new recipe should:\n",
    "- “make sense” according to certain standards of taste\n",
    "- not be a subset of ingredients of an existing recipe in the dataset\n",
    "\n",
    "T-shirt bonus:\n",
    "- Suggest a reasonable vegetarian variant of a meat recipe. This would require some form of clustering to recognize food categories such as vegetables, pulses, meats, etc. "
   ]
  },
  {
   "cell_type": "markdown",
   "metadata": {
    "deletable": true,
    "editable": true
   },
   "source": [
    "## Data Cleaning"
   ]
  },
  {
   "cell_type": "markdown",
   "metadata": {
    "deletable": true,
    "editable": true
   },
   "source": [
    "The data has been scrapped from http://allrecipes.com/. It consists of over 7K recipes and 2.5M reviews."
   ]
  },
  {
   "cell_type": "code",
   "execution_count": 1405,
   "metadata": {
    "collapsed": false,
    "deletable": true,
    "editable": true
   },
   "outputs": [
    {
     "data": {
      "text/html": [
       "\n",
       "    <div class=\"bk-root\">\n",
       "        <a href=\"http://bokeh.pydata.org\" target=\"_blank\" class=\"bk-logo bk-logo-small bk-logo-notebook\"></a>\n",
       "        <span id=\"cc3f5796-02c3-413e-909d-5b450e2da9de\">Loading BokehJS ...</span>\n",
       "    </div>"
      ]
     },
     "metadata": {},
     "output_type": "display_data"
    },
    {
     "data": {
      "application/javascript": [
       "\n",
       "(function(global) {\n",
       "  function now() {\n",
       "    return new Date();\n",
       "  }\n",
       "\n",
       "  var force = true;\n",
       "\n",
       "  if (typeof (window._bokeh_onload_callbacks) === \"undefined\" || force === true) {\n",
       "    window._bokeh_onload_callbacks = [];\n",
       "    window._bokeh_is_loading = undefined;\n",
       "  }\n",
       "\n",
       "\n",
       "  \n",
       "  if (typeof (window._bokeh_timeout) === \"undefined\" || force === true) {\n",
       "    window._bokeh_timeout = Date.now() + 5000;\n",
       "    window._bokeh_failed_load = false;\n",
       "  }\n",
       "\n",
       "  var NB_LOAD_WARNING = {'data': {'text/html':\n",
       "     \"<div style='background-color: #fdd'>\\n\"+\n",
       "     \"<p>\\n\"+\n",
       "     \"BokehJS does not appear to have successfully loaded. If loading BokehJS from CDN, this \\n\"+\n",
       "     \"may be due to a slow or bad network connection. Possible fixes:\\n\"+\n",
       "     \"</p>\\n\"+\n",
       "     \"<ul>\\n\"+\n",
       "     \"<li>re-rerun `output_notebook()` to attempt to load from CDN again, or</li>\\n\"+\n",
       "     \"<li>use INLINE resources instead, as so:</li>\\n\"+\n",
       "     \"</ul>\\n\"+\n",
       "     \"<code>\\n\"+\n",
       "     \"from bokeh.resources import INLINE\\n\"+\n",
       "     \"output_notebook(resources=INLINE)\\n\"+\n",
       "     \"</code>\\n\"+\n",
       "     \"</div>\"}};\n",
       "\n",
       "  function display_loaded() {\n",
       "    if (window.Bokeh !== undefined) {\n",
       "      var el = document.getElementById(\"cc3f5796-02c3-413e-909d-5b450e2da9de\");\n",
       "      el.textContent = \"BokehJS \" + Bokeh.version + \" successfully loaded.\";\n",
       "    } else if (Date.now() < window._bokeh_timeout) {\n",
       "      setTimeout(display_loaded, 100)\n",
       "    }\n",
       "  }\n",
       "\n",
       "  function run_callbacks() {\n",
       "    window._bokeh_onload_callbacks.forEach(function(callback) { callback() });\n",
       "    delete window._bokeh_onload_callbacks\n",
       "    console.info(\"Bokeh: all callbacks have finished\");\n",
       "  }\n",
       "\n",
       "  function load_libs(js_urls, callback) {\n",
       "    window._bokeh_onload_callbacks.push(callback);\n",
       "    if (window._bokeh_is_loading > 0) {\n",
       "      console.log(\"Bokeh: BokehJS is being loaded, scheduling callback at\", now());\n",
       "      return null;\n",
       "    }\n",
       "    if (js_urls == null || js_urls.length === 0) {\n",
       "      run_callbacks();\n",
       "      return null;\n",
       "    }\n",
       "    console.log(\"Bokeh: BokehJS not loaded, scheduling load and callback at\", now());\n",
       "    window._bokeh_is_loading = js_urls.length;\n",
       "    for (var i = 0; i < js_urls.length; i++) {\n",
       "      var url = js_urls[i];\n",
       "      var s = document.createElement('script');\n",
       "      s.src = url;\n",
       "      s.async = false;\n",
       "      s.onreadystatechange = s.onload = function() {\n",
       "        window._bokeh_is_loading--;\n",
       "        if (window._bokeh_is_loading === 0) {\n",
       "          console.log(\"Bokeh: all BokehJS libraries loaded\");\n",
       "          run_callbacks()\n",
       "        }\n",
       "      };\n",
       "      s.onerror = function() {\n",
       "        console.warn(\"failed to load library \" + url);\n",
       "      };\n",
       "      console.log(\"Bokeh: injecting script tag for BokehJS library: \", url);\n",
       "      document.getElementsByTagName(\"head\")[0].appendChild(s);\n",
       "    }\n",
       "  };var element = document.getElementById(\"cc3f5796-02c3-413e-909d-5b450e2da9de\");\n",
       "  if (element == null) {\n",
       "    console.log(\"Bokeh: ERROR: autoload.js configured with elementid 'cc3f5796-02c3-413e-909d-5b450e2da9de' but no matching script tag was found. \")\n",
       "    return false;\n",
       "  }\n",
       "\n",
       "  var js_urls = [\"https://cdn.pydata.org/bokeh/release/bokeh-0.12.5.min.js\", \"https://cdn.pydata.org/bokeh/release/bokeh-widgets-0.12.5.min.js\"];\n",
       "\n",
       "  var inline_js = [\n",
       "    function(Bokeh) {\n",
       "      Bokeh.set_log_level(\"info\");\n",
       "    },\n",
       "    \n",
       "    function(Bokeh) {\n",
       "      \n",
       "    },\n",
       "    \n",
       "    function(Bokeh) {\n",
       "      \n",
       "      document.getElementById(\"cc3f5796-02c3-413e-909d-5b450e2da9de\").textContent = \"BokehJS is loading...\";\n",
       "    },\n",
       "    function(Bokeh) {\n",
       "      console.log(\"Bokeh: injecting CSS: https://cdn.pydata.org/bokeh/release/bokeh-0.12.5.min.css\");\n",
       "      Bokeh.embed.inject_css(\"https://cdn.pydata.org/bokeh/release/bokeh-0.12.5.min.css\");\n",
       "      console.log(\"Bokeh: injecting CSS: https://cdn.pydata.org/bokeh/release/bokeh-widgets-0.12.5.min.css\");\n",
       "      Bokeh.embed.inject_css(\"https://cdn.pydata.org/bokeh/release/bokeh-widgets-0.12.5.min.css\");\n",
       "    }\n",
       "  ];\n",
       "\n",
       "  function run_inline_js() {\n",
       "    \n",
       "    if ((window.Bokeh !== undefined) || (force === true)) {\n",
       "      for (var i = 0; i < inline_js.length; i++) {\n",
       "        inline_js[i](window.Bokeh);\n",
       "      }if (force === true) {\n",
       "        display_loaded();\n",
       "      }} else if (Date.now() < window._bokeh_timeout) {\n",
       "      setTimeout(run_inline_js, 100);\n",
       "    } else if (!window._bokeh_failed_load) {\n",
       "      console.log(\"Bokeh: BokehJS failed to load within specified timeout.\");\n",
       "      window._bokeh_failed_load = true;\n",
       "    } else if (force !== true) {\n",
       "      var cell = $(document.getElementById(\"cc3f5796-02c3-413e-909d-5b450e2da9de\")).parents('.cell').data().cell;\n",
       "      cell.output_area.append_execute_result(NB_LOAD_WARNING)\n",
       "    }\n",
       "\n",
       "  }\n",
       "\n",
       "  if (window._bokeh_is_loading === 0) {\n",
       "    console.log(\"Bokeh: BokehJS loaded, going straight to plotting\");\n",
       "    run_inline_js();\n",
       "  } else {\n",
       "    load_libs(js_urls, function() {\n",
       "      console.log(\"Bokeh: BokehJS plotting callback run at\", now());\n",
       "      run_inline_js();\n",
       "    });\n",
       "  }\n",
       "}(this));"
      ]
     },
     "metadata": {},
     "output_type": "display_data"
    }
   ],
   "source": [
    "import json\n",
    "import numpy as np\n",
    "import pandas as pd\n",
    "import io\n",
    "import re\n",
    "import itertools\n",
    "import random\n",
    "\n",
    "import networkx as nx\n",
    "\n",
    "from nltk.stem import WordNetLemmatizer\n",
    "wnl = WordNetLemmatizer()\n",
    "from sklearn.feature_extraction import DictVectorizer\n",
    "from collections import Counter\n",
    "from sklearn.feature_extraction.text import CountVectorizer\n",
    "#vectorizer = CountVectorizer(ngram_range=(1, 3),min_df=1,stop_words='english')\n",
    "\n",
    "from bokeh.plotting import figure, output_notebook, show\n",
    "from bokeh.models import NumeralTickFormatter,ColumnDataSource, LabelSet\n",
    "output_notebook()\n",
    "\n",
    "%matplotlib inline"
   ]
  },
  {
   "cell_type": "code",
   "execution_count": 1406,
   "metadata": {
    "collapsed": true,
    "deletable": true,
    "editable": true
   },
   "outputs": [],
   "source": [
    "def get_matrix_form(ingredients_list):\n",
    "    \"\"\"\n",
    "    Converts list of ingredients to sparse matrix form\n",
    "    Args:\n",
    "        ingredients_list: list of ingredients lists \n",
    "    \"\"\"\n",
    "    vec = DictVectorizer()\n",
    "    X = vec.fit_transform([Counter(x) for x in ingredients_list]) #get the bag of words\n",
    "    return X.toarray(),np.array(vec.get_feature_names()) #turn it to numpy array"
   ]
  },
  {
   "cell_type": "markdown",
   "metadata": {
    "deletable": true,
    "editable": true
   },
   "source": [
    "### Removing the Unrelated Words from Ingredients"
   ]
  },
  {
   "cell_type": "markdown",
   "metadata": {
    "deletable": true,
    "editable": true
   },
   "source": [
    "1. Quantifiers and descriptive words are filtered out from the ingredients.  \n",
    "2. Each word is lemmatized"
   ]
  },
  {
   "cell_type": "code",
   "execution_count": 1407,
   "metadata": {
    "collapsed": false,
    "deletable": true,
    "editable": true
   },
   "outputs": [],
   "source": [
    "#filter out the words that are not ingredients\n",
    "unrelated = [\"\",\"a\",\"an\",'teaspoon','oz','cup','tablespoon','gram','kilogram','kg','pound',\n",
    "             'milliliter','ml','envelope','substitute','chip',\n",
    "             'ounce','tsp','tbl','tb','tbsp','pint','pt','lb','liter','fluid',\"halves\",\"inch\",\n",
    "             \"skinless\", \"boneless\",\"pounded\",\"thickness\",\"thick\",\"cooking\",\"cubed\",\"instant\",\n",
    "             \"to\",\"from\",\"unsalted\",\"pinch\",\"chopped\",'fresh', 'flat', 'leaf',\"packages\",\n",
    "             \"minced\",\"cloves\",\"pinched\",\"sliced\",\"tablespoons\",\"taste\",\"all\",\"purpose\",\n",
    "             'teaspoons', 'beaten', 'cups', 'for', 'frying', 'or', 'as', 'needed' ,\"ground\",\n",
    "             \"large\",\"small\",\"big\",\"cut\",\"half\",\"finely\",\"peeled\",\"cooked\",\"lightly\",\n",
    "             \"in\",\"and\",\"or\",\"kosher\",\"halal\",\"ounces\",\"ounces\",\"can\",\"freshly\",\"crushed\",\"dried\",\n",
    "             \"slices\",\"slice\",\"diced\",'into', 'cubes','divided',\"melted\",\"frozen\",\"deveined\",\n",
    "             \"optional\",\"cans\",\"canned\",\"grated\",\"pounds\",\"lean\",\"packed\",\"mashed\",\"overripe\",\n",
    "             'quarters', 'vertically','package','tops', 'removed', 'seeded','softened','extra',\n",
    "             \"bottle\",\"condensed\",\"of\",\"style\",\"heavy\",\"torn\",\"piece\",\"shredded\",\"pieces\",\n",
    "             \"stewed\",\"chunks\",\"chunk\",\"mix\",\"whole\",\"clove\",\"light\",\"assorted\",\"s\",\"with\",\n",
    "             \"food\",\"jar\",\"spray\",\"toasted\",'favorite', 'chop','bite',\n",
    "             'chuck','chop','cleaned','container','covered','degree','delicious','double',\n",
    "             'medium','prepared',\n",
    "             'preserve','quick','refrigerated','rinsed','roast','rolled','room','stew',\n",
    "             'temperature','plus','packet','pack',\n",
    "             'trimmed','unwrapped','warm','flavored','link','sized','bulk','low',\n",
    "             'high','sifted','','square','thinly','drained','halved',\n",
    "             'cube','concentrate','crumb','crumbled','warmed','partially',\n",
    "             'portion','dissolved','halve','skinned','thin','deboned','boiled',\n",
    "             'butterflied','cooled','more','defrosted','size','quartered'\n",
    "            ]\n",
    "\n",
    "def is_numeric(c):\n",
    "    \"\"\"\n",
    "    Check if a given string is numeric or alphanumeric\n",
    "    Args:\n",
    "        c (str): string to check\n",
    "    Returns: \n",
    "        True if the given parameter is numeric\n",
    "    \"\"\"\n",
    "    try:\n",
    "        float(c)\n",
    "    except ValueError:\n",
    "        return False\n",
    "    else:\n",
    "        return True \n",
    "    \n",
    "def clean_ingredients(ingredients):\n",
    "    \"\"\"\n",
    "    Filters the words that are not an ingredient but are in the ingredient specifications\n",
    "    Args:\n",
    "        ing (str): a line from ingredient list\n",
    "    Returns:\n",
    "        ingredient string: if it is considered as an ingredient \n",
    "        False: if the given ingredient is filtered as a non-ingredient\n",
    "    \"\"\"\n",
    "    ingredients = list(map(str.lower,re.split(\"\\W+\",ingredients)))\n",
    "    return [wnl.lemmatize(ingredient.strip()) for ingredient in ingredients if not (len(ingredient) <1 or ingredient in unrelated or is_numeric(ingredient))]\n"
   ]
  },
  {
   "cell_type": "code",
   "execution_count": 1408,
   "metadata": {
    "collapsed": false,
    "deletable": true,
    "editable": true
   },
   "outputs": [],
   "source": [
    "#read the recipes\n",
    "all_ingredients = []\n",
    "recipe_dic = dict()\n",
    "reviews_dic = dict()\n",
    "names = []\n",
    "with open(\"data/recipes.data\",\"r\") as f:\n",
    "\n",
    "    for line in f:\n",
    "        recipe  = json.load(io.StringIO(line))\n",
    "        name = recipe['name']\n",
    "        num_rating = recipe['num_ratings']\n",
    "        categories = recipe['categories']\n",
    "        rid = recipe['id']\n",
    "        rating = recipe['rating']\n",
    "        cleaned_ingredients = [clean_ingredients(_ingredients) for _ingredients in recipe['ingredients'] ]\n",
    "        ingredients_filtered = [_ingredient for _ingredient in cleaned_ingredients if len(_ingredient) < 4]\n",
    "        #print (\" id: \",rid,\"\\n Rating: \",rating,\"\\n #Ratings: \",num_rating,\"\\n Name: \",name,\"\\n Categories: \",categories,\"\\n Ingredients: \",ingredients\n",
    "          # ,\"\\n\\n\")\n",
    "        if ingredients_filtered and len(ingredients_filtered) > 0:\n",
    "            #all_ingredients.append(ingredients_filtered)\n",
    "            #if name in recipe_dic.keys():\n",
    "                #print (\"\\n\\nName found: \" + name + \" Previous recipe: \" + str(recipe_dic[name] ) + \" \\n New: \" + str(ingredients_filtered))\n",
    "            recipe_dic[name] = list(set([\" \".join(x) for x in ingredients_filtered]))#ingredients_filtered\n",
    "            reviews_dic[name] = rating\n"
   ]
  },
  {
   "cell_type": "markdown",
   "metadata": {
    "deletable": true,
    "editable": true
   },
   "source": [
    "## Ingredient Analysis"
   ]
  },
  {
   "cell_type": "markdown",
   "metadata": {
    "deletable": true,
    "editable": true
   },
   "source": [
    "Total number of recipes:"
   ]
  },
  {
   "cell_type": "code",
   "execution_count": 1409,
   "metadata": {
    "collapsed": false,
    "deletable": true,
    "editable": true
   },
   "outputs": [
    {
     "data": {
      "text/plain": [
       "6171"
      ]
     },
     "execution_count": 1409,
     "metadata": {},
     "output_type": "execute_result"
    }
   ],
   "source": [
    "len(recipe_dic.values())"
   ]
  },
  {
   "cell_type": "code",
   "execution_count": 1410,
   "metadata": {
    "collapsed": false,
    "deletable": true,
    "editable": true
   },
   "outputs": [],
   "source": [
    "#flatten the ingredients of each recipe for vectorization\n",
    "all_ingredients = [ingredient for ingredient in recipe_dic.values()]"
   ]
  },
  {
   "cell_type": "code",
   "execution_count": 1412,
   "metadata": {
    "collapsed": false,
    "deletable": true,
    "editable": true,
    "scrolled": true
   },
   "outputs": [],
   "source": [
    "ingredient_matrix,vocabulary = get_matrix_form(all_ingredients)\n",
    "word_counts = ingredient_matrix.sum(axis=0)\n",
    "sorted_indicies = np.argsort(word_counts)[::-1]\n",
    "word_counts = np.array(list(map(lambda x: int(x),word_counts)))"
   ]
  },
  {
   "cell_type": "markdown",
   "metadata": {
    "deletable": true,
    "editable": true
   },
   "source": [
    "Number of unique ingredients:"
   ]
  },
  {
   "cell_type": "code",
   "execution_count": 1413,
   "metadata": {
    "collapsed": false,
    "deletable": true,
    "editable": true
   },
   "outputs": [
    {
     "data": {
      "text/plain": [
       "2951"
      ]
     },
     "execution_count": 1413,
     "metadata": {},
     "output_type": "execute_result"
    }
   ],
   "source": [
    "ingredient_matrix.shape[1]"
   ]
  },
  {
   "cell_type": "markdown",
   "metadata": {
    "deletable": true,
    "editable": true
   },
   "source": [
    "Find out which ingredients are most frequently used in the recipes"
   ]
  },
  {
   "cell_type": "code",
   "execution_count": 1414,
   "metadata": {
    "collapsed": false,
    "deletable": true,
    "editable": true
   },
   "outputs": [],
   "source": [
    "ingredient_frequency = list(zip(vocabulary[sorted_indicies],word_counts[sorted_indicies]))[:1000]\n",
    "#sorted(vec.vocabulary_)"
   ]
  },
  {
   "cell_type": "code",
   "execution_count": 1415,
   "metadata": {
    "collapsed": false,
    "deletable": true,
    "editable": true
   },
   "outputs": [],
   "source": [
    "#divide number of occurance of each ingredient to the total number of recipes \n",
    "popular_ingredients = list(map(lambda x: ( x[0],float( \"{0:.2f}\".format(x[1] / len(recipe_dic.values())) ) ), ingredient_frequency[:30]))"
   ]
  },
  {
   "cell_type": "code",
   "execution_count": 1416,
   "metadata": {
    "collapsed": true,
    "deletable": true,
    "editable": true
   },
   "outputs": [],
   "source": [
    "#separate the ingredient names and frequencies for plotting\n",
    "ings = list(map(lambda x: x[0], popular_ingredients))[::-1]\n",
    "freq = list(map(lambda x: x[1] , popular_ingredients))[::-1]"
   ]
  },
  {
   "cell_type": "markdown",
   "metadata": {
    "deletable": true,
    "editable": true
   },
   "source": [
    "#### Most Popular 30 Ingredients "
   ]
  },
  {
   "cell_type": "code",
   "execution_count": 1417,
   "metadata": {
    "collapsed": false,
    "deletable": true,
    "editable": true
   },
   "outputs": [
    {
     "data": {
      "text/html": [
       "\n",
       "\n",
       "    <div class=\"bk-root\">\n",
       "        <div class=\"bk-plotdiv\" id=\"bb2f8edf-98bc-4e0f-8316-62e4f29299e1\"></div>\n",
       "    </div>\n",
       "<script type=\"text/javascript\">\n",
       "  \n",
       "  (function(global) {\n",
       "    function now() {\n",
       "      return new Date();\n",
       "    }\n",
       "  \n",
       "    var force = false;\n",
       "  \n",
       "    if (typeof (window._bokeh_onload_callbacks) === \"undefined\" || force === true) {\n",
       "      window._bokeh_onload_callbacks = [];\n",
       "      window._bokeh_is_loading = undefined;\n",
       "    }\n",
       "  \n",
       "  \n",
       "    \n",
       "    if (typeof (window._bokeh_timeout) === \"undefined\" || force === true) {\n",
       "      window._bokeh_timeout = Date.now() + 0;\n",
       "      window._bokeh_failed_load = false;\n",
       "    }\n",
       "  \n",
       "    var NB_LOAD_WARNING = {'data': {'text/html':\n",
       "       \"<div style='background-color: #fdd'>\\n\"+\n",
       "       \"<p>\\n\"+\n",
       "       \"BokehJS does not appear to have successfully loaded. If loading BokehJS from CDN, this \\n\"+\n",
       "       \"may be due to a slow or bad network connection. Possible fixes:\\n\"+\n",
       "       \"</p>\\n\"+\n",
       "       \"<ul>\\n\"+\n",
       "       \"<li>re-rerun `output_notebook()` to attempt to load from CDN again, or</li>\\n\"+\n",
       "       \"<li>use INLINE resources instead, as so:</li>\\n\"+\n",
       "       \"</ul>\\n\"+\n",
       "       \"<code>\\n\"+\n",
       "       \"from bokeh.resources import INLINE\\n\"+\n",
       "       \"output_notebook(resources=INLINE)\\n\"+\n",
       "       \"</code>\\n\"+\n",
       "       \"</div>\"}};\n",
       "  \n",
       "    function display_loaded() {\n",
       "      if (window.Bokeh !== undefined) {\n",
       "        var el = document.getElementById(\"bb2f8edf-98bc-4e0f-8316-62e4f29299e1\");\n",
       "        el.textContent = \"BokehJS \" + Bokeh.version + \" successfully loaded.\";\n",
       "      } else if (Date.now() < window._bokeh_timeout) {\n",
       "        setTimeout(display_loaded, 100)\n",
       "      }\n",
       "    }\n",
       "  \n",
       "    function run_callbacks() {\n",
       "      window._bokeh_onload_callbacks.forEach(function(callback) { callback() });\n",
       "      delete window._bokeh_onload_callbacks\n",
       "      console.info(\"Bokeh: all callbacks have finished\");\n",
       "    }\n",
       "  \n",
       "    function load_libs(js_urls, callback) {\n",
       "      window._bokeh_onload_callbacks.push(callback);\n",
       "      if (window._bokeh_is_loading > 0) {\n",
       "        console.log(\"Bokeh: BokehJS is being loaded, scheduling callback at\", now());\n",
       "        return null;\n",
       "      }\n",
       "      if (js_urls == null || js_urls.length === 0) {\n",
       "        run_callbacks();\n",
       "        return null;\n",
       "      }\n",
       "      console.log(\"Bokeh: BokehJS not loaded, scheduling load and callback at\", now());\n",
       "      window._bokeh_is_loading = js_urls.length;\n",
       "      for (var i = 0; i < js_urls.length; i++) {\n",
       "        var url = js_urls[i];\n",
       "        var s = document.createElement('script');\n",
       "        s.src = url;\n",
       "        s.async = false;\n",
       "        s.onreadystatechange = s.onload = function() {\n",
       "          window._bokeh_is_loading--;\n",
       "          if (window._bokeh_is_loading === 0) {\n",
       "            console.log(\"Bokeh: all BokehJS libraries loaded\");\n",
       "            run_callbacks()\n",
       "          }\n",
       "        };\n",
       "        s.onerror = function() {\n",
       "          console.warn(\"failed to load library \" + url);\n",
       "        };\n",
       "        console.log(\"Bokeh: injecting script tag for BokehJS library: \", url);\n",
       "        document.getElementsByTagName(\"head\")[0].appendChild(s);\n",
       "      }\n",
       "    };var element = document.getElementById(\"bb2f8edf-98bc-4e0f-8316-62e4f29299e1\");\n",
       "    if (element == null) {\n",
       "      console.log(\"Bokeh: ERROR: autoload.js configured with elementid 'bb2f8edf-98bc-4e0f-8316-62e4f29299e1' but no matching script tag was found. \")\n",
       "      return false;\n",
       "    }\n",
       "  \n",
       "    var js_urls = [];\n",
       "  \n",
       "    var inline_js = [\n",
       "      function(Bokeh) {\n",
       "        (function() {\n",
       "          var fn = function() {\n",
       "            var docs_json = {\"00f43fa7-d390-4464-8a2a-e7f97159b1cb\":{\"roots\":{\"references\":[{\"attributes\":{\"callback\":null,\"column_names\":[\"y\",\"x\"],\"data\":{\"x\":[0.05,0.06,0.06,0.06,0.06,0.06,0.06,0.07,0.07,0.07,0.08,0.08,0.09,0.09,0.09,0.1,0.12,0.13,0.14,0.14,0.15,0.16,0.18,0.22,0.23,0.26,0.27,0.27,0.33,0.41],\"y\":[\"cream cheese\",\"oregano\",\"soy sauce\",\"sour cream\",\"cheddar cheese\",\"beef\",\"lemon juice\",\"tomato\",\"parsley\",\"garlic powder\",\"parmesan cheese\",\"chicken breast\",\"baking powder\",\"cinnamon\",\"baking soda\",\"salt pepper\",\"brown sugar\",\"vegetable oil\",\"olive oil\",\"vanilla extract\",\"water\",\"milk\",\"black pepper\",\"garlic\",\"onion\",\"flour\",\"white sugar\",\"egg\",\"butter\",\"salt\"]}},\"id\":\"f4e6a779-db37-4531-8dd0-bc423384994a\",\"type\":\"ColumnDataSource\"},{\"attributes\":{\"plot\":{\"id\":\"56a18cd1-a410-4d6a-99de-fe642b0534fa\",\"subtype\":\"Figure\",\"type\":\"Plot\"},\"ticker\":{\"id\":\"d9e6f095-ece0-48da-b483-1397cc3d143a\",\"type\":\"BasicTicker\"}},\"id\":\"2cedb22f-3aad-48dc-bdb4-476e26689de1\",\"type\":\"Grid\"},{\"attributes\":{\"plot\":{\"id\":\"56a18cd1-a410-4d6a-99de-fe642b0534fa\",\"subtype\":\"Figure\",\"type\":\"Plot\"}},\"id\":\"a37f35f6-9860-4344-bfd4-e19af9101adb\",\"type\":\"ResetTool\"},{\"attributes\":{\"plot\":{\"id\":\"56a18cd1-a410-4d6a-99de-fe642b0534fa\",\"subtype\":\"Figure\",\"type\":\"Plot\"}},\"id\":\"9f01e508-2a36-4adb-bbf0-eb12102046f8\",\"type\":\"PanTool\"},{\"attributes\":{\"formatter\":{\"id\":\"141bcee9-64cb-4b19-bdc8-ca8cfb9d88d2\",\"type\":\"CategoricalTickFormatter\"},\"plot\":{\"id\":\"56a18cd1-a410-4d6a-99de-fe642b0534fa\",\"subtype\":\"Figure\",\"type\":\"Plot\"},\"ticker\":{\"id\":\"359c6f28-d6cb-410a-919a-bb929dfd117b\",\"type\":\"CategoricalTicker\"}},\"id\":\"2ef5aa8a-1adb-4b61-bd42-69ff346b7df5\",\"type\":\"CategoricalAxis\"},{\"attributes\":{\"plot\":{\"id\":\"56a18cd1-a410-4d6a-99de-fe642b0534fa\",\"subtype\":\"Figure\",\"type\":\"Plot\"}},\"id\":\"2841765f-93da-4590-a15c-32b1fadda016\",\"type\":\"HelpTool\"},{\"attributes\":{\"below\":[{\"id\":\"902a4f0e-96de-44d1-b435-684c938217f3\",\"type\":\"LinearAxis\"}],\"left\":[{\"id\":\"2ef5aa8a-1adb-4b61-bd42-69ff346b7df5\",\"type\":\"CategoricalAxis\"}],\"renderers\":[{\"id\":\"902a4f0e-96de-44d1-b435-684c938217f3\",\"type\":\"LinearAxis\"},{\"id\":\"2cedb22f-3aad-48dc-bdb4-476e26689de1\",\"type\":\"Grid\"},{\"id\":\"2ef5aa8a-1adb-4b61-bd42-69ff346b7df5\",\"type\":\"CategoricalAxis\"},{\"id\":\"110b3796-8c87-44b8-8cd6-db89106a4b0f\",\"type\":\"Grid\"},{\"id\":\"92af365f-ef2a-413e-bc50-f90ab89c84ee\",\"type\":\"BoxAnnotation\"},{\"id\":\"eb7edde0-d669-450c-a32c-d4ecefba6ebd\",\"type\":\"GlyphRenderer\"},{\"id\":\"cccff60c-a753-4b84-847a-d789b581e288\",\"type\":\"GlyphRenderer\"},{\"id\":\"6b8c60c2-a658-45a0-8264-251d799d6a39\",\"type\":\"LabelSet\"}],\"title\":{\"id\":\"dbfd06e7-741d-4b85-b07d-3a06ea7f980f\",\"type\":\"Title\"},\"tool_events\":{\"id\":\"96a9acbb-4b9e-43c2-84c3-073c89051827\",\"type\":\"ToolEvents\"},\"toolbar\":{\"id\":\"f440500b-29d9-4507-88f6-9219614c181a\",\"type\":\"Toolbar\"},\"x_range\":{\"id\":\"3add7968-9926-4d7d-a23e-de7f1a789703\",\"type\":\"Range1d\"},\"y_range\":{\"id\":\"c7723b8c-5b67-45c3-b8f9-d16ffcabf756\",\"type\":\"FactorRange\"}},\"id\":\"56a18cd1-a410-4d6a-99de-fe642b0534fa\",\"subtype\":\"Figure\",\"type\":\"Plot\"},{\"attributes\":{\"overlay\":{\"id\":\"92af365f-ef2a-413e-bc50-f90ab89c84ee\",\"type\":\"BoxAnnotation\"},\"plot\":{\"id\":\"56a18cd1-a410-4d6a-99de-fe642b0534fa\",\"subtype\":\"Figure\",\"type\":\"Plot\"}},\"id\":\"e5409dc8-3e98-40d2-8a80-afb649a77fa2\",\"type\":\"BoxZoomTool\"},{\"attributes\":{\"format\":\"0%\"},\"id\":\"c6bbace9-c44d-4822-a26f-d2796d186d83\",\"type\":\"NumeralTickFormatter\"},{\"attributes\":{\"formatter\":{\"id\":\"c6bbace9-c44d-4822-a26f-d2796d186d83\",\"type\":\"NumeralTickFormatter\"},\"plot\":{\"id\":\"56a18cd1-a410-4d6a-99de-fe642b0534fa\",\"subtype\":\"Figure\",\"type\":\"Plot\"},\"ticker\":{\"id\":\"d9e6f095-ece0-48da-b483-1397cc3d143a\",\"type\":\"BasicTicker\"}},\"id\":\"902a4f0e-96de-44d1-b435-684c938217f3\",\"type\":\"LinearAxis\"},{\"attributes\":{\"line_color\":{\"value\":\"green\"},\"line_width\":{\"value\":2},\"x0\":{\"value\":0},\"x1\":{\"field\":\"x1\"},\"y0\":{\"field\":\"y0\"},\"y1\":{\"field\":\"y1\"}},\"id\":\"df1b669b-8726-46e0-9a33-c38c9b7f86a9\",\"type\":\"Segment\"},{\"attributes\":{\"plot\":null,\"text\":\"Most Popular 30 Ingredients\"},\"id\":\"dbfd06e7-741d-4b85-b07d-3a06ea7f980f\",\"type\":\"Title\"},{\"attributes\":{},\"id\":\"359c6f28-d6cb-410a-919a-bb929dfd117b\",\"type\":\"CategoricalTicker\"},{\"attributes\":{},\"id\":\"141bcee9-64cb-4b19-bdc8-ca8cfb9d88d2\",\"type\":\"CategoricalTickFormatter\"},{\"attributes\":{\"callback\":null,\"factors\":[\"cream cheese\",\"oregano\",\"soy sauce\",\"sour cream\",\"cheddar cheese\",\"beef\",\"lemon juice\",\"tomato\",\"parsley\",\"garlic powder\",\"parmesan cheese\",\"chicken breast\",\"baking powder\",\"cinnamon\",\"baking soda\",\"salt pepper\",\"brown sugar\",\"vegetable oil\",\"olive oil\",\"vanilla extract\",\"water\",\"milk\",\"black pepper\",\"garlic\",\"onion\",\"flour\",\"white sugar\",\"egg\",\"butter\",\"salt\"]},\"id\":\"c7723b8c-5b67-45c3-b8f9-d16ffcabf756\",\"type\":\"FactorRange\"},{\"attributes\":{\"fill_alpha\":{\"value\":0.1},\"fill_color\":{\"value\":\"#1f77b4\"},\"line_alpha\":{\"value\":0.1},\"line_color\":{\"value\":\"#1f77b4\"},\"line_width\":{\"value\":3},\"size\":{\"units\":\"screen\",\"value\":15},\"x\":{\"field\":\"x\"},\"y\":{\"field\":\"y\"}},\"id\":\"39930529-7e2f-485a-9994-d777b27aedef\",\"type\":\"Circle\"},{\"attributes\":{\"line_alpha\":{\"value\":0.1},\"line_color\":{\"value\":\"#1f77b4\"},\"line_width\":{\"value\":2},\"x0\":{\"value\":0},\"x1\":{\"field\":\"x1\"},\"y0\":{\"field\":\"y0\"},\"y1\":{\"field\":\"y1\"}},\"id\":\"666871c5-5a1f-4811-9662-c41c5d55a7da\",\"type\":\"Segment\"},{\"attributes\":{\"dimension\":1,\"plot\":{\"id\":\"56a18cd1-a410-4d6a-99de-fe642b0534fa\",\"subtype\":\"Figure\",\"type\":\"Plot\"},\"ticker\":{\"id\":\"359c6f28-d6cb-410a-919a-bb929dfd117b\",\"type\":\"CategoricalTicker\"}},\"id\":\"110b3796-8c87-44b8-8cd6-db89106a4b0f\",\"type\":\"Grid\"},{\"attributes\":{\"callback\":null,\"column_names\":[\"x1\",\"y0\",\"y1\"],\"data\":{\"x1\":[0.05,0.06,0.06,0.06,0.06,0.06,0.06,0.07,0.07,0.07,0.08,0.08,0.09,0.09,0.09,0.1,0.12,0.13,0.14,0.14,0.15,0.16,0.18,0.22,0.23,0.26,0.27,0.27,0.33,0.41],\"y0\":[\"cream cheese\",\"oregano\",\"soy sauce\",\"sour cream\",\"cheddar cheese\",\"beef\",\"lemon juice\",\"tomato\",\"parsley\",\"garlic powder\",\"parmesan cheese\",\"chicken breast\",\"baking powder\",\"cinnamon\",\"baking soda\",\"salt pepper\",\"brown sugar\",\"vegetable oil\",\"olive oil\",\"vanilla extract\",\"water\",\"milk\",\"black pepper\",\"garlic\",\"onion\",\"flour\",\"white sugar\",\"egg\",\"butter\",\"salt\"],\"y1\":[\"cream cheese\",\"oregano\",\"soy sauce\",\"sour cream\",\"cheddar cheese\",\"beef\",\"lemon juice\",\"tomato\",\"parsley\",\"garlic powder\",\"parmesan cheese\",\"chicken breast\",\"baking powder\",\"cinnamon\",\"baking soda\",\"salt pepper\",\"brown sugar\",\"vegetable oil\",\"olive oil\",\"vanilla extract\",\"water\",\"milk\",\"black pepper\",\"garlic\",\"onion\",\"flour\",\"white sugar\",\"egg\",\"butter\",\"salt\"]}},\"id\":\"0b24c10a-212a-4e9f-b220-9571be8ef743\",\"type\":\"ColumnDataSource\"},{\"attributes\":{},\"id\":\"96a9acbb-4b9e-43c2-84c3-073c89051827\",\"type\":\"ToolEvents\"},{\"attributes\":{\"level\":\"glyph\",\"plot\":{\"id\":\"56a18cd1-a410-4d6a-99de-fe642b0534fa\",\"subtype\":\"Figure\",\"type\":\"Plot\"},\"source\":{\"id\":\"78b205f9-902c-440c-86fd-e62f0e1dff5c\",\"type\":\"ColumnDataSource\"},\"text\":{\"field\":\"names\"},\"text_font_size\":{\"value\":\"7pt\"},\"x\":{\"field\":\"weight\"},\"x_offset\":{\"value\":10},\"y\":{\"field\":\"height\"},\"y_offset\":{\"value\":-1}},\"id\":\"6b8c60c2-a658-45a0-8264-251d799d6a39\",\"type\":\"LabelSet\"},{\"attributes\":{\"plot\":{\"id\":\"56a18cd1-a410-4d6a-99de-fe642b0534fa\",\"subtype\":\"Figure\",\"type\":\"Plot\"}},\"id\":\"6fe0fa33-d6fa-4b8b-9962-49737ce963cb\",\"type\":\"SaveTool\"},{\"attributes\":{\"data_source\":{\"id\":\"f4e6a779-db37-4531-8dd0-bc423384994a\",\"type\":\"ColumnDataSource\"},\"glyph\":{\"id\":\"3c56dd5f-a13a-462c-b0c0-2bb408de612e\",\"type\":\"Circle\"},\"hover_glyph\":null,\"muted_glyph\":null,\"nonselection_glyph\":{\"id\":\"39930529-7e2f-485a-9994-d777b27aedef\",\"type\":\"Circle\"},\"selection_glyph\":null},\"id\":\"cccff60c-a753-4b84-847a-d789b581e288\",\"type\":\"GlyphRenderer\"},{\"attributes\":{\"active_drag\":\"auto\",\"active_scroll\":\"auto\",\"active_tap\":\"auto\",\"tools\":[{\"id\":\"9f01e508-2a36-4adb-bbf0-eb12102046f8\",\"type\":\"PanTool\"},{\"id\":\"ee74bcbf-219d-4762-865f-890195f3bff3\",\"type\":\"WheelZoomTool\"},{\"id\":\"e5409dc8-3e98-40d2-8a80-afb649a77fa2\",\"type\":\"BoxZoomTool\"},{\"id\":\"6fe0fa33-d6fa-4b8b-9962-49737ce963cb\",\"type\":\"SaveTool\"},{\"id\":\"a37f35f6-9860-4344-bfd4-e19af9101adb\",\"type\":\"ResetTool\"},{\"id\":\"2841765f-93da-4590-a15c-32b1fadda016\",\"type\":\"HelpTool\"}]},\"id\":\"f440500b-29d9-4507-88f6-9219614c181a\",\"type\":\"Toolbar\"},{\"attributes\":{\"callback\":null},\"id\":\"3add7968-9926-4d7d-a23e-de7f1a789703\",\"type\":\"Range1d\"},{\"attributes\":{\"fill_color\":{\"value\":\"orange\"},\"line_color\":{\"value\":\"green\"},\"line_width\":{\"value\":3},\"size\":{\"units\":\"screen\",\"value\":15},\"x\":{\"field\":\"x\"},\"y\":{\"field\":\"y\"}},\"id\":\"3c56dd5f-a13a-462c-b0c0-2bb408de612e\",\"type\":\"Circle\"},{\"attributes\":{\"callback\":null,\"column_names\":[\"height\",\"names\",\"weight\"],\"data\":{\"height\":[\"cream cheese\",\"oregano\",\"soy sauce\",\"sour cream\",\"cheddar cheese\",\"beef\",\"lemon juice\",\"tomato\",\"parsley\",\"garlic powder\",\"parmesan cheese\",\"chicken breast\",\"baking powder\",\"cinnamon\",\"baking soda\",\"salt pepper\",\"brown sugar\",\"vegetable oil\",\"olive oil\",\"vanilla extract\",\"water\",\"milk\",\"black pepper\",\"garlic\",\"onion\",\"flour\",\"white sugar\",\"egg\",\"butter\",\"salt\"],\"names\":[\"5%\",\"6%\",\"6%\",\"6%\",\"6%\",\"6%\",\"6%\",\"7%\",\"7%\",\"7%\",\"8%\",\"8%\",\"9%\",\"9%\",\"9%\",\"10%\",\"12%\",\"13%\",\"14%\",\"14%\",\"15%\",\"16%\",\"18%\",\"22%\",\"23%\",\"26%\",\"27%\",\"27%\",\"33%\",\"41%\"],\"weight\":[0.05,0.06,0.06,0.06,0.06,0.06,0.06,0.07,0.07,0.07,0.08,0.08,0.09,0.09,0.09,0.1,0.12,0.13,0.14,0.14,0.15,0.16,0.18,0.22,0.23,0.26,0.27,0.27,0.33,0.41]}},\"id\":\"78b205f9-902c-440c-86fd-e62f0e1dff5c\",\"type\":\"ColumnDataSource\"},{\"attributes\":{},\"id\":\"d9e6f095-ece0-48da-b483-1397cc3d143a\",\"type\":\"BasicTicker\"},{\"attributes\":{\"plot\":{\"id\":\"56a18cd1-a410-4d6a-99de-fe642b0534fa\",\"subtype\":\"Figure\",\"type\":\"Plot\"}},\"id\":\"ee74bcbf-219d-4762-865f-890195f3bff3\",\"type\":\"WheelZoomTool\"},{\"attributes\":{\"bottom_units\":\"screen\",\"fill_alpha\":{\"value\":0.5},\"fill_color\":{\"value\":\"lightgrey\"},\"left_units\":\"screen\",\"level\":\"overlay\",\"line_alpha\":{\"value\":1.0},\"line_color\":{\"value\":\"black\"},\"line_dash\":[4,4],\"line_width\":{\"value\":2},\"plot\":null,\"render_mode\":\"css\",\"right_units\":\"screen\",\"top_units\":\"screen\"},\"id\":\"92af365f-ef2a-413e-bc50-f90ab89c84ee\",\"type\":\"BoxAnnotation\"},{\"attributes\":{\"data_source\":{\"id\":\"0b24c10a-212a-4e9f-b220-9571be8ef743\",\"type\":\"ColumnDataSource\"},\"glyph\":{\"id\":\"df1b669b-8726-46e0-9a33-c38c9b7f86a9\",\"type\":\"Segment\"},\"hover_glyph\":null,\"muted_glyph\":null,\"nonselection_glyph\":{\"id\":\"666871c5-5a1f-4811-9662-c41c5d55a7da\",\"type\":\"Segment\"},\"selection_glyph\":null},\"id\":\"eb7edde0-d669-450c-a32c-d4ecefba6ebd\",\"type\":\"GlyphRenderer\"}],\"root_ids\":[\"56a18cd1-a410-4d6a-99de-fe642b0534fa\"]},\"title\":\"Bokeh Application\",\"version\":\"0.12.5\"}};\n",
       "            var render_items = [{\"docid\":\"00f43fa7-d390-4464-8a2a-e7f97159b1cb\",\"elementid\":\"bb2f8edf-98bc-4e0f-8316-62e4f29299e1\",\"modelid\":\"56a18cd1-a410-4d6a-99de-fe642b0534fa\"}];\n",
       "            \n",
       "            Bokeh.embed.embed_items(docs_json, render_items);\n",
       "          };\n",
       "          if (document.readyState != \"loading\") fn();\n",
       "          else document.addEventListener(\"DOMContentLoaded\", fn);\n",
       "        })();\n",
       "      },\n",
       "      function(Bokeh) {\n",
       "      }\n",
       "    ];\n",
       "  \n",
       "    function run_inline_js() {\n",
       "      \n",
       "      if ((window.Bokeh !== undefined) || (force === true)) {\n",
       "        for (var i = 0; i < inline_js.length; i++) {\n",
       "          inline_js[i](window.Bokeh);\n",
       "        }if (force === true) {\n",
       "          display_loaded();\n",
       "        }} else if (Date.now() < window._bokeh_timeout) {\n",
       "        setTimeout(run_inline_js, 100);\n",
       "      } else if (!window._bokeh_failed_load) {\n",
       "        console.log(\"Bokeh: BokehJS failed to load within specified timeout.\");\n",
       "        window._bokeh_failed_load = true;\n",
       "      } else if (force !== true) {\n",
       "        var cell = $(document.getElementById(\"bb2f8edf-98bc-4e0f-8316-62e4f29299e1\")).parents('.cell').data().cell;\n",
       "        cell.output_area.append_execute_result(NB_LOAD_WARNING)\n",
       "      }\n",
       "  \n",
       "    }\n",
       "  \n",
       "    if (window._bokeh_is_loading === 0) {\n",
       "      console.log(\"Bokeh: BokehJS loaded, going straight to plotting\");\n",
       "      run_inline_js();\n",
       "    } else {\n",
       "      load_libs(js_urls, function() {\n",
       "        console.log(\"Bokeh: BokehJS plotting callback run at\", now());\n",
       "        run_inline_js();\n",
       "      });\n",
       "    }\n",
       "  }(this));\n",
       "</script>"
      ]
     },
     "metadata": {},
     "output_type": "display_data"
    }
   ],
   "source": [
    "p = figure(title=\"Most Popular 30 Ingredients\", y_range=ings, x_range=[0,1])\n",
    "p.segment(0, ings, freq, ings, line_width=2, line_color=\"green\", )\n",
    "p.circle(freq, ings, size=15, fill_color=\"orange\", line_color=\"green\", line_width=3, )\n",
    "p.xaxis[0].formatter = NumeralTickFormatter(format=\"0%\")\n",
    "\n",
    "source = ColumnDataSource(data=dict(height=ings,\n",
    "                                    weight=freq,\n",
    "                                    names=list(map(lambda x: \"{0}%\".format(int(x * 100)),freq))))\n",
    "\n",
    "labels = LabelSet(x='weight', y='height', text='names', level='glyph',text_font_size=\"7pt\",\n",
    "              x_offset=10, y_offset=-1, source=source, render_mode='canvas')\n",
    "\n",
    "p.add_layout(labels)\n",
    "show(p)"
   ]
  },
  {
   "cell_type": "markdown",
   "metadata": {
    "deletable": true,
    "editable": true
   },
   "source": [
    "#### Filter out Rare Ingredients"
   ]
  },
  {
   "cell_type": "code",
   "execution_count": 1418,
   "metadata": {
    "collapsed": false,
    "deletable": true,
    "editable": true
   },
   "outputs": [],
   "source": [
    "min_10recp_ingredients = [x[0] for x in ingredient_frequency if x[1] >= 10 and len(x[0]) > 2 ]"
   ]
  },
  {
   "cell_type": "code",
   "execution_count": 1419,
   "metadata": {
    "collapsed": false,
    "deletable": true,
    "editable": true
   },
   "outputs": [],
   "source": [
    "nof_eliminated = 0\n",
    "total_eliminated = 0\n",
    "updated_recipe_dic = {}\n",
    "for recipe, ingredients in recipe_dic.items():\n",
    "    selected_ingredients = set(ingredients).intersection(set(min_10recp_ingredients))\n",
    "    if len(ingredients) - len(selected_ingredients)  != 0:\n",
    "        nof_eliminated += 1\n",
    "        total_eliminated += len(ingredients) - len(selected_ingredients) \n",
    "    updated_recipe_dic[recipe] = selected_ingredients"
   ]
  },
  {
   "cell_type": "markdown",
   "metadata": {
    "deletable": true,
    "editable": true
   },
   "source": [
    "Percentage of recipes having a non-standard ingredient:"
   ]
  },
  {
   "cell_type": "code",
   "execution_count": 1422,
   "metadata": {
    "collapsed": false,
    "deletable": true,
    "editable": true
   },
   "outputs": [
    {
     "data": {
      "text/plain": [
       "0.57"
      ]
     },
     "execution_count": 1422,
     "metadata": {},
     "output_type": "execute_result"
    }
   ],
   "source": [
    "round(nof_eliminated / len(recipe_dic.items()),2)"
   ]
  },
  {
   "cell_type": "markdown",
   "metadata": {
    "deletable": true,
    "editable": true
   },
   "source": [
    "Average number of ingredients dropped from recipes:"
   ]
  },
  {
   "cell_type": "code",
   "execution_count": 1423,
   "metadata": {
    "collapsed": false,
    "deletable": true,
    "editable": true
   },
   "outputs": [
    {
     "data": {
      "text/plain": [
       "1.6"
      ]
     },
     "execution_count": 1423,
     "metadata": {},
     "output_type": "execute_result"
    }
   ],
   "source": [
    "round(total_eliminated / nof_eliminated ,2)"
   ]
  },
  {
   "cell_type": "markdown",
   "metadata": {
    "deletable": true,
    "editable": true
   },
   "source": [
    "## Ingredient Assosication"
   ]
  },
  {
   "cell_type": "markdown",
   "metadata": {
    "deletable": true,
    "editable": true
   },
   "source": [
    "Get the flatten list of essential ingredients after filtering the rare ones"
   ]
  },
  {
   "cell_type": "code",
   "execution_count": 1424,
   "metadata": {
    "collapsed": true,
    "deletable": true,
    "editable": true
   },
   "outputs": [],
   "source": [
    "essential_ingredients = [ingredient for ingredient in updated_recipe_dic.values()]"
   ]
  },
  {
   "cell_type": "code",
   "execution_count": 1425,
   "metadata": {
    "collapsed": true,
    "deletable": true,
    "editable": true
   },
   "outputs": [],
   "source": [
    "ingredient_matrix, vocabulary = get_matrix_form(essential_ingredients)\n",
    "word_counts = ingredient_matrix.sum(axis=0)\n",
    "sorted_indicies = np.argsort(word_counts)[::-1]\n",
    "word_counts = np.array(list(map(lambda x: int(x),word_counts)))"
   ]
  },
  {
   "cell_type": "markdown",
   "metadata": {
    "deletable": true,
    "editable": true
   },
   "source": [
    "Calculate the co-occurance matrix"
   ]
  },
  {
   "cell_type": "code",
   "execution_count": 1426,
   "metadata": {
    "collapsed": false,
    "deletable": true,
    "editable": true
   },
   "outputs": [],
   "source": [
    "cooccurrence_matrix = np.dot(ingredient_matrix.transpose(),ingredient_matrix)\n",
    "cooccurrence_matrix_diagonal = np.diagonal(cooccurrence_matrix)\n",
    "#print('\\ncooccurrence_matrix:\\n{0}'.format(cooccurrence_matrix)) "
   ]
  },
  {
   "cell_type": "markdown",
   "metadata": {
    "deletable": true,
    "editable": true
   },
   "source": [
    "Ensure that there is no mistake in matrix calculations"
   ]
  },
  {
   "cell_type": "code",
   "execution_count": 1427,
   "metadata": {
    "collapsed": false,
    "deletable": true,
    "editable": true
   },
   "outputs": [],
   "source": [
    "assert sum(cooccurrence_matrix_diagonal != ingredient_matrix.sum(axis=0)) ==0, \"There is a mistake in ingredient lists or matrix multiplication\""
   ]
  },
  {
   "cell_type": "markdown",
   "metadata": {},
   "source": [
    "Calculate the Conditional Probabilities"
   ]
  },
  {
   "cell_type": "code",
   "execution_count": 1239,
   "metadata": {
    "collapsed": false,
    "deletable": true,
    "editable": true
   },
   "outputs": [],
   "source": [
    "with np.errstate(divide='ignore', invalid='ignore'):\n",
    "        cooccurrence_matrix_percentage = np.nan_to_num(np.true_divide(cooccurrence_matrix, cooccurrence_matrix_diagonal[:, None]))\n",
    "#print('\\ncooccurrence_matrix_percentage:\\n{0}'.format(cooccurrence_matrix_percentage))\n"
   ]
  },
  {
   "cell_type": "code",
   "execution_count": 1428,
   "metadata": {
    "collapsed": false,
    "deletable": true,
    "editable": true
   },
   "outputs": [
    {
     "name": "stdout",
     "output_type": "stream",
     "text": [
      " Recipe: Stuffed Pepper Soup IV\n",
      " Ingredients: {'salt pepper', 'green bell pepper', 'thyme', 'onion', 'sage', 'tomato', 'chicken broth', 'white rice', 'tomato sauce'}\n"
     ]
    }
   ],
   "source": [
    "recipe, ingredients = random.choice(list(updated_recipe_dic.items()))\n",
    "print (\" Recipe: \" + recipe)\n",
    "print (\" Ingredients: \" + str(ingredients))"
   ]
  },
  {
   "cell_type": "code",
   "execution_count": 1429,
   "metadata": {
    "collapsed": false,
    "deletable": true,
    "editable": true
   },
   "outputs": [
    {
     "name": "stdout",
     "output_type": "stream",
     "text": [
      "Ingredients to replace: ['white rice' 'salt pepper' 'chicken broth' 'tomato sauce'\n",
      " 'green bell pepper']\n"
     ]
    }
   ],
   "source": [
    "to_replace = np.random.choice(list(ingredients), np.random.randint(low=1, high=len(ingredients)),replace=False)\n",
    "print (\"Ingredients to replace: \" + str(to_replace))"
   ]
  },
  {
   "cell_type": "code",
   "execution_count": 1473,
   "metadata": {
    "collapsed": false,
    "deletable": true,
    "editable": true
   },
   "outputs": [],
   "source": [
    "indicies = [int(np.where(ingredient == vocabulary)[0]) for ingredient in  ingredients]\n",
    "to_replace_indicies = [int(np.where(ingredient == vocabulary)[0]) for ingredient in  to_replace]"
   ]
  },
  {
   "cell_type": "code",
   "execution_count": 1479,
   "metadata": {
    "collapsed": false,
    "deletable": true,
    "editable": true
   },
   "outputs": [],
   "source": [
    "conditional_probabilities = np.prod(cooccurrence_matrix_percentage[indicies], axis=0)"
   ]
  },
  {
   "cell_type": "code",
   "execution_count": 1489,
   "metadata": {
    "collapsed": false,
    "deletable": true,
    "editable": true
   },
   "outputs": [],
   "source": [
    "sorted_ingredient_indicies = np.argsort(conditional_probabilities)[::-1]"
   ]
  },
  {
   "cell_type": "code",
   "execution_count": 1511,
   "metadata": {
    "collapsed": false
   },
   "outputs": [],
   "source": [
    "complimentary_ingredients = [ing_index for ing_index in sorted_ingredient_indicies if not ing_index in indicies]"
   ]
  },
  {
   "cell_type": "code",
   "execution_count": 1512,
   "metadata": {
    "collapsed": false
   },
   "outputs": [
    {
     "data": {
      "text/plain": [
       "[186, 362, 41, 273, 57]"
      ]
     },
     "execution_count": 1512,
     "metadata": {},
     "output_type": "execute_result"
    }
   ],
   "source": [
    "complimentary_ingredients[:len(to_replace_indicies)]"
   ]
  },
  {
   "cell_type": "code",
   "execution_count": 1513,
   "metadata": {
    "collapsed": false,
    "deletable": true,
    "editable": true
   },
   "outputs": [],
   "source": [
    "new_ingredients = vocabulary[complimentary_ingredients[:len(to_replace_indicies)]]"
   ]
  },
  {
   "cell_type": "code",
   "execution_count": 1514,
   "metadata": {
    "collapsed": false
   },
   "outputs": [
    {
     "name": "stdout",
     "output_type": "stream",
     "text": [
      "Original Recipe: \n",
      "salt pepper , green bell pepper , thyme , onion , sage , tomato , chicken broth , white rice , tomato sauce\n"
     ]
    }
   ],
   "source": [
    "print (\"Original Recipe: \\n\" + \" , \".join(ingredients))"
   ]
  },
  {
   "cell_type": "code",
   "execution_count": 1515,
   "metadata": {
    "collapsed": false
   },
   "outputs": [
    {
     "name": "stdout",
     "output_type": "stream",
     "text": [
      "Ingredients dropped: \n",
      "white rice - salt pepper - chicken broth - tomato sauce - green bell pepper\n"
     ]
    }
   ],
   "source": [
    "print (\"Ingredients dropped: \\n\" + \" - \".join(to_replace))"
   ]
  },
  {
   "cell_type": "code",
   "execution_count": 1516,
   "metadata": {
    "collapsed": false
   },
   "outputs": [
    {
     "name": "stdout",
     "output_type": "stream",
     "text": [
      "New Ingredients added: \n",
      "garlic + salt + black pepper + olive oil + butter\n"
     ]
    }
   ],
   "source": [
    "print (\"New Ingredients added: \\n\" + \" + \".join(new_ingredients))"
   ]
  },
  {
   "cell_type": "code",
   "execution_count": 1517,
   "metadata": {
    "collapsed": false
   },
   "outputs": [
    {
     "name": "stdout",
     "output_type": "stream",
     "text": [
      "New recipe: \n",
      "garlic ** salt ** black pepper ** olive oil ** butter ** sage ** tomato ** thyme ** onion\n"
     ]
    }
   ],
   "source": [
    "print (\"New recipe: \\n\" + \" ** \".join(new_ingredients) + \" ** \" + \" ** \".join(set(ingredients).difference( set(to_replace))))"
   ]
  },
  {
   "cell_type": "markdown",
   "metadata": {
    "deletable": true,
    "editable": true
   },
   "source": [
    "## Network Analysis"
   ]
  },
  {
   "cell_type": "markdown",
   "metadata": {
    "deletable": true,
    "editable": true
   },
   "source": [
    "Create a graph"
   ]
  },
  {
   "cell_type": "code",
   "execution_count": 900,
   "metadata": {
    "collapsed": false,
    "deletable": true,
    "editable": true
   },
   "outputs": [],
   "source": [
    "G=nx.Graph()\n",
    "for ingredients in updated_recipe_dic.values():\n",
    "    G.add_nodes_from(ingredients)\n",
    "    G.add_edges_from(list(itertools.combinations(list(ingredients), 2)))"
   ]
  },
  {
   "cell_type": "code",
   "execution_count": 970,
   "metadata": {
    "collapsed": false,
    "deletable": true,
    "editable": true
   },
   "outputs": [],
   "source": [
    "import matplotlib.pyplot as plt\n",
    "plt.style.use('seaborn-paper')"
   ]
  },
  {
   "cell_type": "code",
   "execution_count": 971,
   "metadata": {
    "collapsed": false,
    "deletable": true,
    "editable": true
   },
   "outputs": [],
   "source": [
    "d = nx.degree(G)"
   ]
  },
  {
   "cell_type": "code",
   "execution_count": 972,
   "metadata": {
    "collapsed": false,
    "deletable": true,
    "editable": true
   },
   "outputs": [],
   "source": [
    "import operator\n",
    "sorted_x = sorted(d.items(), key=operator.itemgetter(1))[::-1]"
   ]
  },
  {
   "cell_type": "code",
   "execution_count": 986,
   "metadata": {
    "collapsed": false,
    "deletable": true,
    "editable": true
   },
   "outputs": [
    {
     "data": {
      "image/png": "[encoded data removed]",
      "text/plain": [
       "<matplotlib.figure.Figure at 0x14bb38390>"
      ]
     },
     "metadata": {},
     "output_type": "display_data"
    }
   ],
   "source": [
    "plt.axis('off')\n",
    "\n",
    "nlist = [x[0] for x in sorted_x[20:]]\n",
    "ndegree = [x[1] for x in sorted_x[20:]]\n",
    "pos = nx.random_layout(G)\n",
    "\n",
    "nx.draw_networkx_nodes(G,pos,nodelist=nlist, node_color=\"green\",with_labels=False,node_size=ndegree, alpha=0.3)\n",
    "#nx.draw_networkx_nodes(G,pos, node_color=\"blue\",with_labels=True,node_size=[v * 10 for v in d.values()], alpha=0.7)\n",
    "nx.draw_networkx_labels(G,pos,dict(zip(nlist,nlist)),font_size=6, font_color=\"white\")\n",
    "nx.draw_networkx_edges(G, pos,nodelist=nlist,edge_color=\"white\");\n",
    "\n",
    "pos = nx.shell_layout(G)\n",
    "#nx.draw(G, nodelist=d.keys(), node_size=[v * 100 for v in d.values()])\n",
    "\n",
    "nlist = [x[0] for x in sorted_x[:10]]\n",
    "ndegree = [x[1] * 10 for x in sorted_x[:10]]\n",
    "nx.draw_networkx_nodes(G,pos,nodelist=nlist, node_color=\"blue\",with_labels=False,node_size=ndegree, alpha=0.9)\n",
    "#nx.draw_networkx_nodes(G,pos, node_color=\"blue\",with_labels=True,node_size=[v * 10 for v in d.values()], alpha=0.7)\n",
    "nx.draw_networkx_labels(G,pos,dict(zip(nlist,nlist)),font_size=10, font_color=\"white\")\n",
    "nx.draw_networkx_edges(G, pos,nodelist=nlist,edge_color=\"white\");\n",
    "\n",
    "nlist = [x[0] for x in sorted_x[10:20]]\n",
    "ndegree = [x[1] * 3 for x in sorted_x[10:20]]\n",
    "\n",
    "nx.draw_networkx_nodes(G,pos,nodelist=nlist, node_color=\"red\",with_labels=False,node_size=ndegree, alpha=0.7)\n",
    "#nx.draw_networkx_nodes(G,pos, node_color=\"blue\",with_labels=True,node_size=[v * 10 for v in d.values()], alpha=0.7)\n",
    "nx.draw_networkx_labels(G,pos,dict(zip(nlist,nlist)),font_size=10, font_color=\"white\")\n",
    "nx.draw_networkx_edges(G, pos,nodelist=nlist,edge_color=\"white\");\n",
    "\n"
   ]
  },
  {
   "cell_type": "code",
   "execution_count": 820,
   "metadata": {
    "collapsed": false,
    "deletable": true,
    "editable": true
   },
   "outputs": [
    {
     "name": "stdout",
     "output_type": "stream",
     "text": [
      "['seaborn-poster', 'seaborn-colorblind', 'seaborn-bright', 'grayscale', 'classic', 'seaborn-whitegrid', 'fivethirtyeight', 'seaborn-pastel', 'seaborn-paper', 'seaborn-deep', 'bmh', 'seaborn-dark-palette', 'dark_background', 'seaborn-ticks', 'seaborn-muted', 'seaborn-darkgrid', 'seaborn-dark', 'seaborn-talk', 'seaborn', 'seaborn-white', 'seaborn-notebook', 'ggplot']\n"
     ]
    }
   ],
   "source": [
    "print(plt.style.available)\n"
   ]
  },
  {
   "cell_type": "markdown",
   "metadata": {
    "deletable": true,
    "editable": true
   },
   "source": [
    "# Appendix"
   ]
  },
  {
   "cell_type": "code",
   "execution_count": 1340,
   "metadata": {
    "collapsed": false,
    "deletable": true,
    "editable": true
   },
   "outputs": [
    {
     "name": "stderr",
     "output_type": "stream",
     "text": [
      "//anaconda/envs/condap3/lib/python3.5/site-packages/matplotlib/artist.py:233: MatplotlibDeprecationWarning: get_axes has been deprecated in mpl 1.5, please use the\n",
      "axes property.  A removal date has not been set.\n",
      "  stacklevel=1)\n"
     ]
    },
    {
     "data": {
      "image/png": "[encoded data removed]",
      "text/plain": [
       "<matplotlib.figure.Figure at 0x1f76b6dd8>"
      ]
     },
     "metadata": {},
     "output_type": "display_data"
    }
   ],
   "source": [
    "plot_cooccurrence_matrix_heatmap(vocabulary[:10],cooccurrence_matrix_percentage[:10,:10])\n",
    "\n",
    "def plot_cooccurrence_matrix_heatmap(label_headers,cooccurrence_matrix_percentage):\n",
    "    label_header_with_count = [ '{0} ({1})'.format(label_header, cooccurrence_matrix_diagonal[label_number]) for label_number, label_header in enumerate(label_headers)]  \n",
    "    #print('\\nlabel_header_with_count: {0}'.format(label_header_with_count))\n",
    "    x_axis_size = cooccurrence_matrix_percentage.shape[0]\n",
    "    y_axis_size = cooccurrence_matrix_percentage.shape[1]\n",
    "    title = \"Co-occurrence matrix\\n\"\n",
    "    xlabel= ''#\"Labels\"\n",
    "    ylabel= ''#\"Labels\"\n",
    "    xticklabels = label_header_with_count\n",
    "    yticklabels = label_header_with_count\n",
    "    heatmap(cooccurrence_matrix_percentage, title, xlabel, ylabel, xticklabels, yticklabels)\n",
    "    \n",
    "def show_values(pc, fmt=\"%.2f\", **kw):\n",
    "    '''\n",
    "    Heatmap with text in each cell with matplotlib's pyplot\n",
    "    Source: http://stackoverflow.com/a/25074150/395857 \n",
    "    By HYRY\n",
    "    '''\n",
    "    pc.update_scalarmappable()\n",
    "    ax = pc.get_axes()\n",
    "    for p, color, value in zip(pc.get_paths(), pc.get_facecolors(), pc.get_array()):\n",
    "        x, y = p.vertices[:-2, :].mean(0)\n",
    "        if np.all(color[:3] > 0.5):\n",
    "            color = (0.0, 0.0, 0.0)\n",
    "        else:\n",
    "            color = (1.0, 1.0, 1.0)\n",
    "        ax.text(x, y, fmt % value, ha=\"center\", va=\"center\", color=color, **kw)\n",
    "\n",
    "def cm2inch(*tupl):\n",
    "    '''\n",
    "    Specify figure size in centimeter in matplotlib\n",
    "    Source: http://stackoverflow.com/a/22787457/395857\n",
    "    By gns-ank\n",
    "    '''\n",
    "    inch = 2.54\n",
    "    if type(tupl[0]) == tuple:\n",
    "        return tuple(i/inch for i in tupl[0])\n",
    "    else:\n",
    "        return tuple(i/inch for i in tupl)\n",
    "\n",
    "def heatmap(AUC, title, xlabel, ylabel, xticklabels, yticklabels):\n",
    "    '''\n",
    "    Inspired by:\n",
    "    - http://stackoverflow.com/a/16124677/395857 \n",
    "    - http://stackoverflow.com/a/25074150/395857\n",
    "    '''\n",
    "\n",
    "    # Plot it out\n",
    "    fig, ax = plt.subplots()    \n",
    "    c = ax.pcolor(AUC, edgecolors='k', linestyle= 'dashed', linewidths=0.2, cmap='RdBu', vmin=0.0, vmax=1.0)\n",
    "\n",
    "    # put the major ticks at the middle of each cell\n",
    "    ax.set_yticks(np.arange(AUC.shape[0]) + 0.5, minor=False)\n",
    "    ax.set_xticks(np.arange(AUC.shape[1]) + 0.5, minor=False)\n",
    "\n",
    "    # set tick labels\n",
    "    #ax.set_xticklabels(np.arange(1,AUC.shape[1]+1), minor=False)\n",
    "    ax.set_xticklabels(xticklabels, minor=False)\n",
    "    ax.set_yticklabels(yticklabels, minor=False)\n",
    "\n",
    "    # set title and x/y labels\n",
    "    plt.title(title)\n",
    "    plt.xlabel(xlabel)\n",
    "    plt.ylabel(ylabel)      \n",
    "\n",
    "    # Remove last blank column\n",
    "    plt.xlim( (0, AUC.shape[1]) )\n",
    "\n",
    "    # Turn off all the ticks\n",
    "    ax = plt.gca()    \n",
    "    for t in ax.xaxis.get_major_ticks():\n",
    "        t.tick1On = False\n",
    "        t.tick2On = False\n",
    "    for t in ax.yaxis.get_major_ticks():\n",
    "        t.tick1On = False\n",
    "        t.tick2On = False\n",
    "\n",
    "    # Add color bar\n",
    "    plt.colorbar(c)\n",
    "\n",
    "    # Add text in each cell \n",
    "    show_values(c)\n",
    "\n",
    "    # Proper orientation (origin at the top left instead of bottom left)\n",
    "    ax.invert_yaxis()\n",
    "    ax.xaxis.tick_top()\n",
    "\n",
    "    # resize \n",
    "    fig = plt.gcf()\n",
    "    fig.set_size_inches(cm2inch(40, 20))"
   ]
  },
  {
   "cell_type": "code",
   "execution_count": null,
   "metadata": {
    "collapsed": true,
    "deletable": true,
    "editable": true
   },
   "outputs": [],
   "source": []
  }
 ],
 "metadata": {
  "anaconda-cloud": {},
  "kernelspec": {
   "display_name": "Python 3",
   "language": "python",
   "name": "python3"
  },
  "language_info": {
   "codemirror_mode": {
    "name": "ipython",
    "version": 3
   },
   "file_extension": ".py",
   "mimetype": "text/x-python",
   "name": "python",
   "nbconvert_exporter": "python",
   "pygments_lexer": "ipython3",
   "version": "3.5.3"
  }
 },
 "nbformat": 4,
 "nbformat_minor": 1
}
