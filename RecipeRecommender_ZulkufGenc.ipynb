{
 "cells": [
  {
   "cell_type": "markdown",
   "metadata": {
    "deletable": true,
    "editable": true
   },
   "source": [
    "# Recipe Recommender Capstone Project"
   ]
  },
  {
   "cell_type": "markdown",
   "metadata": {
    "deletable": true,
    "editable": true
   },
   "source": [
    "** Task: ** Given a recipe from the existing data set that you have, suggest another recipe by replacing n (random) ingredients. The new recipe should:\n",
    "- “make sense” according to certain standards of taste\n",
    "- not be a subset of ingredients of an existing recipe in the dataset"
   ]
  },
  {
   "cell_type": "markdown",
   "metadata": {
    "deletable": true,
    "editable": true
   },
   "source": [
    "## Data Cleaning"
   ]
  },
  {
   "cell_type": "markdown",
   "metadata": {
    "deletable": true,
    "editable": true
   },
   "source": [
    "The data has been scrapped from http://allrecipes.com/. It consists of over 7K recipes and 2.5M reviews."
   ]
  },
  {
   "cell_type": "code",
   "execution_count": 1551,
   "metadata": {
    "collapsed": false,
    "deletable": true,
    "editable": true
   },
   "outputs": [
    {
     "data": {
      "text/html": [
       "\n",
       "    <div class=\"bk-root\">\n",
       "        <a href=\"http://bokeh.pydata.org\" target=\"_blank\" class=\"bk-logo bk-logo-small bk-logo-notebook\"></a>\n",
       "        <span id=\"1f5a1325-18bc-48ba-b439-fc023cae528b\">Loading BokehJS ...</span>\n",
       "    </div>"
      ]
     },
     "metadata": {},
     "output_type": "display_data"
    },
    {
     "data": {
      "application/javascript": [
       "\n",
       "(function(global) {\n",
       "  function now() {\n",
       "    return new Date();\n",
       "  }\n",
       "\n",
       "  var force = true;\n",
       "\n",
       "  if (typeof (window._bokeh_onload_callbacks) === \"undefined\" || force === true) {\n",
       "    window._bokeh_onload_callbacks = [];\n",
       "    window._bokeh_is_loading = undefined;\n",
       "  }\n",
       "\n",
       "\n",
       "  \n",
       "  if (typeof (window._bokeh_timeout) === \"undefined\" || force === true) {\n",
       "    window._bokeh_timeout = Date.now() + 5000;\n",
       "    window._bokeh_failed_load = false;\n",
       "  }\n",
       "\n",
       "  var NB_LOAD_WARNING = {'data': {'text/html':\n",
       "     \"<div style='background-color: #fdd'>\\n\"+\n",
       "     \"<p>\\n\"+\n",
       "     \"BokehJS does not appear to have successfully loaded. If loading BokehJS from CDN, this \\n\"+\n",
       "     \"may be due to a slow or bad network connection. Possible fixes:\\n\"+\n",
       "     \"</p>\\n\"+\n",
       "     \"<ul>\\n\"+\n",
       "     \"<li>re-rerun `output_notebook()` to attempt to load from CDN again, or</li>\\n\"+\n",
       "     \"<li>use INLINE resources instead, as so:</li>\\n\"+\n",
       "     \"</ul>\\n\"+\n",
       "     \"<code>\\n\"+\n",
       "     \"from bokeh.resources import INLINE\\n\"+\n",
       "     \"output_notebook(resources=INLINE)\\n\"+\n",
       "     \"</code>\\n\"+\n",
       "     \"</div>\"}};\n",
       "\n",
       "  function display_loaded() {\n",
       "    if (window.Bokeh !== undefined) {\n",
       "      var el = document.getElementById(\"1f5a1325-18bc-48ba-b439-fc023cae528b\");\n",
       "      el.textContent = \"BokehJS \" + Bokeh.version + \" successfully loaded.\";\n",
       "    } else if (Date.now() < window._bokeh_timeout) {\n",
       "      setTimeout(display_loaded, 100)\n",
       "    }\n",
       "  }\n",
       "\n",
       "  function run_callbacks() {\n",
       "    window._bokeh_onload_callbacks.forEach(function(callback) { callback() });\n",
       "    delete window._bokeh_onload_callbacks\n",
       "    console.info(\"Bokeh: all callbacks have finished\");\n",
       "  }\n",
       "\n",
       "  function load_libs(js_urls, callback) {\n",
       "    window._bokeh_onload_callbacks.push(callback);\n",
       "    if (window._bokeh_is_loading > 0) {\n",
       "      console.log(\"Bokeh: BokehJS is being loaded, scheduling callback at\", now());\n",
       "      return null;\n",
       "    }\n",
       "    if (js_urls == null || js_urls.length === 0) {\n",
       "      run_callbacks();\n",
       "      return null;\n",
       "    }\n",
       "    console.log(\"Bokeh: BokehJS not loaded, scheduling load and callback at\", now());\n",
       "    window._bokeh_is_loading = js_urls.length;\n",
       "    for (var i = 0; i < js_urls.length; i++) {\n",
       "      var url = js_urls[i];\n",
       "      var s = document.createElement('script');\n",
       "      s.src = url;\n",
       "      s.async = false;\n",
       "      s.onreadystatechange = s.onload = function() {\n",
       "        window._bokeh_is_loading--;\n",
       "        if (window._bokeh_is_loading === 0) {\n",
       "          console.log(\"Bokeh: all BokehJS libraries loaded\");\n",
       "          run_callbacks()\n",
       "        }\n",
       "      };\n",
       "      s.onerror = function() {\n",
       "        console.warn(\"failed to load library \" + url);\n",
       "      };\n",
       "      console.log(\"Bokeh: injecting script tag for BokehJS library: \", url);\n",
       "      document.getElementsByTagName(\"head\")[0].appendChild(s);\n",
       "    }\n",
       "  };var element = document.getElementById(\"1f5a1325-18bc-48ba-b439-fc023cae528b\");\n",
       "  if (element == null) {\n",
       "    console.log(\"Bokeh: ERROR: autoload.js configured with elementid '1f5a1325-18bc-48ba-b439-fc023cae528b' but no matching script tag was found. \")\n",
       "    return false;\n",
       "  }\n",
       "\n",
       "  var js_urls = [\"https://cdn.pydata.org/bokeh/release/bokeh-0.12.5.min.js\", \"https://cdn.pydata.org/bokeh/release/bokeh-widgets-0.12.5.min.js\"];\n",
       "\n",
       "  var inline_js = [\n",
       "    function(Bokeh) {\n",
       "      Bokeh.set_log_level(\"info\");\n",
       "    },\n",
       "    \n",
       "    function(Bokeh) {\n",
       "      \n",
       "    },\n",
       "    \n",
       "    function(Bokeh) {\n",
       "      \n",
       "      document.getElementById(\"1f5a1325-18bc-48ba-b439-fc023cae528b\").textContent = \"BokehJS is loading...\";\n",
       "    },\n",
       "    function(Bokeh) {\n",
       "      console.log(\"Bokeh: injecting CSS: https://cdn.pydata.org/bokeh/release/bokeh-0.12.5.min.css\");\n",
       "      Bokeh.embed.inject_css(\"https://cdn.pydata.org/bokeh/release/bokeh-0.12.5.min.css\");\n",
       "      console.log(\"Bokeh: injecting CSS: https://cdn.pydata.org/bokeh/release/bokeh-widgets-0.12.5.min.css\");\n",
       "      Bokeh.embed.inject_css(\"https://cdn.pydata.org/bokeh/release/bokeh-widgets-0.12.5.min.css\");\n",
       "    }\n",
       "  ];\n",
       "\n",
       "  function run_inline_js() {\n",
       "    \n",
       "    if ((window.Bokeh !== undefined) || (force === true)) {\n",
       "      for (var i = 0; i < inline_js.length; i++) {\n",
       "        inline_js[i](window.Bokeh);\n",
       "      }if (force === true) {\n",
       "        display_loaded();\n",
       "      }} else if (Date.now() < window._bokeh_timeout) {\n",
       "      setTimeout(run_inline_js, 100);\n",
       "    } else if (!window._bokeh_failed_load) {\n",
       "      console.log(\"Bokeh: BokehJS failed to load within specified timeout.\");\n",
       "      window._bokeh_failed_load = true;\n",
       "    } else if (force !== true) {\n",
       "      var cell = $(document.getElementById(\"1f5a1325-18bc-48ba-b439-fc023cae528b\")).parents('.cell').data().cell;\n",
       "      cell.output_area.append_execute_result(NB_LOAD_WARNING)\n",
       "    }\n",
       "\n",
       "  }\n",
       "\n",
       "  if (window._bokeh_is_loading === 0) {\n",
       "    console.log(\"Bokeh: BokehJS loaded, going straight to plotting\");\n",
       "    run_inline_js();\n",
       "  } else {\n",
       "    load_libs(js_urls, function() {\n",
       "      console.log(\"Bokeh: BokehJS plotting callback run at\", now());\n",
       "      run_inline_js();\n",
       "    });\n",
       "  }\n",
       "}(this));"
      ]
     },
     "metadata": {},
     "output_type": "display_data"
    }
   ],
   "source": [
    "import json\n",
    "import numpy as np\n",
    "import pandas as pd\n",
    "import io\n",
    "import re\n",
    "import itertools\n",
    "import random\n",
    "\n",
    "import networkx as nx\n",
    "\n",
    "from nltk.stem import WordNetLemmatizer\n",
    "wnl = WordNetLemmatizer()\n",
    "from sklearn.feature_extraction import DictVectorizer\n",
    "from collections import Counter\n",
    "from sklearn.feature_extraction.text import CountVectorizer\n",
    "\n",
    "from bokeh.plotting import figure, output_notebook, show\n",
    "from bokeh.models import NumeralTickFormatter,ColumnDataSource, LabelSet\n",
    "output_notebook()\n",
    "\n",
    "%matplotlib inline"
   ]
  },
  {
   "cell_type": "code",
   "execution_count": 1553,
   "metadata": {
    "collapsed": true,
    "deletable": true,
    "editable": true
   },
   "outputs": [],
   "source": [
    "def get_matrix_form(ingredients_list):\n",
    "    \"\"\"\n",
    "    Converts list of ingredients to sparse matrix form\n",
    "    Args:\n",
    "        ingredients_list: list of ingredients lists \n",
    "    \"\"\"\n",
    "    vec = DictVectorizer()\n",
    "    X = vec.fit_transform([Counter(x) for x in ingredients_list]) \n",
    "    return X.toarray(),np.array(vec.get_feature_names()) "
   ]
  },
  {
   "cell_type": "markdown",
   "metadata": {
    "deletable": true,
    "editable": true
   },
   "source": [
    "### Removing the Unrelated Words from Ingredients"
   ]
  },
  {
   "cell_type": "markdown",
   "metadata": {
    "deletable": true,
    "editable": true
   },
   "source": [
    "1. Quantifiers and descriptive words are filtered out from the ingredients.  \n",
    "2. Each word is lemmatized"
   ]
  },
  {
   "cell_type": "code",
   "execution_count": 1407,
   "metadata": {
    "collapsed": false,
    "deletable": true,
    "editable": true
   },
   "outputs": [],
   "source": [
    "#filter out the words that are not ingredients\n",
    "unrelated = [\"\",\"a\",\"an\",'teaspoon','oz','cup','tablespoon','gram','kilogram','kg','pound',\n",
    "             'milliliter','ml','envelope','substitute','chip',\n",
    "             'ounce','tsp','tbl','tb','tbsp','pint','pt','lb','liter','fluid',\"halves\",\"inch\",\n",
    "             \"skinless\", \"boneless\",\"pounded\",\"thickness\",\"thick\",\"cooking\",\"cubed\",\"instant\",\n",
    "             \"to\",\"from\",\"unsalted\",\"pinch\",\"chopped\",'fresh', 'flat', 'leaf',\"packages\",\n",
    "             \"minced\",\"cloves\",\"pinched\",\"sliced\",\"tablespoons\",\"taste\",\"all\",\"purpose\",\n",
    "             'teaspoons', 'beaten', 'cups', 'for', 'frying', 'or', 'as', 'needed' ,\"ground\",\n",
    "             \"large\",\"small\",\"big\",\"cut\",\"half\",\"finely\",\"peeled\",\"cooked\",\"lightly\",\n",
    "             \"in\",\"and\",\"or\",\"kosher\",\"halal\",\"ounces\",\"ounces\",\"can\",\"freshly\",\"crushed\",\"dried\",\n",
    "             \"slices\",\"slice\",\"diced\",'into', 'cubes','divided',\"melted\",\"frozen\",\"deveined\",\n",
    "             \"optional\",\"cans\",\"canned\",\"grated\",\"pounds\",\"lean\",\"packed\",\"mashed\",\"overripe\",\n",
    "             'quarters', 'vertically','package','tops', 'removed', 'seeded','softened','extra',\n",
    "             \"bottle\",\"condensed\",\"of\",\"style\",\"heavy\",\"torn\",\"piece\",\"shredded\",\"pieces\",\n",
    "             \"stewed\",\"chunks\",\"chunk\",\"mix\",\"whole\",\"clove\",\"light\",\"assorted\",\"s\",\"with\",\n",
    "             \"food\",\"jar\",\"spray\",\"toasted\",'favorite', 'chop','bite',\n",
    "             'chuck','chop','cleaned','container','covered','degree','delicious','double',\n",
    "             'medium','prepared',\n",
    "             'preserve','quick','refrigerated','rinsed','roast','rolled','room','stew',\n",
    "             'temperature','plus','packet','pack',\n",
    "             'trimmed','unwrapped','warm','flavored','link','sized','bulk','low',\n",
    "             'high','sifted','','square','thinly','drained','halved',\n",
    "             'cube','concentrate','crumb','crumbled','warmed','partially',\n",
    "             'portion','dissolved','halve','skinned','thin','deboned','boiled',\n",
    "             'butterflied','cooled','more','defrosted','size','quartered'\n",
    "            ]\n",
    "\n",
    "def is_numeric(c):\n",
    "    \"\"\"\n",
    "    Check if a given string is numeric or alphanumeric\n",
    "    Args:\n",
    "        c (str): string to check\n",
    "    Returns: \n",
    "        True if the given parameter is numeric\n",
    "    \"\"\"\n",
    "    try:\n",
    "        float(c)\n",
    "    except ValueError:\n",
    "        return False\n",
    "    else:\n",
    "        return True \n",
    "    \n",
    "def clean_ingredients(ingredients):\n",
    "    \"\"\"\n",
    "    Filters the words that are not an ingredient but are in the ingredient specifications\n",
    "    Args:\n",
    "        ing (str): a line from ingredient list\n",
    "    Returns:\n",
    "        ingredient string: if it is considered as an ingredient \n",
    "        False: if the given ingredient is filtered as a non-ingredient\n",
    "    \"\"\"\n",
    "    ingredients = list(map(str.lower,re.split(\"\\W+\",ingredients)))\n",
    "    return [wnl.lemmatize(ingredient.strip()) for ingredient in ingredients if not (len(ingredient) <1 or ingredient in unrelated or is_numeric(ingredient))]\n"
   ]
  },
  {
   "cell_type": "code",
   "execution_count": 1555,
   "metadata": {
    "collapsed": false,
    "deletable": true,
    "editable": true
   },
   "outputs": [],
   "source": [
    "#read the recipes\n",
    "all_ingredients = []\n",
    "recipe_dic = dict()\n",
    "reviews_dic = dict()\n",
    "names = []\n",
    "with open(\"data/recipes.data\",\"r\") as f:\n",
    "\n",
    "    for line in f:\n",
    "        recipe  = json.load(io.StringIO(line))\n",
    "        name = recipe['name']\n",
    "        num_rating = recipe['num_ratings']\n",
    "        categories = recipe['categories']\n",
    "        rid = recipe['id']\n",
    "        rating = recipe['rating']\n",
    "        cleaned_ingredients = [clean_ingredients(_ingredients) for _ingredients in recipe['ingredients'] ]\n",
    "        ingredients_filtered = [_ingredient for _ingredient in cleaned_ingredients if len(_ingredient) < 4]\n",
    "        #print (\" id: \",rid,\"\\n Rating: \",rating,\"\\n #Ratings: \",num_rating,\"\\n Name: \",name,\"\\n Categories: \",categories,\"\\n Ingredients: \",ingredients,\"\\n\\n\")\n",
    "        if ingredients_filtered and len(ingredients_filtered) > 0:\n",
    "            recipe_dic[name] = list(set([\" \".join(x) for x in ingredients_filtered]))#ingredients_filtered\n",
    "            reviews_dic[name] = rating\n"
   ]
  },
  {
   "cell_type": "markdown",
   "metadata": {
    "deletable": true,
    "editable": true
   },
   "source": [
    "## Ingredient Analysis"
   ]
  },
  {
   "cell_type": "markdown",
   "metadata": {
    "deletable": true,
    "editable": true
   },
   "source": [
    "Total number of recipes:"
   ]
  },
  {
   "cell_type": "code",
   "execution_count": 1556,
   "metadata": {
    "collapsed": false,
    "deletable": true,
    "editable": true
   },
   "outputs": [
    {
     "data": {
      "text/plain": [
       "6171"
      ]
     },
     "execution_count": 1556,
     "metadata": {},
     "output_type": "execute_result"
    }
   ],
   "source": [
    "len(recipe_dic.values())"
   ]
  },
  {
   "cell_type": "code",
   "execution_count": 1557,
   "metadata": {
    "collapsed": false,
    "deletable": true,
    "editable": true
   },
   "outputs": [],
   "source": [
    "#flatten the ingredients of each recipe for vectorization\n",
    "all_ingredients = [ingredient for ingredient in recipe_dic.values()]"
   ]
  },
  {
   "cell_type": "code",
   "execution_count": 1558,
   "metadata": {
    "collapsed": false,
    "deletable": true,
    "editable": true,
    "scrolled": true
   },
   "outputs": [],
   "source": [
    "ingredient_matrix,vocabulary = get_matrix_form(all_ingredients)\n",
    "word_counts = ingredient_matrix.sum(axis=0)\n",
    "sorted_indicies = np.argsort(word_counts)[::-1]\n",
    "word_counts = np.array(list(map(lambda x: int(x),word_counts)))"
   ]
  },
  {
   "cell_type": "markdown",
   "metadata": {
    "deletable": true,
    "editable": true
   },
   "source": [
    "Number of unique ingredients:"
   ]
  },
  {
   "cell_type": "code",
   "execution_count": 1559,
   "metadata": {
    "collapsed": false,
    "deletable": true,
    "editable": true
   },
   "outputs": [
    {
     "data": {
      "text/plain": [
       "2951"
      ]
     },
     "execution_count": 1559,
     "metadata": {},
     "output_type": "execute_result"
    }
   ],
   "source": [
    "ingredient_matrix.shape[1]"
   ]
  },
  {
   "cell_type": "markdown",
   "metadata": {
    "deletable": true,
    "editable": true
   },
   "source": [
    "Find out which ingredients are most frequently used in the recipes"
   ]
  },
  {
   "cell_type": "code",
   "execution_count": 1560,
   "metadata": {
    "collapsed": false,
    "deletable": true,
    "editable": true
   },
   "outputs": [],
   "source": [
    "ingredient_frequency = list(zip(vocabulary[sorted_indicies],word_counts[sorted_indicies]))[:1000]\n",
    "#sorted(vec.vocabulary_)"
   ]
  },
  {
   "cell_type": "code",
   "execution_count": 1561,
   "metadata": {
    "collapsed": false,
    "deletable": true,
    "editable": true
   },
   "outputs": [],
   "source": [
    "#divide number of occurance of each ingredient to the total number of recipes \n",
    "popular_ingredients = list(map(lambda x: ( x[0],float( \"{0:.2f}\".format(x[1] / len(recipe_dic.values())) ) ), ingredient_frequency[:30]))"
   ]
  },
  {
   "cell_type": "code",
   "execution_count": 1562,
   "metadata": {
    "collapsed": true,
    "deletable": true,
    "editable": true
   },
   "outputs": [],
   "source": [
    "#separate the ingredient names and frequencies for plotting\n",
    "ings = list(map(lambda x: x[0], popular_ingredients))[::-1]\n",
    "freq = list(map(lambda x: x[1] , popular_ingredients))[::-1]"
   ]
  },
  {
   "cell_type": "markdown",
   "metadata": {
    "deletable": true,
    "editable": true
   },
   "source": [
    "#### Most Popular 30 Ingredients "
   ]
  },
  {
   "cell_type": "code",
   "execution_count": 1563,
   "metadata": {
    "collapsed": false,
    "deletable": true,
    "editable": true
   },
   "outputs": [],
   "source": [
    "p = figure(title=\"Most Popular 30 Ingredients\", y_range=ings, x_range=[0,1])\n",
    "p.segment(0, ings, freq, ings, line_width=2, line_color=\"green\", )\n",
    "p.circle(freq, ings, size=15, fill_color=\"orange\", line_color=\"green\", line_width=3, )\n",
    "p.xaxis[0].formatter = NumeralTickFormatter(format=\"0%\")\n",
    "\n",
    "source = ColumnDataSource(data=dict(height=ings,\n",
    "                                    weight=freq,\n",
    "                                    names=list(map(lambda x: \"{0}%\".format(int(x * 100)),freq))))\n",
    "\n",
    "labels = LabelSet(x='weight', y='height', text='names', level='glyph',text_font_size=\"7pt\",\n",
    "              x_offset=10, y_offset=-1, source=source, render_mode='canvas')\n",
    "\n",
    "p.add_layout(labels)"
   ]
  },
  {
   "cell_type": "code",
   "execution_count": 1564,
   "metadata": {
    "collapsed": false
   },
   "outputs": [
    {
     "data": {
      "text/html": [
       "\n",
       "\n",
       "    <div class=\"bk-root\">\n",
       "        <div class=\"bk-plotdiv\" id=\"4507ef42-8269-4430-8764-a6c3c6e60021\"></div>\n",
       "    </div>\n",
       "<script type=\"text/javascript\">\n",
       "  \n",
       "  (function(global) {\n",
       "    function now() {\n",
       "      return new Date();\n",
       "    }\n",
       "  \n",
       "    var force = false;\n",
       "  \n",
       "    if (typeof (window._bokeh_onload_callbacks) === \"undefined\" || force === true) {\n",
       "      window._bokeh_onload_callbacks = [];\n",
       "      window._bokeh_is_loading = undefined;\n",
       "    }\n",
       "  \n",
       "  \n",
       "    \n",
       "    if (typeof (window._bokeh_timeout) === \"undefined\" || force === true) {\n",
       "      window._bokeh_timeout = Date.now() + 0;\n",
       "      window._bokeh_failed_load = false;\n",
       "    }\n",
       "  \n",
       "    var NB_LOAD_WARNING = {'data': {'text/html':\n",
       "       \"<div style='background-color: #fdd'>\\n\"+\n",
       "       \"<p>\\n\"+\n",
       "       \"BokehJS does not appear to have successfully loaded. If loading BokehJS from CDN, this \\n\"+\n",
       "       \"may be due to a slow or bad network connection. Possible fixes:\\n\"+\n",
       "       \"</p>\\n\"+\n",
       "       \"<ul>\\n\"+\n",
       "       \"<li>re-rerun `output_notebook()` to attempt to load from CDN again, or</li>\\n\"+\n",
       "       \"<li>use INLINE resources instead, as so:</li>\\n\"+\n",
       "       \"</ul>\\n\"+\n",
       "       \"<code>\\n\"+\n",
       "       \"from bokeh.resources import INLINE\\n\"+\n",
       "       \"output_notebook(resources=INLINE)\\n\"+\n",
       "       \"</code>\\n\"+\n",
       "       \"</div>\"}};\n",
       "  \n",
       "    function display_loaded() {\n",
       "      if (window.Bokeh !== undefined) {\n",
       "        var el = document.getElementById(\"4507ef42-8269-4430-8764-a6c3c6e60021\");\n",
       "        el.textContent = \"BokehJS \" + Bokeh.version + \" successfully loaded.\";\n",
       "      } else if (Date.now() < window._bokeh_timeout) {\n",
       "        setTimeout(display_loaded, 100)\n",
       "      }\n",
       "    }\n",
       "  \n",
       "    function run_callbacks() {\n",
       "      window._bokeh_onload_callbacks.forEach(function(callback) { callback() });\n",
       "      delete window._bokeh_onload_callbacks\n",
       "      console.info(\"Bokeh: all callbacks have finished\");\n",
       "    }\n",
       "  \n",
       "    function load_libs(js_urls, callback) {\n",
       "      window._bokeh_onload_callbacks.push(callback);\n",
       "      if (window._bokeh_is_loading > 0) {\n",
       "        console.log(\"Bokeh: BokehJS is being loaded, scheduling callback at\", now());\n",
       "        return null;\n",
       "      }\n",
       "      if (js_urls == null || js_urls.length === 0) {\n",
       "        run_callbacks();\n",
       "        return null;\n",
       "      }\n",
       "      console.log(\"Bokeh: BokehJS not loaded, scheduling load and callback at\", now());\n",
       "      window._bokeh_is_loading = js_urls.length;\n",
       "      for (var i = 0; i < js_urls.length; i++) {\n",
       "        var url = js_urls[i];\n",
       "        var s = document.createElement('script');\n",
       "        s.src = url;\n",
       "        s.async = false;\n",
       "        s.onreadystatechange = s.onload = function() {\n",
       "          window._bokeh_is_loading--;\n",
       "          if (window._bokeh_is_loading === 0) {\n",
       "            console.log(\"Bokeh: all BokehJS libraries loaded\");\n",
       "            run_callbacks()\n",
       "          }\n",
       "        };\n",
       "        s.onerror = function() {\n",
       "          console.warn(\"failed to load library \" + url);\n",
       "        };\n",
       "        console.log(\"Bokeh: injecting script tag for BokehJS library: \", url);\n",
       "        document.getElementsByTagName(\"head\")[0].appendChild(s);\n",
       "      }\n",
       "    };var element = document.getElementById(\"4507ef42-8269-4430-8764-a6c3c6e60021\");\n",
       "    if (element == null) {\n",
       "      console.log(\"Bokeh: ERROR: autoload.js configured with elementid '4507ef42-8269-4430-8764-a6c3c6e60021' but no matching script tag was found. \")\n",
       "      return false;\n",
       "    }\n",
       "  \n",
       "    var js_urls = [];\n",
       "  \n",
       "    var inline_js = [\n",
       "      function(Bokeh) {\n",
       "        (function() {\n",
       "          var fn = function() {\n",
       "            var docs_json = {\"046726a5-3cda-4c27-b6a3-9fdf59380c73\":{\"roots\":{\"references\":[{\"attributes\":{\"format\":\"0%\"},\"id\":\"4ca50806-414d-4ef8-ba6b-a37442128ffb\",\"type\":\"NumeralTickFormatter\"},{\"attributes\":{\"dimension\":1,\"plot\":{\"id\":\"bcac0298-2462-4d57-876b-41109ac657b7\",\"subtype\":\"Figure\",\"type\":\"Plot\"},\"ticker\":{\"id\":\"1e28d7fd-eedb-4482-96b6-36077cc6e00b\",\"type\":\"CategoricalTicker\"}},\"id\":\"8ff7e7b8-3584-44c3-bc60-159a6858e9ab\",\"type\":\"Grid\"},{\"attributes\":{\"plot\":{\"id\":\"bcac0298-2462-4d57-876b-41109ac657b7\",\"subtype\":\"Figure\",\"type\":\"Plot\"}},\"id\":\"5ee3bc5a-3bf0-45dc-b9db-237c2b9832e1\",\"type\":\"HelpTool\"},{\"attributes\":{\"callback\":null},\"id\":\"aa7d3381-9374-4067-9d92-1e9a69bcc37b\",\"type\":\"Range1d\"},{\"attributes\":{\"level\":\"glyph\",\"plot\":{\"id\":\"bcac0298-2462-4d57-876b-41109ac657b7\",\"subtype\":\"Figure\",\"type\":\"Plot\"},\"source\":{\"id\":\"91820590-0a6f-4792-810c-8a63d2dd4eca\",\"type\":\"ColumnDataSource\"},\"text\":{\"field\":\"names\"},\"text_font_size\":{\"value\":\"7pt\"},\"x\":{\"field\":\"weight\"},\"x_offset\":{\"value\":10},\"y\":{\"field\":\"height\"},\"y_offset\":{\"value\":-1}},\"id\":\"1997d0d3-e523-4e75-b4b6-6fb4e27ce6c0\",\"type\":\"LabelSet\"},{\"attributes\":{\"line_color\":{\"value\":\"green\"},\"line_width\":{\"value\":2},\"x0\":{\"value\":0},\"x1\":{\"field\":\"x1\"},\"y0\":{\"field\":\"y0\"},\"y1\":{\"field\":\"y1\"}},\"id\":\"fa4ce132-d5ed-40e2-bdc2-59e9b620381e\",\"type\":\"Segment\"},{\"attributes\":{},\"id\":\"0b6fd0f7-b986-474b-bfbb-8572d2bf9aa4\",\"type\":\"BasicTicker\"},{\"attributes\":{\"data_source\":{\"id\":\"743ecb90-b041-4f55-86a3-285d1da79eb6\",\"type\":\"ColumnDataSource\"},\"glyph\":{\"id\":\"1d89c16d-a971-4e82-abb5-83f821157fa6\",\"type\":\"Circle\"},\"hover_glyph\":null,\"muted_glyph\":null,\"nonselection_glyph\":{\"id\":\"2e721973-2582-4137-9222-9ef3574aaa5e\",\"type\":\"Circle\"},\"selection_glyph\":null},\"id\":\"36d60248-b05f-4e5b-89e7-039f0dc0ec8c\",\"type\":\"GlyphRenderer\"},{\"attributes\":{\"line_alpha\":{\"value\":0.1},\"line_color\":{\"value\":\"#1f77b4\"},\"line_width\":{\"value\":2},\"x0\":{\"value\":0},\"x1\":{\"field\":\"x1\"},\"y0\":{\"field\":\"y0\"},\"y1\":{\"field\":\"y1\"}},\"id\":\"351ad74f-f888-4cfd-b0cd-08b4b5b3e1b0\",\"type\":\"Segment\"},{\"attributes\":{\"below\":[{\"id\":\"32fa3d1a-655a-4e31-8179-f5e53fb61790\",\"type\":\"LinearAxis\"}],\"left\":[{\"id\":\"772df8f0-07d4-4c50-8942-108c71589f82\",\"type\":\"CategoricalAxis\"}],\"renderers\":[{\"id\":\"32fa3d1a-655a-4e31-8179-f5e53fb61790\",\"type\":\"LinearAxis\"},{\"id\":\"b623d440-a2e0-4ff7-baeb-a166ca3a4928\",\"type\":\"Grid\"},{\"id\":\"772df8f0-07d4-4c50-8942-108c71589f82\",\"type\":\"CategoricalAxis\"},{\"id\":\"8ff7e7b8-3584-44c3-bc60-159a6858e9ab\",\"type\":\"Grid\"},{\"id\":\"2205e43d-7e02-46be-9c85-6b3bdfbf3183\",\"type\":\"BoxAnnotation\"},{\"id\":\"7817c3d7-85db-4f28-8b41-352b4f68a26a\",\"type\":\"GlyphRenderer\"},{\"id\":\"36d60248-b05f-4e5b-89e7-039f0dc0ec8c\",\"type\":\"GlyphRenderer\"},{\"id\":\"1997d0d3-e523-4e75-b4b6-6fb4e27ce6c0\",\"type\":\"LabelSet\"}],\"title\":{\"id\":\"1d26a68b-d01b-4b93-b7e2-30532cc588dc\",\"type\":\"Title\"},\"tool_events\":{\"id\":\"c7252f8e-2a04-475b-961a-fce84aa9e3e6\",\"type\":\"ToolEvents\"},\"toolbar\":{\"id\":\"be6eb035-6d4c-495d-95f9-bce6179b6d2f\",\"type\":\"Toolbar\"},\"x_range\":{\"id\":\"aa7d3381-9374-4067-9d92-1e9a69bcc37b\",\"type\":\"Range1d\"},\"y_range\":{\"id\":\"3aabbc87-2325-4ee0-a88d-552e774fcd87\",\"type\":\"FactorRange\"}},\"id\":\"bcac0298-2462-4d57-876b-41109ac657b7\",\"subtype\":\"Figure\",\"type\":\"Plot\"},{\"attributes\":{\"bottom_units\":\"screen\",\"fill_alpha\":{\"value\":0.5},\"fill_color\":{\"value\":\"lightgrey\"},\"left_units\":\"screen\",\"level\":\"overlay\",\"line_alpha\":{\"value\":1.0},\"line_color\":{\"value\":\"black\"},\"line_dash\":[4,4],\"line_width\":{\"value\":2},\"plot\":null,\"render_mode\":\"css\",\"right_units\":\"screen\",\"top_units\":\"screen\"},\"id\":\"2205e43d-7e02-46be-9c85-6b3bdfbf3183\",\"type\":\"BoxAnnotation\"},{\"attributes\":{\"plot\":{\"id\":\"bcac0298-2462-4d57-876b-41109ac657b7\",\"subtype\":\"Figure\",\"type\":\"Plot\"}},\"id\":\"c51a8df2-f9a9-4387-b1e7-fb2e4030b59d\",\"type\":\"WheelZoomTool\"},{\"attributes\":{},\"id\":\"0106c2cb-88a6-4c75-8133-1896fe913feb\",\"type\":\"CategoricalTickFormatter\"},{\"attributes\":{\"callback\":null,\"column_names\":[\"x1\",\"y0\",\"y1\"],\"data\":{\"x1\":[0.05,0.06,0.06,0.06,0.06,0.06,0.06,0.07,0.07,0.07,0.08,0.08,0.09,0.09,0.09,0.1,0.12,0.13,0.14,0.14,0.15,0.16,0.18,0.22,0.23,0.26,0.27,0.27,0.33,0.41],\"y0\":[\"cream cheese\",\"oregano\",\"soy sauce\",\"sour cream\",\"cheddar cheese\",\"beef\",\"lemon juice\",\"tomato\",\"parsley\",\"garlic powder\",\"parmesan cheese\",\"chicken breast\",\"baking powder\",\"cinnamon\",\"baking soda\",\"salt pepper\",\"brown sugar\",\"vegetable oil\",\"olive oil\",\"vanilla extract\",\"water\",\"milk\",\"black pepper\",\"garlic\",\"onion\",\"flour\",\"white sugar\",\"egg\",\"butter\",\"salt\"],\"y1\":[\"cream cheese\",\"oregano\",\"soy sauce\",\"sour cream\",\"cheddar cheese\",\"beef\",\"lemon juice\",\"tomato\",\"parsley\",\"garlic powder\",\"parmesan cheese\",\"chicken breast\",\"baking powder\",\"cinnamon\",\"baking soda\",\"salt pepper\",\"brown sugar\",\"vegetable oil\",\"olive oil\",\"vanilla extract\",\"water\",\"milk\",\"black pepper\",\"garlic\",\"onion\",\"flour\",\"white sugar\",\"egg\",\"butter\",\"salt\"]}},\"id\":\"3d608f96-f312-48d7-8836-074e5d3d1957\",\"type\":\"ColumnDataSource\"},{\"attributes\":{\"callback\":null,\"column_names\":[\"height\",\"names\",\"weight\"],\"data\":{\"height\":[\"cream cheese\",\"oregano\",\"soy sauce\",\"sour cream\",\"cheddar cheese\",\"beef\",\"lemon juice\",\"tomato\",\"parsley\",\"garlic powder\",\"parmesan cheese\",\"chicken breast\",\"baking powder\",\"cinnamon\",\"baking soda\",\"salt pepper\",\"brown sugar\",\"vegetable oil\",\"olive oil\",\"vanilla extract\",\"water\",\"milk\",\"black pepper\",\"garlic\",\"onion\",\"flour\",\"white sugar\",\"egg\",\"butter\",\"salt\"],\"names\":[\"5%\",\"6%\",\"6%\",\"6%\",\"6%\",\"6%\",\"6%\",\"7%\",\"7%\",\"7%\",\"8%\",\"8%\",\"9%\",\"9%\",\"9%\",\"10%\",\"12%\",\"13%\",\"14%\",\"14%\",\"15%\",\"16%\",\"18%\",\"22%\",\"23%\",\"26%\",\"27%\",\"27%\",\"33%\",\"41%\"],\"weight\":[0.05,0.06,0.06,0.06,0.06,0.06,0.06,0.07,0.07,0.07,0.08,0.08,0.09,0.09,0.09,0.1,0.12,0.13,0.14,0.14,0.15,0.16,0.18,0.22,0.23,0.26,0.27,0.27,0.33,0.41]}},\"id\":\"91820590-0a6f-4792-810c-8a63d2dd4eca\",\"type\":\"ColumnDataSource\"},{\"attributes\":{\"formatter\":{\"id\":\"0106c2cb-88a6-4c75-8133-1896fe913feb\",\"type\":\"CategoricalTickFormatter\"},\"plot\":{\"id\":\"bcac0298-2462-4d57-876b-41109ac657b7\",\"subtype\":\"Figure\",\"type\":\"Plot\"},\"ticker\":{\"id\":\"1e28d7fd-eedb-4482-96b6-36077cc6e00b\",\"type\":\"CategoricalTicker\"}},\"id\":\"772df8f0-07d4-4c50-8942-108c71589f82\",\"type\":\"CategoricalAxis\"},{\"attributes\":{\"formatter\":{\"id\":\"4ca50806-414d-4ef8-ba6b-a37442128ffb\",\"type\":\"NumeralTickFormatter\"},\"plot\":{\"id\":\"bcac0298-2462-4d57-876b-41109ac657b7\",\"subtype\":\"Figure\",\"type\":\"Plot\"},\"ticker\":{\"id\":\"0b6fd0f7-b986-474b-bfbb-8572d2bf9aa4\",\"type\":\"BasicTicker\"}},\"id\":\"32fa3d1a-655a-4e31-8179-f5e53fb61790\",\"type\":\"LinearAxis\"},{\"attributes\":{\"callback\":null,\"factors\":[\"cream cheese\",\"oregano\",\"soy sauce\",\"sour cream\",\"cheddar cheese\",\"beef\",\"lemon juice\",\"tomato\",\"parsley\",\"garlic powder\",\"parmesan cheese\",\"chicken breast\",\"baking powder\",\"cinnamon\",\"baking soda\",\"salt pepper\",\"brown sugar\",\"vegetable oil\",\"olive oil\",\"vanilla extract\",\"water\",\"milk\",\"black pepper\",\"garlic\",\"onion\",\"flour\",\"white sugar\",\"egg\",\"butter\",\"salt\"]},\"id\":\"3aabbc87-2325-4ee0-a88d-552e774fcd87\",\"type\":\"FactorRange\"},{\"attributes\":{},\"id\":\"c7252f8e-2a04-475b-961a-fce84aa9e3e6\",\"type\":\"ToolEvents\"},{\"attributes\":{\"fill_color\":{\"value\":\"orange\"},\"line_color\":{\"value\":\"green\"},\"line_width\":{\"value\":3},\"size\":{\"units\":\"screen\",\"value\":15},\"x\":{\"field\":\"x\"},\"y\":{\"field\":\"y\"}},\"id\":\"1d89c16d-a971-4e82-abb5-83f821157fa6\",\"type\":\"Circle\"},{\"attributes\":{\"plot\":{\"id\":\"bcac0298-2462-4d57-876b-41109ac657b7\",\"subtype\":\"Figure\",\"type\":\"Plot\"}},\"id\":\"ccfcfa5c-f49a-47fc-9e27-7ca31258fa98\",\"type\":\"SaveTool\"},{\"attributes\":{\"plot\":null,\"text\":\"Most Popular 30 Ingredients\"},\"id\":\"1d26a68b-d01b-4b93-b7e2-30532cc588dc\",\"type\":\"Title\"},{\"attributes\":{\"callback\":null,\"column_names\":[\"y\",\"x\"],\"data\":{\"x\":[0.05,0.06,0.06,0.06,0.06,0.06,0.06,0.07,0.07,0.07,0.08,0.08,0.09,0.09,0.09,0.1,0.12,0.13,0.14,0.14,0.15,0.16,0.18,0.22,0.23,0.26,0.27,0.27,0.33,0.41],\"y\":[\"cream cheese\",\"oregano\",\"soy sauce\",\"sour cream\",\"cheddar cheese\",\"beef\",\"lemon juice\",\"tomato\",\"parsley\",\"garlic powder\",\"parmesan cheese\",\"chicken breast\",\"baking powder\",\"cinnamon\",\"baking soda\",\"salt pepper\",\"brown sugar\",\"vegetable oil\",\"olive oil\",\"vanilla extract\",\"water\",\"milk\",\"black pepper\",\"garlic\",\"onion\",\"flour\",\"white sugar\",\"egg\",\"butter\",\"salt\"]}},\"id\":\"743ecb90-b041-4f55-86a3-285d1da79eb6\",\"type\":\"ColumnDataSource\"},{\"attributes\":{\"plot\":{\"id\":\"bcac0298-2462-4d57-876b-41109ac657b7\",\"subtype\":\"Figure\",\"type\":\"Plot\"},\"ticker\":{\"id\":\"0b6fd0f7-b986-474b-bfbb-8572d2bf9aa4\",\"type\":\"BasicTicker\"}},\"id\":\"b623d440-a2e0-4ff7-baeb-a166ca3a4928\",\"type\":\"Grid\"},{\"attributes\":{},\"id\":\"1e28d7fd-eedb-4482-96b6-36077cc6e00b\",\"type\":\"CategoricalTicker\"},{\"attributes\":{\"fill_alpha\":{\"value\":0.1},\"fill_color\":{\"value\":\"#1f77b4\"},\"line_alpha\":{\"value\":0.1},\"line_color\":{\"value\":\"#1f77b4\"},\"line_width\":{\"value\":3},\"size\":{\"units\":\"screen\",\"value\":15},\"x\":{\"field\":\"x\"},\"y\":{\"field\":\"y\"}},\"id\":\"2e721973-2582-4137-9222-9ef3574aaa5e\",\"type\":\"Circle\"},{\"attributes\":{\"data_source\":{\"id\":\"3d608f96-f312-48d7-8836-074e5d3d1957\",\"type\":\"ColumnDataSource\"},\"glyph\":{\"id\":\"fa4ce132-d5ed-40e2-bdc2-59e9b620381e\",\"type\":\"Segment\"},\"hover_glyph\":null,\"muted_glyph\":null,\"nonselection_glyph\":{\"id\":\"351ad74f-f888-4cfd-b0cd-08b4b5b3e1b0\",\"type\":\"Segment\"},\"selection_glyph\":null},\"id\":\"7817c3d7-85db-4f28-8b41-352b4f68a26a\",\"type\":\"GlyphRenderer\"},{\"attributes\":{\"overlay\":{\"id\":\"2205e43d-7e02-46be-9c85-6b3bdfbf3183\",\"type\":\"BoxAnnotation\"},\"plot\":{\"id\":\"bcac0298-2462-4d57-876b-41109ac657b7\",\"subtype\":\"Figure\",\"type\":\"Plot\"}},\"id\":\"4a23ca6a-8b57-4415-983e-f9bef3c2dc5d\",\"type\":\"BoxZoomTool\"},{\"attributes\":{\"plot\":{\"id\":\"bcac0298-2462-4d57-876b-41109ac657b7\",\"subtype\":\"Figure\",\"type\":\"Plot\"}},\"id\":\"51e16a65-3f27-4faf-a30b-90225005607e\",\"type\":\"PanTool\"},{\"attributes\":{\"plot\":{\"id\":\"bcac0298-2462-4d57-876b-41109ac657b7\",\"subtype\":\"Figure\",\"type\":\"Plot\"}},\"id\":\"1795645c-c5db-4a7c-8e81-d9822e9fd09d\",\"type\":\"ResetTool\"},{\"attributes\":{\"active_drag\":\"auto\",\"active_scroll\":\"auto\",\"active_tap\":\"auto\",\"tools\":[{\"id\":\"51e16a65-3f27-4faf-a30b-90225005607e\",\"type\":\"PanTool\"},{\"id\":\"c51a8df2-f9a9-4387-b1e7-fb2e4030b59d\",\"type\":\"WheelZoomTool\"},{\"id\":\"4a23ca6a-8b57-4415-983e-f9bef3c2dc5d\",\"type\":\"BoxZoomTool\"},{\"id\":\"ccfcfa5c-f49a-47fc-9e27-7ca31258fa98\",\"type\":\"SaveTool\"},{\"id\":\"1795645c-c5db-4a7c-8e81-d9822e9fd09d\",\"type\":\"ResetTool\"},{\"id\":\"5ee3bc5a-3bf0-45dc-b9db-237c2b9832e1\",\"type\":\"HelpTool\"}]},\"id\":\"be6eb035-6d4c-495d-95f9-bce6179b6d2f\",\"type\":\"Toolbar\"}],\"root_ids\":[\"bcac0298-2462-4d57-876b-41109ac657b7\"]},\"title\":\"Bokeh Application\",\"version\":\"0.12.5\"}};\n",
       "            var render_items = [{\"docid\":\"046726a5-3cda-4c27-b6a3-9fdf59380c73\",\"elementid\":\"4507ef42-8269-4430-8764-a6c3c6e60021\",\"modelid\":\"bcac0298-2462-4d57-876b-41109ac657b7\"}];\n",
       "            \n",
       "            Bokeh.embed.embed_items(docs_json, render_items);\n",
       "          };\n",
       "          if (document.readyState != \"loading\") fn();\n",
       "          else document.addEventListener(\"DOMContentLoaded\", fn);\n",
       "        })();\n",
       "      },\n",
       "      function(Bokeh) {\n",
       "      }\n",
       "    ];\n",
       "  \n",
       "    function run_inline_js() {\n",
       "      \n",
       "      if ((window.Bokeh !== undefined) || (force === true)) {\n",
       "        for (var i = 0; i < inline_js.length; i++) {\n",
       "          inline_js[i](window.Bokeh);\n",
       "        }if (force === true) {\n",
       "          display_loaded();\n",
       "        }} else if (Date.now() < window._bokeh_timeout) {\n",
       "        setTimeout(run_inline_js, 100);\n",
       "      } else if (!window._bokeh_failed_load) {\n",
       "        console.log(\"Bokeh: BokehJS failed to load within specified timeout.\");\n",
       "        window._bokeh_failed_load = true;\n",
       "      } else if (force !== true) {\n",
       "        var cell = $(document.getElementById(\"4507ef42-8269-4430-8764-a6c3c6e60021\")).parents('.cell').data().cell;\n",
       "        cell.output_area.append_execute_result(NB_LOAD_WARNING)\n",
       "      }\n",
       "  \n",
       "    }\n",
       "  \n",
       "    if (window._bokeh_is_loading === 0) {\n",
       "      console.log(\"Bokeh: BokehJS loaded, going straight to plotting\");\n",
       "      run_inline_js();\n",
       "    } else {\n",
       "      load_libs(js_urls, function() {\n",
       "        console.log(\"Bokeh: BokehJS plotting callback run at\", now());\n",
       "        run_inline_js();\n",
       "      });\n",
       "    }\n",
       "  }(this));\n",
       "</script>"
      ]
     },
     "metadata": {},
     "output_type": "display_data"
    }
   ],
   "source": [
    "show(p)"
   ]
  },
  {
   "cell_type": "markdown",
   "metadata": {
    "deletable": true,
    "editable": true
   },
   "source": [
    "#### Filter out Rare Ingredients"
   ]
  },
  {
   "cell_type": "code",
   "execution_count": 1565,
   "metadata": {
    "collapsed": false,
    "deletable": true,
    "editable": true
   },
   "outputs": [],
   "source": [
    "min_10recp_ingredients = [x[0] for x in ingredient_frequency if x[1] >= 10 and len(x[0]) > 2 ]"
   ]
  },
  {
   "cell_type": "code",
   "execution_count": 1566,
   "metadata": {
    "collapsed": false,
    "deletable": true,
    "editable": true
   },
   "outputs": [],
   "source": [
    "nof_eliminated = 0\n",
    "total_eliminated = 0\n",
    "updated_recipe_dic = {}\n",
    "for recipe, ingredients in recipe_dic.items():\n",
    "    selected_ingredients = set(ingredients).intersection(set(min_10recp_ingredients))\n",
    "    if len(ingredients) - len(selected_ingredients)  != 0:\n",
    "        nof_eliminated += 1\n",
    "        total_eliminated += len(ingredients) - len(selected_ingredients) \n",
    "    updated_recipe_dic[recipe] = selected_ingredients"
   ]
  },
  {
   "cell_type": "markdown",
   "metadata": {
    "deletable": true,
    "editable": true
   },
   "source": [
    "Percentage of recipes having a non-standard ingredient:"
   ]
  },
  {
   "cell_type": "code",
   "execution_count": 1567,
   "metadata": {
    "collapsed": false,
    "deletable": true,
    "editable": true
   },
   "outputs": [
    {
     "data": {
      "text/plain": [
       "0.57"
      ]
     },
     "execution_count": 1567,
     "metadata": {},
     "output_type": "execute_result"
    }
   ],
   "source": [
    "round(nof_eliminated / len(recipe_dic.items()),2)"
   ]
  },
  {
   "cell_type": "markdown",
   "metadata": {
    "deletable": true,
    "editable": true
   },
   "source": [
    "Average number of ingredients dropped from recipes:"
   ]
  },
  {
   "cell_type": "code",
   "execution_count": 1568,
   "metadata": {
    "collapsed": false,
    "deletable": true,
    "editable": true
   },
   "outputs": [
    {
     "data": {
      "text/plain": [
       "1.6"
      ]
     },
     "execution_count": 1568,
     "metadata": {},
     "output_type": "execute_result"
    }
   ],
   "source": [
    "round(total_eliminated / nof_eliminated ,2)"
   ]
  },
  {
   "cell_type": "markdown",
   "metadata": {
    "deletable": true,
    "editable": true
   },
   "source": [
    "## Ingredient Assosication"
   ]
  },
  {
   "cell_type": "markdown",
   "metadata": {
    "deletable": true,
    "editable": true
   },
   "source": [
    "Get the flatten list of essential ingredients after filtering the rare ones"
   ]
  },
  {
   "cell_type": "code",
   "execution_count": 1569,
   "metadata": {
    "collapsed": true,
    "deletable": true,
    "editable": true
   },
   "outputs": [],
   "source": [
    "essential_ingredients = [ingredient for ingredient in updated_recipe_dic.values()]"
   ]
  },
  {
   "cell_type": "code",
   "execution_count": 1570,
   "metadata": {
    "collapsed": true,
    "deletable": true,
    "editable": true
   },
   "outputs": [],
   "source": [
    "ingredient_matrix, vocabulary = get_matrix_form(essential_ingredients)\n",
    "word_counts = ingredient_matrix.sum(axis=0)\n",
    "sorted_indicies = np.argsort(word_counts)[::-1]\n",
    "word_counts = np.array(list(map(lambda x: int(x),word_counts)))"
   ]
  },
  {
   "cell_type": "markdown",
   "metadata": {
    "deletable": true,
    "editable": true
   },
   "source": [
    "Calculate the co-occurance matrix"
   ]
  },
  {
   "cell_type": "code",
   "execution_count": 1571,
   "metadata": {
    "collapsed": false,
    "deletable": true,
    "editable": true
   },
   "outputs": [],
   "source": [
    "cooccurrence_matrix = np.dot(ingredient_matrix.transpose(),ingredient_matrix)\n",
    "cooccurrence_matrix_diagonal = np.diagonal(cooccurrence_matrix)\n",
    "#print('\\ncooccurrence_matrix:\\n{0}'.format(cooccurrence_matrix)) "
   ]
  },
  {
   "cell_type": "markdown",
   "metadata": {
    "deletable": true,
    "editable": true
   },
   "source": [
    "Ensure that there is no mistake in matrix calculations"
   ]
  },
  {
   "cell_type": "code",
   "execution_count": 1572,
   "metadata": {
    "collapsed": false,
    "deletable": true,
    "editable": true
   },
   "outputs": [],
   "source": [
    "assert sum(cooccurrence_matrix_diagonal != ingredient_matrix.sum(axis=0)) ==0, \"There is a mistake in ingredient lists or matrix multiplication\""
   ]
  },
  {
   "cell_type": "markdown",
   "metadata": {},
   "source": [
    "Calculate the Conditional Probabilities"
   ]
  },
  {
   "cell_type": "code",
   "execution_count": 1573,
   "metadata": {
    "collapsed": false,
    "deletable": true,
    "editable": true
   },
   "outputs": [],
   "source": [
    "with np.errstate(divide='ignore', invalid='ignore'):\n",
    "        cooccurrence_matrix_percentage = np.nan_to_num(np.true_divide(cooccurrence_matrix, cooccurrence_matrix_diagonal[:, None]))\n",
    "#print('\\ncooccurrence_matrix_percentage:\\n{0}'.format(cooccurrence_matrix_percentage))\n"
   ]
  },
  {
   "cell_type": "markdown",
   "metadata": {},
   "source": [
    "## Test Ingredient Replacement"
   ]
  },
  {
   "cell_type": "code",
   "execution_count": 1574,
   "metadata": {
    "collapsed": false,
    "deletable": true,
    "editable": true
   },
   "outputs": [
    {
     "name": "stdout",
     "output_type": "stream",
     "text": [
      " Recipe: White Chocolate Blondies\n",
      " Ingredients: {'white chocolate', 'butter', 'egg', 'vanilla extract', 'flour', 'semisweet chocolate chip', 'white sugar', 'salt'}\n"
     ]
    }
   ],
   "source": [
    "recipe, ingredients = random.choice(list(updated_recipe_dic.items()))\n",
    "print (\" Recipe: \" + recipe)\n",
    "print (\" Ingredients: \" + str(ingredients))"
   ]
  },
  {
   "cell_type": "code",
   "execution_count": 1575,
   "metadata": {
    "collapsed": false,
    "deletable": true,
    "editable": true
   },
   "outputs": [
    {
     "name": "stdout",
     "output_type": "stream",
     "text": [
      "Ingredients to replace: ['egg' 'vanilla extract' 'white chocolate' 'butter' 'white sugar'\n",
      " 'semisweet chocolate chip' 'salt']\n"
     ]
    }
   ],
   "source": [
    "to_replace = np.random.choice(list(ingredients), np.random.randint(low=1, high=len(ingredients)),replace=False)\n",
    "print (\"Ingredients to replace: \" + str(to_replace))"
   ]
  },
  {
   "cell_type": "code",
   "execution_count": 1576,
   "metadata": {
    "collapsed": false,
    "deletable": true,
    "editable": true
   },
   "outputs": [],
   "source": [
    "indicies = [int(np.where(ingredient == vocabulary)[0]) for ingredient in  ingredients]\n",
    "to_replace_indicies = [int(np.where(ingredient == vocabulary)[0]) for ingredient in  to_replace]"
   ]
  },
  {
   "cell_type": "code",
   "execution_count": 1577,
   "metadata": {
    "collapsed": false,
    "deletable": true,
    "editable": true
   },
   "outputs": [],
   "source": [
    "conditional_probabilities = np.prod(cooccurrence_matrix_percentage[indicies], axis=0)"
   ]
  },
  {
   "cell_type": "code",
   "execution_count": 1578,
   "metadata": {
    "collapsed": false,
    "deletable": true,
    "editable": true
   },
   "outputs": [],
   "source": [
    "sorted_ingredient_indicies = np.argsort(conditional_probabilities)[::-1]"
   ]
  },
  {
   "cell_type": "code",
   "execution_count": 1579,
   "metadata": {
    "collapsed": false
   },
   "outputs": [],
   "source": [
    "complimentary_ingredients = [ing_index for ing_index in sorted_ingredient_indicies if not ing_index in indicies]"
   ]
  },
  {
   "cell_type": "code",
   "execution_count": 1580,
   "metadata": {
    "collapsed": false,
    "deletable": true,
    "editable": true
   },
   "outputs": [],
   "source": [
    "new_ingredients = vocabulary[complimentary_ingredients[:len(to_replace_indicies)]]"
   ]
  },
  {
   "cell_type": "code",
   "execution_count": 1581,
   "metadata": {
    "collapsed": false
   },
   "outputs": [
    {
     "name": "stdout",
     "output_type": "stream",
     "text": [
      "Original Recipe: \n",
      "white chocolate , butter , egg , vanilla extract , flour , semisweet chocolate chip , white sugar , salt\n"
     ]
    }
   ],
   "source": [
    "print (\"Original Recipe: \\n\" + \" , \".join(ingredients))"
   ]
  },
  {
   "cell_type": "code",
   "execution_count": 1582,
   "metadata": {
    "collapsed": false
   },
   "outputs": [
    {
     "name": "stdout",
     "output_type": "stream",
     "text": [
      "Ingredients dropped: \n",
      "egg - vanilla extract - white chocolate - butter - white sugar - semisweet chocolate chip - salt\n"
     ]
    }
   ],
   "source": [
    "print (\"Ingredients dropped: \\n\" + \" - \".join(to_replace))"
   ]
  },
  {
   "cell_type": "code",
   "execution_count": 1583,
   "metadata": {
    "collapsed": false
   },
   "outputs": [
    {
     "name": "stdout",
     "output_type": "stream",
     "text": [
      "New Ingredients added: \n",
      "baking soda + baking powder + brown sugar + cinnamon + vegetable oil + walnut + confectioner sugar\n"
     ]
    }
   ],
   "source": [
    "print (\"New Ingredients added: \\n\" + \" + \".join(new_ingredients))"
   ]
  },
  {
   "cell_type": "code",
   "execution_count": 1584,
   "metadata": {
    "collapsed": false
   },
   "outputs": [
    {
     "name": "stdout",
     "output_type": "stream",
     "text": [
      "New recipe: \n",
      "baking soda ** baking powder ** brown sugar ** cinnamon ** vegetable oil ** walnut ** confectioner sugar ** flour\n"
     ]
    }
   ],
   "source": [
    "print (\"New recipe: \\n\" + \" ** \".join(new_ingredients) + \" ** \" + \" ** \".join(set(ingredients).difference( set(to_replace))))"
   ]
  },
  {
   "cell_type": "markdown",
   "metadata": {
    "deletable": true,
    "editable": true
   },
   "source": [
    "## Network Analysis"
   ]
  },
  {
   "cell_type": "markdown",
   "metadata": {
    "deletable": true,
    "editable": true
   },
   "source": [
    "Create a graph"
   ]
  },
  {
   "cell_type": "code",
   "execution_count": 1585,
   "metadata": {
    "collapsed": false,
    "deletable": true,
    "editable": true
   },
   "outputs": [],
   "source": [
    "G=nx.Graph()\n",
    "for ingredients in updated_recipe_dic.values():\n",
    "    G.add_nodes_from(ingredients)\n",
    "    G.add_edges_from(list(itertools.combinations(list(ingredients), 2)))"
   ]
  },
  {
   "cell_type": "code",
   "execution_count": 1586,
   "metadata": {
    "collapsed": false,
    "deletable": true,
    "editable": true
   },
   "outputs": [],
   "source": [
    "import matplotlib.pyplot as plt\n",
    "plt.style.use('seaborn-paper')"
   ]
  },
  {
   "cell_type": "code",
   "execution_count": 1587,
   "metadata": {
    "collapsed": false,
    "deletable": true,
    "editable": true
   },
   "outputs": [],
   "source": [
    "d = nx.degree(G)"
   ]
  },
  {
   "cell_type": "code",
   "execution_count": 1588,
   "metadata": {
    "collapsed": false,
    "deletable": true,
    "editable": true
   },
   "outputs": [],
   "source": [
    "import operator\n",
    "sorted_x = sorted(d.items(), key=operator.itemgetter(1))[::-1]"
   ]
  },
  {
   "cell_type": "code",
   "execution_count": 1590,
   "metadata": {
    "collapsed": false,
    "deletable": true,
    "editable": true
   },
   "outputs": [
    {
     "data": {
      "image/png": "[encoded data removed]",
      "text/plain": [
       "<matplotlib.figure.Figure at 0x19abff6a0>"
      ]
     },
     "metadata": {},
     "output_type": "display_data"
    }
   ],
   "source": [
    "plt.axis('off')\n",
    "\n",
    "nlist = [x[0] for x in sorted_x[20:]]\n",
    "ndegree = [x[1] for x in sorted_x[20:]]\n",
    "pos = nx.random_layout(G)\n",
    "\n",
    "nx.draw_networkx_nodes(G,pos,nodelist=nlist, node_color=\"green\",with_labels=False,node_size=ndegree, alpha=0.3)\n",
    "#nx.draw_networkx_nodes(G,pos, node_color=\"blue\",with_labels=True,node_size=[v * 10 for v in d.values()], alpha=0.7)\n",
    "nx.draw_networkx_labels(G,pos,dict(zip(nlist,nlist)),font_size=6, font_color=\"white\")\n",
    "nx.draw_networkx_edges(G, pos,nodelist=nlist,edge_color=\"white\");\n",
    "\n",
    "pos = nx.shell_layout(G)\n",
    "#nx.draw(G, nodelist=d.keys(), node_size=[v * 100 for v in d.values()])\n",
    "\n",
    "nlist = [x[0] for x in sorted_x[:10]]\n",
    "ndegree = [x[1] * 10 for x in sorted_x[:10]]\n",
    "nx.draw_networkx_nodes(G,pos,nodelist=nlist, node_color=\"black\",with_labels=False,node_size=ndegree, alpha=0.9)\n",
    "#nx.draw_networkx_nodes(G,pos, node_color=\"blue\",with_labels=True,node_size=[v * 10 for v in d.values()], alpha=0.7)\n",
    "nx.draw_networkx_labels(G,pos,dict(zip(nlist,nlist)),font_size=10, font_color=\"white\")\n",
    "nx.draw_networkx_edges(G, pos,nodelist=nlist,edge_color=\"white\");\n",
    "\n",
    "nlist = [x[0] for x in sorted_x[10:20]]\n",
    "ndegree = [x[1] * 3 for x in sorted_x[10:20]]\n",
    "\n",
    "nx.draw_networkx_nodes(G,pos,nodelist=nlist, node_color=\"red\",with_labels=False,node_size=ndegree, alpha=0.7)\n",
    "#nx.draw_networkx_nodes(G,pos, node_color=\"blue\",with_labels=True,node_size=[v * 10 for v in d.values()], alpha=0.7)\n",
    "nx.draw_networkx_labels(G,pos,dict(zip(nlist,nlist)),font_size=10, font_color=\"white\")\n",
    "nx.draw_networkx_edges(G, pos,nodelist=nlist,edge_color=\"white\");\n",
    "\n"
   ]
  }
 ],
 "metadata": {
  "anaconda-cloud": {},
  "kernelspec": {
   "display_name": "Python 3",
   "language": "python",
   "name": "python3"
  },
  "language_info": {
   "codemirror_mode": {
    "name": "ipython",
    "version": 3
   },
   "file_extension": ".py",
   "mimetype": "text/x-python",
   "name": "python",
   "nbconvert_exporter": "python",
   "pygments_lexer": "ipython3",
   "version": "3.5.3"
  }
 },
 "nbformat": 4,
 "nbformat_minor": 1
}
