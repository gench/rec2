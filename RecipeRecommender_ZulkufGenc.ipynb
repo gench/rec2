{
 "cells": [
  {
   "cell_type": "markdown",
   "metadata": {
    "deletable": true,
    "editable": true
   },
   "source": [
    "# Recipe Recommender Capstone Project"
   ]
  },
  {
   "cell_type": "markdown",
   "metadata": {
    "deletable": true,
    "editable": true
   },
   "source": [
    "** Task: ** Given a recipe from the existing data set that you have, suggest another recipe by replacing n (random) ingredients. The new recipe should:\n",
    "- “make sense” according to certain standards of taste\n",
    "- not be a subset of ingredients of an existing recipe in the dataset"
   ]
  },
  {
   "cell_type": "markdown",
   "metadata": {
    "deletable": true,
    "editable": true
   },
   "source": [
    "## Data Cleaning"
   ]
  },
  {
   "cell_type": "markdown",
   "metadata": {
    "deletable": true,
    "editable": true
   },
   "source": [
    "The data has been scrapped from http://allrecipes.com/. It consists of over 7K recipes and 2.5M reviews."
   ]
  },
  {
   "cell_type": "code",
   "execution_count": 1,
   "metadata": {
    "collapsed": false
   },
   "outputs": [
    {
     "data": {
      "text/html": [
       "\n",
       "    <div class=\"bk-root\">\n",
       "        <a href=\"http://bokeh.pydata.org\" target=\"_blank\" class=\"bk-logo bk-logo-small bk-logo-notebook\"></a>\n",
       "        <span id=\"602e073e-5205-4e91-ad42-cd69774c990f\">Loading BokehJS ...</span>\n",
       "    </div>"
      ]
     },
     "metadata": {},
     "output_type": "display_data"
    },
    {
     "data": {
      "application/javascript": [
       "\n",
       "(function(global) {\n",
       "  function now() {\n",
       "    return new Date();\n",
       "  }\n",
       "\n",
       "  var force = true;\n",
       "\n",
       "  if (typeof (window._bokeh_onload_callbacks) === \"undefined\" || force === true) {\n",
       "    window._bokeh_onload_callbacks = [];\n",
       "    window._bokeh_is_loading = undefined;\n",
       "  }\n",
       "\n",
       "\n",
       "  \n",
       "  if (typeof (window._bokeh_timeout) === \"undefined\" || force === true) {\n",
       "    window._bokeh_timeout = Date.now() + 5000;\n",
       "    window._bokeh_failed_load = false;\n",
       "  }\n",
       "\n",
       "  var NB_LOAD_WARNING = {'data': {'text/html':\n",
       "     \"<div style='background-color: #fdd'>\\n\"+\n",
       "     \"<p>\\n\"+\n",
       "     \"BokehJS does not appear to have successfully loaded. If loading BokehJS from CDN, this \\n\"+\n",
       "     \"may be due to a slow or bad network connection. Possible fixes:\\n\"+\n",
       "     \"</p>\\n\"+\n",
       "     \"<ul>\\n\"+\n",
       "     \"<li>re-rerun `output_notebook()` to attempt to load from CDN again, or</li>\\n\"+\n",
       "     \"<li>use INLINE resources instead, as so:</li>\\n\"+\n",
       "     \"</ul>\\n\"+\n",
       "     \"<code>\\n\"+\n",
       "     \"from bokeh.resources import INLINE\\n\"+\n",
       "     \"output_notebook(resources=INLINE)\\n\"+\n",
       "     \"</code>\\n\"+\n",
       "     \"</div>\"}};\n",
       "\n",
       "  function display_loaded() {\n",
       "    if (window.Bokeh !== undefined) {\n",
       "      var el = document.getElementById(\"602e073e-5205-4e91-ad42-cd69774c990f\");\n",
       "      el.textContent = \"BokehJS \" + Bokeh.version + \" successfully loaded.\";\n",
       "    } else if (Date.now() < window._bokeh_timeout) {\n",
       "      setTimeout(display_loaded, 100)\n",
       "    }\n",
       "  }\n",
       "\n",
       "  function run_callbacks() {\n",
       "    window._bokeh_onload_callbacks.forEach(function(callback) { callback() });\n",
       "    delete window._bokeh_onload_callbacks\n",
       "    console.info(\"Bokeh: all callbacks have finished\");\n",
       "  }\n",
       "\n",
       "  function load_libs(js_urls, callback) {\n",
       "    window._bokeh_onload_callbacks.push(callback);\n",
       "    if (window._bokeh_is_loading > 0) {\n",
       "      console.log(\"Bokeh: BokehJS is being loaded, scheduling callback at\", now());\n",
       "      return null;\n",
       "    }\n",
       "    if (js_urls == null || js_urls.length === 0) {\n",
       "      run_callbacks();\n",
       "      return null;\n",
       "    }\n",
       "    console.log(\"Bokeh: BokehJS not loaded, scheduling load and callback at\", now());\n",
       "    window._bokeh_is_loading = js_urls.length;\n",
       "    for (var i = 0; i < js_urls.length; i++) {\n",
       "      var url = js_urls[i];\n",
       "      var s = document.createElement('script');\n",
       "      s.src = url;\n",
       "      s.async = false;\n",
       "      s.onreadystatechange = s.onload = function() {\n",
       "        window._bokeh_is_loading--;\n",
       "        if (window._bokeh_is_loading === 0) {\n",
       "          console.log(\"Bokeh: all BokehJS libraries loaded\");\n",
       "          run_callbacks()\n",
       "        }\n",
       "      };\n",
       "      s.onerror = function() {\n",
       "        console.warn(\"failed to load library \" + url);\n",
       "      };\n",
       "      console.log(\"Bokeh: injecting script tag for BokehJS library: \", url);\n",
       "      document.getElementsByTagName(\"head\")[0].appendChild(s);\n",
       "    }\n",
       "  };var element = document.getElementById(\"602e073e-5205-4e91-ad42-cd69774c990f\");\n",
       "  if (element == null) {\n",
       "    console.log(\"Bokeh: ERROR: autoload.js configured with elementid '602e073e-5205-4e91-ad42-cd69774c990f' but no matching script tag was found. \")\n",
       "    return false;\n",
       "  }\n",
       "\n",
       "  var js_urls = [\"https://cdn.pydata.org/bokeh/release/bokeh-0.12.5.min.js\", \"https://cdn.pydata.org/bokeh/release/bokeh-widgets-0.12.5.min.js\"];\n",
       "\n",
       "  var inline_js = [\n",
       "    function(Bokeh) {\n",
       "      Bokeh.set_log_level(\"info\");\n",
       "    },\n",
       "    \n",
       "    function(Bokeh) {\n",
       "      \n",
       "    },\n",
       "    \n",
       "    function(Bokeh) {\n",
       "      \n",
       "      document.getElementById(\"602e073e-5205-4e91-ad42-cd69774c990f\").textContent = \"BokehJS is loading...\";\n",
       "    },\n",
       "    function(Bokeh) {\n",
       "      console.log(\"Bokeh: injecting CSS: https://cdn.pydata.org/bokeh/release/bokeh-0.12.5.min.css\");\n",
       "      Bokeh.embed.inject_css(\"https://cdn.pydata.org/bokeh/release/bokeh-0.12.5.min.css\");\n",
       "      console.log(\"Bokeh: injecting CSS: https://cdn.pydata.org/bokeh/release/bokeh-widgets-0.12.5.min.css\");\n",
       "      Bokeh.embed.inject_css(\"https://cdn.pydata.org/bokeh/release/bokeh-widgets-0.12.5.min.css\");\n",
       "    }\n",
       "  ];\n",
       "\n",
       "  function run_inline_js() {\n",
       "    \n",
       "    if ((window.Bokeh !== undefined) || (force === true)) {\n",
       "      for (var i = 0; i < inline_js.length; i++) {\n",
       "        inline_js[i](window.Bokeh);\n",
       "      }if (force === true) {\n",
       "        display_loaded();\n",
       "      }} else if (Date.now() < window._bokeh_timeout) {\n",
       "      setTimeout(run_inline_js, 100);\n",
       "    } else if (!window._bokeh_failed_load) {\n",
       "      console.log(\"Bokeh: BokehJS failed to load within specified timeout.\");\n",
       "      window._bokeh_failed_load = true;\n",
       "    } else if (force !== true) {\n",
       "      var cell = $(document.getElementById(\"602e073e-5205-4e91-ad42-cd69774c990f\")).parents('.cell').data().cell;\n",
       "      cell.output_area.append_execute_result(NB_LOAD_WARNING)\n",
       "    }\n",
       "\n",
       "  }\n",
       "\n",
       "  if (window._bokeh_is_loading === 0) {\n",
       "    console.log(\"Bokeh: BokehJS loaded, going straight to plotting\");\n",
       "    run_inline_js();\n",
       "  } else {\n",
       "    load_libs(js_urls, function() {\n",
       "      console.log(\"Bokeh: BokehJS plotting callback run at\", now());\n",
       "      run_inline_js();\n",
       "    });\n",
       "  }\n",
       "}(this));"
      ]
     },
     "metadata": {},
     "output_type": "display_data"
    }
   ],
   "source": [
    "import json\n",
    "import numpy as np\n",
    "from numpy import ma\n",
    "import io\n",
    "import re\n",
    "import itertools\n",
    "import random\n",
    "from bokeh.charts import Histogram\n",
    "import networkx as nx\n",
    "\n",
    "from nltk.stem import WordNetLemmatizer\n",
    "wnl = WordNetLemmatizer()\n",
    "from sklearn.feature_extraction import DictVectorizer\n",
    "from collections import Counter\n",
    "from sklearn.feature_extraction.text import CountVectorizer\n",
    "\n",
    "from bokeh.plotting import figure, output_notebook, show\n",
    "from bokeh.models import NumeralTickFormatter,ColumnDataSource, LabelSet\n",
    "output_notebook()\n",
    "import copy\n",
    "%matplotlib inline"
   ]
  },
  {
   "cell_type": "code",
   "execution_count": 2,
   "metadata": {
    "collapsed": true,
    "deletable": true,
    "editable": true
   },
   "outputs": [],
   "source": [
    "def get_matrix_form(ingredients_list):\n",
    "    \"\"\"\n",
    "    Converts list of ingredients to sparse matrix form\n",
    "    Args:\n",
    "        ingredients_list: list of ingredients lists \n",
    "    \"\"\"\n",
    "    vec = DictVectorizer()\n",
    "    X = vec.fit_transform([Counter(x) for x in ingredients_list]) \n",
    "    return X.toarray(),np.array(vec.get_feature_names()) "
   ]
  },
  {
   "cell_type": "markdown",
   "metadata": {
    "deletable": true,
    "editable": true
   },
   "source": [
    "### Removing the Unrelated Words from Ingredients"
   ]
  },
  {
   "cell_type": "markdown",
   "metadata": {
    "deletable": true,
    "editable": true
   },
   "source": [
    "1. Quantifiers and descriptive words are filtered out from the ingredients.  \n",
    "2. Each word is lemmatized"
   ]
  },
  {
   "cell_type": "code",
   "execution_count": 3,
   "metadata": {
    "collapsed": false,
    "deletable": true,
    "editable": true
   },
   "outputs": [],
   "source": [
    "#filter out the words that are not ingredients\n",
    "unrelated = [\"\",\"a\",\"an\",'teaspoon','oz','cup','tablespoon','gram','kilogram','kg','pound',\n",
    "             'milliliter','ml','envelope','substitute','chip',\n",
    "             'ounce','tsp','tbl','tb','tbsp','pint','pt','lb','liter','fluid',\"halves\",\"inch\",\n",
    "             \"skinless\", \"boneless\",\"pounded\",\"thickness\",\"thick\",\"cooking\",\"cubed\",\"instant\",\n",
    "             \"to\",\"from\",\"unsalted\",\"pinch\",\"chopped\",'fresh', 'flat', 'leaf',\"packages\",\n",
    "             \"minced\",\"cloves\",\"pinched\",\"sliced\",\"tablespoons\",\"taste\",\"all\",\"purpose\",\n",
    "             'teaspoons', 'beaten', 'cups', 'for', 'frying', 'or', 'as', 'needed' ,\"ground\",\n",
    "             \"large\",\"small\",\"big\",\"cut\",\"half\",\"finely\",\"peeled\",\"cooked\",\"lightly\",\n",
    "             \"in\",\"and\",\"or\",\"kosher\",\"halal\",\"ounces\",\"ounces\",\"can\",\"freshly\",\"crushed\",\"dried\",\n",
    "             \"slices\",\"slice\",\"diced\",'into', 'cubes','divided',\"melted\",\"frozen\",\"deveined\",\n",
    "             \"optional\",\"cans\",\"canned\",\"grated\",\"pounds\",\"lean\",\"packed\",\"mashed\",\"overripe\",\n",
    "             'quarters', 'vertically','package','tops', 'removed', 'seeded','softened','extra',\n",
    "             \"bottle\",\"condensed\",\"of\",\"style\",\"heavy\",\"torn\",\"piece\",\"shredded\",\"pieces\",\n",
    "             \"stewed\",\"chunks\",\"chunk\",\"mix\",\"whole\",\"clove\",\"light\",\"assorted\",\"s\",\"with\",\n",
    "             \"food\",\"jar\",\"spray\",\"toasted\",'favorite', 'chop','bite',\n",
    "             'chuck','chop','cleaned','container','covered','degree','delicious','double',\n",
    "             'medium','prepared',\n",
    "             'preserve','quick','refrigerated','rinsed','roast','rolled','room','stew',\n",
    "             'temperature','plus','packet','pack',\n",
    "             'trimmed','unwrapped','warm','flavored','link','sized','bulk','low',\n",
    "             'high','sifted','','square','thinly','drained','halved',\n",
    "             'cube','concentrate','crumb','crumbled','warmed','partially',\n",
    "             'portion','dissolved','halve','skinned','thin','deboned','boiled',\n",
    "             'butterflied','cooled','more','defrosted','size','quartered'\n",
    "            ]\n",
    "\n",
    "def is_numeric(c):\n",
    "    \"\"\"\n",
    "    Check if a given string is numeric or alphanumeric\n",
    "    Args:\n",
    "        c (str): string to check\n",
    "    Returns: \n",
    "        True if the given parameter is numeric\n",
    "    \"\"\"\n",
    "    try:\n",
    "        float(c)\n",
    "    except ValueError:\n",
    "        return False\n",
    "    else:\n",
    "        return True \n",
    "    \n",
    "def clean_ingredients(ingredients):\n",
    "    \"\"\"\n",
    "    Filters the words that are not an ingredient but are in the ingredient specifications\n",
    "    Args:\n",
    "        ing (str): a line from ingredient list\n",
    "    Returns:\n",
    "        ingredient string: if it is considered as an ingredient \n",
    "        False: if the given ingredient is filtered as a non-ingredient\n",
    "    \"\"\"\n",
    "    ingredients = list(map(str.lower,re.split(\"\\W+\",ingredients)))\n",
    "    return [wnl.lemmatize(ingredient.strip()) for ingredient in ingredients if not (len(ingredient) <1 or ingredient in unrelated or is_numeric(ingredient))]\n"
   ]
  },
  {
   "cell_type": "code",
   "execution_count": 4,
   "metadata": {
    "collapsed": false,
    "deletable": true,
    "editable": true
   },
   "outputs": [],
   "source": [
    "#read the recipes\n",
    "all_ingredients = []\n",
    "recipe_dic = dict()\n",
    "reviews_dic = dict()\n",
    "names = []\n",
    "with open(\"data/recipes.data\",\"r\") as f:\n",
    "\n",
    "    for line in f:\n",
    "        recipe  = json.load(io.StringIO(line))\n",
    "        name = recipe['name']\n",
    "        num_rating = recipe['num_ratings']\n",
    "        categories = recipe['categories']\n",
    "        rid = recipe['id']\n",
    "        rating = recipe['rating']\n",
    "        cleaned_ingredients = [clean_ingredients(_ingredients) for _ingredients in recipe['ingredients'] ]\n",
    "        ingredients_filtered = [_ingredient for _ingredient in cleaned_ingredients if len(_ingredient) < 4]\n",
    "        #print (\" id: \",rid,\"\\n Rating: \",rating,\"\\n #Ratings: \",num_rating,\"\\n Name: \",name,\"\\n Categories: \",categories,\"\\n Ingredients: \",ingredients,\"\\n\\n\")\n",
    "        if ingredients_filtered and len(ingredients_filtered) > 0:\n",
    "            recipe_dic[name] = list(set([\" \".join(x) for x in ingredients_filtered]))#ingredients_filtered\n",
    "            reviews_dic[name] = rating\n"
   ]
  },
  {
   "cell_type": "markdown",
   "metadata": {
    "deletable": true,
    "editable": true
   },
   "source": [
    "## Ingredient Analysis"
   ]
  },
  {
   "cell_type": "markdown",
   "metadata": {
    "deletable": true,
    "editable": true
   },
   "source": [
    "Total number of recipes:"
   ]
  },
  {
   "cell_type": "code",
   "execution_count": 5,
   "metadata": {
    "collapsed": false,
    "deletable": true,
    "editable": true
   },
   "outputs": [
    {
     "data": {
      "text/plain": [
       "6171"
      ]
     },
     "execution_count": 5,
     "metadata": {},
     "output_type": "execute_result"
    }
   ],
   "source": [
    "len(recipe_dic.values())"
   ]
  },
  {
   "cell_type": "code",
   "execution_count": 6,
   "metadata": {
    "collapsed": false,
    "deletable": true,
    "editable": true
   },
   "outputs": [],
   "source": [
    "#flatten the ingredients of each recipe for vectorization\n",
    "all_ingredients = [ingredient for ingredient in recipe_dic.values()]"
   ]
  },
  {
   "cell_type": "code",
   "execution_count": 7,
   "metadata": {
    "collapsed": false,
    "deletable": true,
    "editable": true,
    "scrolled": true
   },
   "outputs": [],
   "source": [
    "ingredient_matrix,vocabulary = get_matrix_form(all_ingredients)\n",
    "word_counts = ingredient_matrix.sum(axis=0)\n",
    "sorted_indicies = np.argsort(word_counts)[::-1]\n",
    "word_counts = np.array(list(map(lambda x: int(x),word_counts)))"
   ]
  },
  {
   "cell_type": "markdown",
   "metadata": {
    "deletable": true,
    "editable": true
   },
   "source": [
    "Number of unique ingredients:"
   ]
  },
  {
   "cell_type": "code",
   "execution_count": 8,
   "metadata": {
    "collapsed": false,
    "deletable": true,
    "editable": true
   },
   "outputs": [
    {
     "data": {
      "text/plain": [
       "2951"
      ]
     },
     "execution_count": 8,
     "metadata": {},
     "output_type": "execute_result"
    }
   ],
   "source": [
    "ingredient_matrix.shape[1]"
   ]
  },
  {
   "cell_type": "markdown",
   "metadata": {
    "deletable": true,
    "editable": true
   },
   "source": [
    "Find out which ingredients are most frequently used in the recipes"
   ]
  },
  {
   "cell_type": "code",
   "execution_count": 9,
   "metadata": {
    "collapsed": false,
    "deletable": true,
    "editable": true
   },
   "outputs": [],
   "source": [
    "ingredient_frequency = list(zip(vocabulary[sorted_indicies],word_counts[sorted_indicies]))[:1000]\n",
    "#sorted(vec.vocabulary_)"
   ]
  },
  {
   "cell_type": "code",
   "execution_count": 10,
   "metadata": {
    "collapsed": false,
    "deletable": true,
    "editable": true
   },
   "outputs": [],
   "source": [
    "#divide number of occurance of each ingredient to the total number of recipes \n",
    "popular_ingredients = list(map(lambda x: ( x[0],float( \"{0:.2f}\".format(x[1] / len(recipe_dic.values())) ) ), ingredient_frequency[:30]))"
   ]
  },
  {
   "cell_type": "code",
   "execution_count": 11,
   "metadata": {
    "collapsed": true,
    "deletable": true,
    "editable": true
   },
   "outputs": [],
   "source": [
    "#separate the ingredient names and frequencies for plotting\n",
    "ings = list(map(lambda x: x[0], popular_ingredients))[::-1]\n",
    "freq = list(map(lambda x: x[1] , popular_ingredients))[::-1]"
   ]
  },
  {
   "cell_type": "markdown",
   "metadata": {
    "deletable": true,
    "editable": true
   },
   "source": [
    "#### Most Popular 30 Ingredients "
   ]
  },
  {
   "cell_type": "code",
   "execution_count": 12,
   "metadata": {
    "collapsed": false,
    "deletable": true,
    "editable": true
   },
   "outputs": [],
   "source": [
    "p = figure(title=\"Most Popular 30 Ingredients\", y_range=ings, x_range=[0,1])\n",
    "p.segment(0, ings, freq, ings, line_width=2, line_color=\"green\", )\n",
    "p.circle(freq, ings, size=15, fill_color=\"orange\", line_color=\"green\", line_width=3, )\n",
    "p.xaxis[0].formatter = NumeralTickFormatter(format=\"0%\")\n",
    "\n",
    "source = ColumnDataSource(data=dict(height=ings,\n",
    "                                    weight=freq,\n",
    "                                    names=list(map(lambda x: \"{0}%\".format(int(x * 100)),freq))))\n",
    "\n",
    "labels = LabelSet(x='weight', y='height', text='names', level='glyph',text_font_size=\"7pt\",\n",
    "              x_offset=10, y_offset=-1, source=source, render_mode='canvas')\n",
    "\n",
    "p.add_layout(labels)"
   ]
  },
  {
   "cell_type": "code",
   "execution_count": 13,
   "metadata": {
    "collapsed": false,
    "deletable": true,
    "editable": true
   },
   "outputs": [
    {
     "data": {
      "text/html": [
       "\n",
       "\n",
       "    <div class=\"bk-root\">\n",
       "        <div class=\"bk-plotdiv\" id=\"0819bcd1-1494-4daa-8c67-ec953369019e\"></div>\n",
       "    </div>\n",
       "<script type=\"text/javascript\">\n",
       "  \n",
       "  (function(global) {\n",
       "    function now() {\n",
       "      return new Date();\n",
       "    }\n",
       "  \n",
       "    var force = false;\n",
       "  \n",
       "    if (typeof (window._bokeh_onload_callbacks) === \"undefined\" || force === true) {\n",
       "      window._bokeh_onload_callbacks = [];\n",
       "      window._bokeh_is_loading = undefined;\n",
       "    }\n",
       "  \n",
       "  \n",
       "    \n",
       "    if (typeof (window._bokeh_timeout) === \"undefined\" || force === true) {\n",
       "      window._bokeh_timeout = Date.now() + 0;\n",
       "      window._bokeh_failed_load = false;\n",
       "    }\n",
       "  \n",
       "    var NB_LOAD_WARNING = {'data': {'text/html':\n",
       "       \"<div style='background-color: #fdd'>\\n\"+\n",
       "       \"<p>\\n\"+\n",
       "       \"BokehJS does not appear to have successfully loaded. If loading BokehJS from CDN, this \\n\"+\n",
       "       \"may be due to a slow or bad network connection. Possible fixes:\\n\"+\n",
       "       \"</p>\\n\"+\n",
       "       \"<ul>\\n\"+\n",
       "       \"<li>re-rerun `output_notebook()` to attempt to load from CDN again, or</li>\\n\"+\n",
       "       \"<li>use INLINE resources instead, as so:</li>\\n\"+\n",
       "       \"</ul>\\n\"+\n",
       "       \"<code>\\n\"+\n",
       "       \"from bokeh.resources import INLINE\\n\"+\n",
       "       \"output_notebook(resources=INLINE)\\n\"+\n",
       "       \"</code>\\n\"+\n",
       "       \"</div>\"}};\n",
       "  \n",
       "    function display_loaded() {\n",
       "      if (window.Bokeh !== undefined) {\n",
       "        var el = document.getElementById(\"0819bcd1-1494-4daa-8c67-ec953369019e\");\n",
       "        el.textContent = \"BokehJS \" + Bokeh.version + \" successfully loaded.\";\n",
       "      } else if (Date.now() < window._bokeh_timeout) {\n",
       "        setTimeout(display_loaded, 100)\n",
       "      }\n",
       "    }\n",
       "  \n",
       "    function run_callbacks() {\n",
       "      window._bokeh_onload_callbacks.forEach(function(callback) { callback() });\n",
       "      delete window._bokeh_onload_callbacks\n",
       "      console.info(\"Bokeh: all callbacks have finished\");\n",
       "    }\n",
       "  \n",
       "    function load_libs(js_urls, callback) {\n",
       "      window._bokeh_onload_callbacks.push(callback);\n",
       "      if (window._bokeh_is_loading > 0) {\n",
       "        console.log(\"Bokeh: BokehJS is being loaded, scheduling callback at\", now());\n",
       "        return null;\n",
       "      }\n",
       "      if (js_urls == null || js_urls.length === 0) {\n",
       "        run_callbacks();\n",
       "        return null;\n",
       "      }\n",
       "      console.log(\"Bokeh: BokehJS not loaded, scheduling load and callback at\", now());\n",
       "      window._bokeh_is_loading = js_urls.length;\n",
       "      for (var i = 0; i < js_urls.length; i++) {\n",
       "        var url = js_urls[i];\n",
       "        var s = document.createElement('script');\n",
       "        s.src = url;\n",
       "        s.async = false;\n",
       "        s.onreadystatechange = s.onload = function() {\n",
       "          window._bokeh_is_loading--;\n",
       "          if (window._bokeh_is_loading === 0) {\n",
       "            console.log(\"Bokeh: all BokehJS libraries loaded\");\n",
       "            run_callbacks()\n",
       "          }\n",
       "        };\n",
       "        s.onerror = function() {\n",
       "          console.warn(\"failed to load library \" + url);\n",
       "        };\n",
       "        console.log(\"Bokeh: injecting script tag for BokehJS library: \", url);\n",
       "        document.getElementsByTagName(\"head\")[0].appendChild(s);\n",
       "      }\n",
       "    };var element = document.getElementById(\"0819bcd1-1494-4daa-8c67-ec953369019e\");\n",
       "    if (element == null) {\n",
       "      console.log(\"Bokeh: ERROR: autoload.js configured with elementid '0819bcd1-1494-4daa-8c67-ec953369019e' but no matching script tag was found. \")\n",
       "      return false;\n",
       "    }\n",
       "  \n",
       "    var js_urls = [];\n",
       "  \n",
       "    var inline_js = [\n",
       "      function(Bokeh) {\n",
       "        (function() {\n",
       "          var fn = function() {\n",
       "            var docs_json = {\"deec4147-3305-4e96-9824-85c136a73cb7\":{\"roots\":{\"references\":[{\"attributes\":{\"plot\":{\"id\":\"a3345199-ca89-43d4-974a-3e15c26ebe27\",\"subtype\":\"Figure\",\"type\":\"Plot\"}},\"id\":\"da308e3e-56c0-4e0d-b790-492379945ded\",\"type\":\"ResetTool\"},{\"attributes\":{\"plot\":{\"id\":\"a3345199-ca89-43d4-974a-3e15c26ebe27\",\"subtype\":\"Figure\",\"type\":\"Plot\"}},\"id\":\"29adb139-90a1-4c1f-8ecd-fbb148b9beb0\",\"type\":\"SaveTool\"},{\"attributes\":{\"plot\":{\"id\":\"a3345199-ca89-43d4-974a-3e15c26ebe27\",\"subtype\":\"Figure\",\"type\":\"Plot\"},\"ticker\":{\"id\":\"2554fb2c-4298-488e-bc81-c96e56baf23c\",\"type\":\"BasicTicker\"}},\"id\":\"084554b8-fc55-4d77-a0ca-39e680d11ad6\",\"type\":\"Grid\"},{\"attributes\":{\"below\":[{\"id\":\"d5c71af1-99f0-4c07-ad0d-2f740a49d729\",\"type\":\"LinearAxis\"}],\"left\":[{\"id\":\"ce7acc07-e9df-484b-a9db-019f64868f8e\",\"type\":\"CategoricalAxis\"}],\"renderers\":[{\"id\":\"d5c71af1-99f0-4c07-ad0d-2f740a49d729\",\"type\":\"LinearAxis\"},{\"id\":\"084554b8-fc55-4d77-a0ca-39e680d11ad6\",\"type\":\"Grid\"},{\"id\":\"ce7acc07-e9df-484b-a9db-019f64868f8e\",\"type\":\"CategoricalAxis\"},{\"id\":\"6ddb509e-8382-4909-b670-5506a3a87355\",\"type\":\"Grid\"},{\"id\":\"186abe91-24ed-48dd-a1fc-673a0f2e5a62\",\"type\":\"BoxAnnotation\"},{\"id\":\"cb4df873-70cd-4636-8435-d4f20d7713e6\",\"type\":\"GlyphRenderer\"},{\"id\":\"23d43d83-73a3-4ffc-934c-3602f63832f6\",\"type\":\"GlyphRenderer\"},{\"id\":\"4a3f7987-8e6d-4eb0-83f8-2f89b52581c5\",\"type\":\"LabelSet\"}],\"title\":{\"id\":\"0d536a99-9433-4b2e-ab4b-caf504825215\",\"type\":\"Title\"},\"tool_events\":{\"id\":\"32841946-06f5-42f9-b479-802049c0e2b7\",\"type\":\"ToolEvents\"},\"toolbar\":{\"id\":\"e4187724-e6b2-4758-b3b0-ddbfae37c0eb\",\"type\":\"Toolbar\"},\"x_range\":{\"id\":\"0cfcb929-63aa-4759-b988-bcf4d2c2b424\",\"type\":\"Range1d\"},\"y_range\":{\"id\":\"2fc61cb8-e09a-4843-bc14-61a91b60021a\",\"type\":\"FactorRange\"}},\"id\":\"a3345199-ca89-43d4-974a-3e15c26ebe27\",\"subtype\":\"Figure\",\"type\":\"Plot\"},{\"attributes\":{\"callback\":null},\"id\":\"0cfcb929-63aa-4759-b988-bcf4d2c2b424\",\"type\":\"Range1d\"},{\"attributes\":{\"callback\":null,\"column_names\":[\"y\",\"x\"],\"data\":{\"x\":[0.05,0.06,0.06,0.06,0.06,0.06,0.06,0.07,0.07,0.07,0.08,0.08,0.09,0.09,0.09,0.1,0.12,0.13,0.14,0.14,0.15,0.16,0.18,0.22,0.23,0.26,0.27,0.27,0.33,0.41],\"y\":[\"cream cheese\",\"oregano\",\"soy sauce\",\"sour cream\",\"cheddar cheese\",\"beef\",\"lemon juice\",\"tomato\",\"parsley\",\"garlic powder\",\"parmesan cheese\",\"chicken breast\",\"baking powder\",\"cinnamon\",\"baking soda\",\"salt pepper\",\"brown sugar\",\"vegetable oil\",\"olive oil\",\"vanilla extract\",\"water\",\"milk\",\"black pepper\",\"garlic\",\"onion\",\"flour\",\"white sugar\",\"egg\",\"butter\",\"salt\"]}},\"id\":\"c6658723-7862-4de6-bb5e-8b87077dcdc9\",\"type\":\"ColumnDataSource\"},{\"attributes\":{\"plot\":{\"id\":\"a3345199-ca89-43d4-974a-3e15c26ebe27\",\"subtype\":\"Figure\",\"type\":\"Plot\"}},\"id\":\"5c991f36-d923-4361-a3be-b643595f4016\",\"type\":\"WheelZoomTool\"},{\"attributes\":{},\"id\":\"5c9411c0-f119-4a40-a82a-a758d73b9e92\",\"type\":\"CategoricalTicker\"},{\"attributes\":{\"callback\":null,\"column_names\":[\"y1\",\"y0\",\"x1\"],\"data\":{\"x1\":[0.05,0.06,0.06,0.06,0.06,0.06,0.06,0.07,0.07,0.07,0.08,0.08,0.09,0.09,0.09,0.1,0.12,0.13,0.14,0.14,0.15,0.16,0.18,0.22,0.23,0.26,0.27,0.27,0.33,0.41],\"y0\":[\"cream cheese\",\"oregano\",\"soy sauce\",\"sour cream\",\"cheddar cheese\",\"beef\",\"lemon juice\",\"tomato\",\"parsley\",\"garlic powder\",\"parmesan cheese\",\"chicken breast\",\"baking powder\",\"cinnamon\",\"baking soda\",\"salt pepper\",\"brown sugar\",\"vegetable oil\",\"olive oil\",\"vanilla extract\",\"water\",\"milk\",\"black pepper\",\"garlic\",\"onion\",\"flour\",\"white sugar\",\"egg\",\"butter\",\"salt\"],\"y1\":[\"cream cheese\",\"oregano\",\"soy sauce\",\"sour cream\",\"cheddar cheese\",\"beef\",\"lemon juice\",\"tomato\",\"parsley\",\"garlic powder\",\"parmesan cheese\",\"chicken breast\",\"baking powder\",\"cinnamon\",\"baking soda\",\"salt pepper\",\"brown sugar\",\"vegetable oil\",\"olive oil\",\"vanilla extract\",\"water\",\"milk\",\"black pepper\",\"garlic\",\"onion\",\"flour\",\"white sugar\",\"egg\",\"butter\",\"salt\"]}},\"id\":\"a9022e85-0425-41cc-a832-7fc414b43638\",\"type\":\"ColumnDataSource\"},{\"attributes\":{},\"id\":\"32841946-06f5-42f9-b479-802049c0e2b7\",\"type\":\"ToolEvents\"},{\"attributes\":{\"line_alpha\":{\"value\":0.1},\"line_color\":{\"value\":\"#1f77b4\"},\"line_width\":{\"value\":2},\"x0\":{\"value\":0},\"x1\":{\"field\":\"x1\"},\"y0\":{\"field\":\"y0\"},\"y1\":{\"field\":\"y1\"}},\"id\":\"5872b692-165a-499e-9228-937445303c90\",\"type\":\"Segment\"},{\"attributes\":{\"callback\":null,\"factors\":[\"cream cheese\",\"oregano\",\"soy sauce\",\"sour cream\",\"cheddar cheese\",\"beef\",\"lemon juice\",\"tomato\",\"parsley\",\"garlic powder\",\"parmesan cheese\",\"chicken breast\",\"baking powder\",\"cinnamon\",\"baking soda\",\"salt pepper\",\"brown sugar\",\"vegetable oil\",\"olive oil\",\"vanilla extract\",\"water\",\"milk\",\"black pepper\",\"garlic\",\"onion\",\"flour\",\"white sugar\",\"egg\",\"butter\",\"salt\"]},\"id\":\"2fc61cb8-e09a-4843-bc14-61a91b60021a\",\"type\":\"FactorRange\"},{\"attributes\":{\"dimension\":1,\"plot\":{\"id\":\"a3345199-ca89-43d4-974a-3e15c26ebe27\",\"subtype\":\"Figure\",\"type\":\"Plot\"},\"ticker\":{\"id\":\"5c9411c0-f119-4a40-a82a-a758d73b9e92\",\"type\":\"CategoricalTicker\"}},\"id\":\"6ddb509e-8382-4909-b670-5506a3a87355\",\"type\":\"Grid\"},{\"attributes\":{\"formatter\":{\"id\":\"ac055528-ce8f-417c-b4f5-ee086a52a511\",\"type\":\"NumeralTickFormatter\"},\"plot\":{\"id\":\"a3345199-ca89-43d4-974a-3e15c26ebe27\",\"subtype\":\"Figure\",\"type\":\"Plot\"},\"ticker\":{\"id\":\"2554fb2c-4298-488e-bc81-c96e56baf23c\",\"type\":\"BasicTicker\"}},\"id\":\"d5c71af1-99f0-4c07-ad0d-2f740a49d729\",\"type\":\"LinearAxis\"},{\"attributes\":{\"line_color\":{\"value\":\"green\"},\"line_width\":{\"value\":2},\"x0\":{\"value\":0},\"x1\":{\"field\":\"x1\"},\"y0\":{\"field\":\"y0\"},\"y1\":{\"field\":\"y1\"}},\"id\":\"983541f9-945c-4a81-bd91-5099c98a48a4\",\"type\":\"Segment\"},{\"attributes\":{\"plot\":null,\"text\":\"Most Popular 30 Ingredients\"},\"id\":\"0d536a99-9433-4b2e-ab4b-caf504825215\",\"type\":\"Title\"},{\"attributes\":{\"fill_color\":{\"value\":\"orange\"},\"line_color\":{\"value\":\"green\"},\"line_width\":{\"value\":3},\"size\":{\"units\":\"screen\",\"value\":15},\"x\":{\"field\":\"x\"},\"y\":{\"field\":\"y\"}},\"id\":\"35539338-111e-4975-abcf-62b84eadc71a\",\"type\":\"Circle\"},{\"attributes\":{\"plot\":{\"id\":\"a3345199-ca89-43d4-974a-3e15c26ebe27\",\"subtype\":\"Figure\",\"type\":\"Plot\"}},\"id\":\"d661aefc-d3ec-4cbc-9976-f37cbd9aa163\",\"type\":\"PanTool\"},{\"attributes\":{\"bottom_units\":\"screen\",\"fill_alpha\":{\"value\":0.5},\"fill_color\":{\"value\":\"lightgrey\"},\"left_units\":\"screen\",\"level\":\"overlay\",\"line_alpha\":{\"value\":1.0},\"line_color\":{\"value\":\"black\"},\"line_dash\":[4,4],\"line_width\":{\"value\":2},\"plot\":null,\"render_mode\":\"css\",\"right_units\":\"screen\",\"top_units\":\"screen\"},\"id\":\"186abe91-24ed-48dd-a1fc-673a0f2e5a62\",\"type\":\"BoxAnnotation\"},{\"attributes\":{},\"id\":\"2554fb2c-4298-488e-bc81-c96e56baf23c\",\"type\":\"BasicTicker\"},{\"attributes\":{\"callback\":null,\"column_names\":[\"weight\",\"height\",\"names\"],\"data\":{\"height\":[\"cream cheese\",\"oregano\",\"soy sauce\",\"sour cream\",\"cheddar cheese\",\"beef\",\"lemon juice\",\"tomato\",\"parsley\",\"garlic powder\",\"parmesan cheese\",\"chicken breast\",\"baking powder\",\"cinnamon\",\"baking soda\",\"salt pepper\",\"brown sugar\",\"vegetable oil\",\"olive oil\",\"vanilla extract\",\"water\",\"milk\",\"black pepper\",\"garlic\",\"onion\",\"flour\",\"white sugar\",\"egg\",\"butter\",\"salt\"],\"names\":[\"5%\",\"6%\",\"6%\",\"6%\",\"6%\",\"6%\",\"6%\",\"7%\",\"7%\",\"7%\",\"8%\",\"8%\",\"9%\",\"9%\",\"9%\",\"10%\",\"12%\",\"13%\",\"14%\",\"14%\",\"15%\",\"16%\",\"18%\",\"22%\",\"23%\",\"26%\",\"27%\",\"27%\",\"33%\",\"41%\"],\"weight\":[0.05,0.06,0.06,0.06,0.06,0.06,0.06,0.07,0.07,0.07,0.08,0.08,0.09,0.09,0.09,0.1,0.12,0.13,0.14,0.14,0.15,0.16,0.18,0.22,0.23,0.26,0.27,0.27,0.33,0.41]}},\"id\":\"4cb641f5-ea89-49de-aa3a-6e500d11598c\",\"type\":\"ColumnDataSource\"},{\"attributes\":{\"active_drag\":\"auto\",\"active_scroll\":\"auto\",\"active_tap\":\"auto\",\"tools\":[{\"id\":\"d661aefc-d3ec-4cbc-9976-f37cbd9aa163\",\"type\":\"PanTool\"},{\"id\":\"5c991f36-d923-4361-a3be-b643595f4016\",\"type\":\"WheelZoomTool\"},{\"id\":\"bcdaf700-8a01-463c-b28a-8380f5c3f4d0\",\"type\":\"BoxZoomTool\"},{\"id\":\"29adb139-90a1-4c1f-8ecd-fbb148b9beb0\",\"type\":\"SaveTool\"},{\"id\":\"da308e3e-56c0-4e0d-b790-492379945ded\",\"type\":\"ResetTool\"},{\"id\":\"b3066068-9b27-43fb-a3af-1626a0de0354\",\"type\":\"HelpTool\"}]},\"id\":\"e4187724-e6b2-4758-b3b0-ddbfae37c0eb\",\"type\":\"Toolbar\"},{\"attributes\":{\"formatter\":{\"id\":\"0b8ad900-d13e-4eab-b88a-0ad86c59672b\",\"type\":\"CategoricalTickFormatter\"},\"plot\":{\"id\":\"a3345199-ca89-43d4-974a-3e15c26ebe27\",\"subtype\":\"Figure\",\"type\":\"Plot\"},\"ticker\":{\"id\":\"5c9411c0-f119-4a40-a82a-a758d73b9e92\",\"type\":\"CategoricalTicker\"}},\"id\":\"ce7acc07-e9df-484b-a9db-019f64868f8e\",\"type\":\"CategoricalAxis\"},{\"attributes\":{\"plot\":{\"id\":\"a3345199-ca89-43d4-974a-3e15c26ebe27\",\"subtype\":\"Figure\",\"type\":\"Plot\"}},\"id\":\"b3066068-9b27-43fb-a3af-1626a0de0354\",\"type\":\"HelpTool\"},{\"attributes\":{\"level\":\"glyph\",\"plot\":{\"id\":\"a3345199-ca89-43d4-974a-3e15c26ebe27\",\"subtype\":\"Figure\",\"type\":\"Plot\"},\"source\":{\"id\":\"4cb641f5-ea89-49de-aa3a-6e500d11598c\",\"type\":\"ColumnDataSource\"},\"text\":{\"field\":\"names\"},\"text_font_size\":{\"value\":\"7pt\"},\"x\":{\"field\":\"weight\"},\"x_offset\":{\"value\":10},\"y\":{\"field\":\"height\"},\"y_offset\":{\"value\":-1}},\"id\":\"4a3f7987-8e6d-4eb0-83f8-2f89b52581c5\",\"type\":\"LabelSet\"},{\"attributes\":{\"data_source\":{\"id\":\"a9022e85-0425-41cc-a832-7fc414b43638\",\"type\":\"ColumnDataSource\"},\"glyph\":{\"id\":\"983541f9-945c-4a81-bd91-5099c98a48a4\",\"type\":\"Segment\"},\"hover_glyph\":null,\"muted_glyph\":null,\"nonselection_glyph\":{\"id\":\"5872b692-165a-499e-9228-937445303c90\",\"type\":\"Segment\"},\"selection_glyph\":null},\"id\":\"cb4df873-70cd-4636-8435-d4f20d7713e6\",\"type\":\"GlyphRenderer\"},{\"attributes\":{\"format\":\"0%\"},\"id\":\"ac055528-ce8f-417c-b4f5-ee086a52a511\",\"type\":\"NumeralTickFormatter\"},{\"attributes\":{\"data_source\":{\"id\":\"c6658723-7862-4de6-bb5e-8b87077dcdc9\",\"type\":\"ColumnDataSource\"},\"glyph\":{\"id\":\"35539338-111e-4975-abcf-62b84eadc71a\",\"type\":\"Circle\"},\"hover_glyph\":null,\"muted_glyph\":null,\"nonselection_glyph\":{\"id\":\"2af89e4c-26ee-40f2-a250-0976c62289e0\",\"type\":\"Circle\"},\"selection_glyph\":null},\"id\":\"23d43d83-73a3-4ffc-934c-3602f63832f6\",\"type\":\"GlyphRenderer\"},{\"attributes\":{},\"id\":\"0b8ad900-d13e-4eab-b88a-0ad86c59672b\",\"type\":\"CategoricalTickFormatter\"},{\"attributes\":{\"overlay\":{\"id\":\"186abe91-24ed-48dd-a1fc-673a0f2e5a62\",\"type\":\"BoxAnnotation\"},\"plot\":{\"id\":\"a3345199-ca89-43d4-974a-3e15c26ebe27\",\"subtype\":\"Figure\",\"type\":\"Plot\"}},\"id\":\"bcdaf700-8a01-463c-b28a-8380f5c3f4d0\",\"type\":\"BoxZoomTool\"},{\"attributes\":{\"fill_alpha\":{\"value\":0.1},\"fill_color\":{\"value\":\"#1f77b4\"},\"line_alpha\":{\"value\":0.1},\"line_color\":{\"value\":\"#1f77b4\"},\"line_width\":{\"value\":3},\"size\":{\"units\":\"screen\",\"value\":15},\"x\":{\"field\":\"x\"},\"y\":{\"field\":\"y\"}},\"id\":\"2af89e4c-26ee-40f2-a250-0976c62289e0\",\"type\":\"Circle\"}],\"root_ids\":[\"a3345199-ca89-43d4-974a-3e15c26ebe27\"]},\"title\":\"Bokeh Application\",\"version\":\"0.12.5\"}};\n",
       "            var render_items = [{\"docid\":\"deec4147-3305-4e96-9824-85c136a73cb7\",\"elementid\":\"0819bcd1-1494-4daa-8c67-ec953369019e\",\"modelid\":\"a3345199-ca89-43d4-974a-3e15c26ebe27\"}];\n",
       "            \n",
       "            Bokeh.embed.embed_items(docs_json, render_items);\n",
       "          };\n",
       "          if (document.readyState != \"loading\") fn();\n",
       "          else document.addEventListener(\"DOMContentLoaded\", fn);\n",
       "        })();\n",
       "      },\n",
       "      function(Bokeh) {\n",
       "      }\n",
       "    ];\n",
       "  \n",
       "    function run_inline_js() {\n",
       "      \n",
       "      if ((window.Bokeh !== undefined) || (force === true)) {\n",
       "        for (var i = 0; i < inline_js.length; i++) {\n",
       "          inline_js[i](window.Bokeh);\n",
       "        }if (force === true) {\n",
       "          display_loaded();\n",
       "        }} else if (Date.now() < window._bokeh_timeout) {\n",
       "        setTimeout(run_inline_js, 100);\n",
       "      } else if (!window._bokeh_failed_load) {\n",
       "        console.log(\"Bokeh: BokehJS failed to load within specified timeout.\");\n",
       "        window._bokeh_failed_load = true;\n",
       "      } else if (force !== true) {\n",
       "        var cell = $(document.getElementById(\"0819bcd1-1494-4daa-8c67-ec953369019e\")).parents('.cell').data().cell;\n",
       "        cell.output_area.append_execute_result(NB_LOAD_WARNING)\n",
       "      }\n",
       "  \n",
       "    }\n",
       "  \n",
       "    if (window._bokeh_is_loading === 0) {\n",
       "      console.log(\"Bokeh: BokehJS loaded, going straight to plotting\");\n",
       "      run_inline_js();\n",
       "    } else {\n",
       "      load_libs(js_urls, function() {\n",
       "        console.log(\"Bokeh: BokehJS plotting callback run at\", now());\n",
       "        run_inline_js();\n",
       "      });\n",
       "    }\n",
       "  }(this));\n",
       "</script>"
      ]
     },
     "metadata": {},
     "output_type": "display_data"
    }
   ],
   "source": [
    "show(p)"
   ]
  },
  {
   "cell_type": "markdown",
   "metadata": {
    "deletable": true,
    "editable": true
   },
   "source": [
    "#### Filter out Rare Ingredients"
   ]
  },
  {
   "cell_type": "code",
   "execution_count": 14,
   "metadata": {
    "collapsed": false,
    "deletable": true,
    "editable": true
   },
   "outputs": [],
   "source": [
    "#get the ingredients occuring at least in 5 recipes\n",
    "min_10recp_ingredients = [x[0] for x in ingredient_frequency if x[1] >= 10 and len(x[0]) > 2 ]"
   ]
  },
  {
   "cell_type": "code",
   "execution_count": 15,
   "metadata": {
    "collapsed": false,
    "deletable": true,
    "editable": true
   },
   "outputs": [],
   "source": [
    "#calculate stats about the frequent and rare ingredients\n",
    "nof_eliminated = 0\n",
    "total_eliminated = 0\n",
    "updated_recipe_dic = {}\n",
    "for recipe, ingredients in recipe_dic.items():\n",
    "    selected_ingredients = set(ingredients).intersection(set(min_10recp_ingredients))\n",
    "    if len(ingredients) - len(selected_ingredients)  != 0:\n",
    "        nof_eliminated += 1\n",
    "        total_eliminated += len(ingredients) - len(selected_ingredients) \n",
    "    updated_recipe_dic[recipe] = selected_ingredients"
   ]
  },
  {
   "cell_type": "markdown",
   "metadata": {
    "deletable": true,
    "editable": true
   },
   "source": [
    "Percentage of recipes having a non-standard ingredient:"
   ]
  },
  {
   "cell_type": "code",
   "execution_count": 16,
   "metadata": {
    "collapsed": false,
    "deletable": true,
    "editable": true
   },
   "outputs": [
    {
     "data": {
      "text/plain": [
       "0.57"
      ]
     },
     "execution_count": 16,
     "metadata": {},
     "output_type": "execute_result"
    }
   ],
   "source": [
    "round(nof_eliminated / len(recipe_dic.items()),2)"
   ]
  },
  {
   "cell_type": "markdown",
   "metadata": {
    "deletable": true,
    "editable": true
   },
   "source": [
    "Average number of ingredients dropped from recipes:"
   ]
  },
  {
   "cell_type": "code",
   "execution_count": 17,
   "metadata": {
    "collapsed": false,
    "deletable": true,
    "editable": true
   },
   "outputs": [
    {
     "data": {
      "text/plain": [
       "1.6"
      ]
     },
     "execution_count": 17,
     "metadata": {},
     "output_type": "execute_result"
    }
   ],
   "source": [
    "round(total_eliminated / nof_eliminated ,2)"
   ]
  },
  {
   "cell_type": "markdown",
   "metadata": {
    "deletable": true,
    "editable": true
   },
   "source": [
    "## Ingredient Assosication"
   ]
  },
  {
   "cell_type": "markdown",
   "metadata": {
    "deletable": true,
    "editable": true
   },
   "source": [
    "Get the flatten list of essential ingredients after filtering the rare ones"
   ]
  },
  {
   "cell_type": "code",
   "execution_count": 18,
   "metadata": {
    "collapsed": true,
    "deletable": true,
    "editable": true
   },
   "outputs": [],
   "source": [
    "recps_with_essential_ingredients = [ingredient for ingredient in updated_recipe_dic.values()]"
   ]
  },
  {
   "cell_type": "markdown",
   "metadata": {},
   "source": [
    "Re-calculate the ingredient occurance matrix"
   ]
  },
  {
   "cell_type": "code",
   "execution_count": 19,
   "metadata": {
    "collapsed": false,
    "deletable": true,
    "editable": true
   },
   "outputs": [],
   "source": [
    "ingredient_matrix, vocabulary = get_matrix_form(recps_with_essential_ingredients)\n",
    "word_counts = ingredient_matrix.sum(axis=0)\n",
    "sorted_indicies = np.argsort(word_counts)[::-1]\n",
    "word_counts = np.array(list(map(lambda x: int(x),word_counts)))"
   ]
  },
  {
   "cell_type": "code",
   "execution_count": 20,
   "metadata": {
    "collapsed": false
   },
   "outputs": [
    {
     "data": {
      "text/plain": [
       "6171"
      ]
     },
     "execution_count": 20,
     "metadata": {},
     "output_type": "execute_result"
    }
   ],
   "source": [
    "len(recps_with_essential_ingredients)"
   ]
  },
  {
   "cell_type": "code",
   "execution_count": 21,
   "metadata": {
    "collapsed": false
   },
   "outputs": [
    {
     "data": {
      "text/plain": [
       "(6171, 473)"
      ]
     },
     "execution_count": 21,
     "metadata": {},
     "output_type": "execute_result"
    }
   ],
   "source": [
    "ingredient_matrix.shape"
   ]
  },
  {
   "cell_type": "code",
   "execution_count": 22,
   "metadata": {
    "collapsed": true
   },
   "outputs": [],
   "source": [
    "#get the reviews in the same order with recipes\n",
    "reviews = [round(reviews_dic[recipe],2)  for recipe in updated_recipe_dic.keys()]\n",
    "#np.sum(np.isneginf([x[1] for x in reviews_dic.items()])) "
   ]
  },
  {
   "cell_type": "code",
   "execution_count": 23,
   "metadata": {
    "collapsed": false
   },
   "outputs": [
    {
     "data": {
      "text/html": [
       "\n",
       "\n",
       "    <div class=\"bk-root\">\n",
       "        <div class=\"bk-plotdiv\" id=\"c1e75330-bee4-4f6b-94c0-e26b9fb957a5\"></div>\n",
       "    </div>\n",
       "<script type=\"text/javascript\">\n",
       "  \n",
       "  (function(global) {\n",
       "    function now() {\n",
       "      return new Date();\n",
       "    }\n",
       "  \n",
       "    var force = false;\n",
       "  \n",
       "    if (typeof (window._bokeh_onload_callbacks) === \"undefined\" || force === true) {\n",
       "      window._bokeh_onload_callbacks = [];\n",
       "      window._bokeh_is_loading = undefined;\n",
       "    }\n",
       "  \n",
       "  \n",
       "    \n",
       "    if (typeof (window._bokeh_timeout) === \"undefined\" || force === true) {\n",
       "      window._bokeh_timeout = Date.now() + 0;\n",
       "      window._bokeh_failed_load = false;\n",
       "    }\n",
       "  \n",
       "    var NB_LOAD_WARNING = {'data': {'text/html':\n",
       "       \"<div style='background-color: #fdd'>\\n\"+\n",
       "       \"<p>\\n\"+\n",
       "       \"BokehJS does not appear to have successfully loaded. If loading BokehJS from CDN, this \\n\"+\n",
       "       \"may be due to a slow or bad network connection. Possible fixes:\\n\"+\n",
       "       \"</p>\\n\"+\n",
       "       \"<ul>\\n\"+\n",
       "       \"<li>re-rerun `output_notebook()` to attempt to load from CDN again, or</li>\\n\"+\n",
       "       \"<li>use INLINE resources instead, as so:</li>\\n\"+\n",
       "       \"</ul>\\n\"+\n",
       "       \"<code>\\n\"+\n",
       "       \"from bokeh.resources import INLINE\\n\"+\n",
       "       \"output_notebook(resources=INLINE)\\n\"+\n",
       "       \"</code>\\n\"+\n",
       "       \"</div>\"}};\n",
       "  \n",
       "    function display_loaded() {\n",
       "      if (window.Bokeh !== undefined) {\n",
       "        var el = document.getElementById(\"c1e75330-bee4-4f6b-94c0-e26b9fb957a5\");\n",
       "        el.textContent = \"BokehJS \" + Bokeh.version + \" successfully loaded.\";\n",
       "      } else if (Date.now() < window._bokeh_timeout) {\n",
       "        setTimeout(display_loaded, 100)\n",
       "      }\n",
       "    }\n",
       "  \n",
       "    function run_callbacks() {\n",
       "      window._bokeh_onload_callbacks.forEach(function(callback) { callback() });\n",
       "      delete window._bokeh_onload_callbacks\n",
       "      console.info(\"Bokeh: all callbacks have finished\");\n",
       "    }\n",
       "  \n",
       "    function load_libs(js_urls, callback) {\n",
       "      window._bokeh_onload_callbacks.push(callback);\n",
       "      if (window._bokeh_is_loading > 0) {\n",
       "        console.log(\"Bokeh: BokehJS is being loaded, scheduling callback at\", now());\n",
       "        return null;\n",
       "      }\n",
       "      if (js_urls == null || js_urls.length === 0) {\n",
       "        run_callbacks();\n",
       "        return null;\n",
       "      }\n",
       "      console.log(\"Bokeh: BokehJS not loaded, scheduling load and callback at\", now());\n",
       "      window._bokeh_is_loading = js_urls.length;\n",
       "      for (var i = 0; i < js_urls.length; i++) {\n",
       "        var url = js_urls[i];\n",
       "        var s = document.createElement('script');\n",
       "        s.src = url;\n",
       "        s.async = false;\n",
       "        s.onreadystatechange = s.onload = function() {\n",
       "          window._bokeh_is_loading--;\n",
       "          if (window._bokeh_is_loading === 0) {\n",
       "            console.log(\"Bokeh: all BokehJS libraries loaded\");\n",
       "            run_callbacks()\n",
       "          }\n",
       "        };\n",
       "        s.onerror = function() {\n",
       "          console.warn(\"failed to load library \" + url);\n",
       "        };\n",
       "        console.log(\"Bokeh: injecting script tag for BokehJS library: \", url);\n",
       "        document.getElementsByTagName(\"head\")[0].appendChild(s);\n",
       "      }\n",
       "    };var element = document.getElementById(\"c1e75330-bee4-4f6b-94c0-e26b9fb957a5\");\n",
       "    if (element == null) {\n",
       "      console.log(\"Bokeh: ERROR: autoload.js configured with elementid 'c1e75330-bee4-4f6b-94c0-e26b9fb957a5' but no matching script tag was found. \")\n",
       "      return false;\n",
       "    }\n",
       "  \n",
       "    var js_urls = [];\n",
       "  \n",
       "    var inline_js = [\n",
       "      function(Bokeh) {\n",
       "        (function() {\n",
       "          var fn = function() {\n",
       "            var docs_json = {\"a666c5b0-1ab1-44f2-8106-120de80b94ef\":{\"roots\":{\"references\":[{\"attributes\":{\"data_source\":{\"id\":\"b56dc764-97aa-4c49-8445-43a9bdd22daa\",\"type\":\"ColumnDataSource\"},\"glyph\":{\"id\":\"9eab8907-4d90-4c46-b5e3-6a36ac82fd4c\",\"type\":\"Rect\"},\"hover_glyph\":null,\"muted_glyph\":null},\"id\":\"534b6404-e76c-4e92-92fd-be267f2b0293\",\"type\":\"GlyphRenderer\"},{\"attributes\":{\"callback\":null,\"column_names\":[\"y\",\"line_color\",\"height\",\"fill_alpha\",\"label\",\"line_alpha\",\"color\",\"width\",\"x\"],\"data\":{\"chart_index\":[\"(3.168000, 3.241000]\"],\"color\":[\"#f22c40\"],\"fill_alpha\":[0.8],\"height\":[0.0],\"label\":[\"(3.168000, 3.241000]\"],\"line_alpha\":[1.0],\"line_color\":[\"black\"],\"width\":[0.07299999999999995],\"x\":[\"3.2045000000000003\"],\"y\":[0.0]}},\"id\":\"b774af04-ee7d-4e4d-90e3-8fa910c07dd2\",\"type\":\"ColumnDataSource\"},{\"attributes\":{\"fill_alpha\":{\"field\":\"fill_alpha\"},\"fill_color\":{\"field\":\"color\"},\"height\":{\"field\":\"height\",\"units\":\"data\"},\"line_color\":{\"field\":\"line_color\"},\"width\":{\"field\":\"width\",\"units\":\"data\"},\"x\":{\"field\":\"x\"},\"y\":{\"field\":\"y\"}},\"id\":\"204ff8c3-185d-4086-8714-4da5edf7c4a8\",\"type\":\"Rect\"},{\"attributes\":{\"fill_alpha\":{\"field\":\"fill_alpha\"},\"fill_color\":{\"field\":\"color\"},\"height\":{\"field\":\"height\",\"units\":\"data\"},\"line_color\":{\"field\":\"line_color\"},\"width\":{\"field\":\"width\",\"units\":\"data\"},\"x\":{\"field\":\"x\"},\"y\":{\"field\":\"y\"}},\"id\":\"c82e1bcc-f0f8-4b37-a18b-388e11c3a14c\",\"type\":\"Rect\"},{\"attributes\":{\"callback\":null,\"column_names\":[\"y\",\"line_color\",\"height\",\"fill_alpha\",\"label\",\"line_alpha\",\"color\",\"width\",\"x\"],\"data\":{\"chart_index\":[\"(3.241000, 3.314000]\"],\"color\":[\"#f22c40\"],\"fill_alpha\":[0.8],\"height\":[1.0],\"label\":[\"(3.241000, 3.314000]\"],\"line_alpha\":[1.0],\"line_color\":[\"black\"],\"width\":[0.07299999999999995],\"x\":[\"3.2775\"],\"y\":[0.5]}},\"id\":\"351f4d7d-1c30-472b-87ff-8e2673f66f59\",\"type\":\"ColumnDataSource\"},{\"attributes\":{\"data_source\":{\"id\":\"351f4d7d-1c30-472b-87ff-8e2673f66f59\",\"type\":\"ColumnDataSource\"},\"glyph\":{\"id\":\"f7a0e100-18de-4f3e-bcf4-d25e240fdbe0\",\"type\":\"Rect\"},\"hover_glyph\":null,\"muted_glyph\":null},\"id\":\"c5a6333e-ac8f-4293-bb63-a8bc1f2548b8\",\"type\":\"GlyphRenderer\"},{\"attributes\":{\"callback\":null,\"column_names\":[\"y\",\"line_color\",\"height\",\"fill_alpha\",\"label\",\"line_alpha\",\"color\",\"width\",\"x\"],\"data\":{\"chart_index\":[\"(4.336000, 4.409000]\"],\"color\":[\"#f22c40\"],\"fill_alpha\":[0.8],\"height\":[535.0],\"label\":[\"(4.336000, 4.409000]\"],\"line_alpha\":[1.0],\"line_color\":[\"black\"],\"width\":[0.07299999999999951],\"x\":[\"4.3725000000000005\"],\"y\":[267.5]}},\"id\":\"37ba5b0c-f180-4ad9-8fb1-c5e378804930\",\"type\":\"ColumnDataSource\"},{\"attributes\":{\"callback\":null,\"column_names\":[\"y\",\"line_color\",\"height\",\"fill_alpha\",\"label\",\"line_alpha\",\"color\",\"width\",\"x\"],\"data\":{\"chart_index\":[\"(4.409000, 4.482000]\"],\"color\":[\"#f22c40\"],\"fill_alpha\":[0.8],\"height\":[819.0],\"label\":[\"(4.409000, 4.482000]\"],\"line_alpha\":[1.0],\"line_color\":[\"black\"],\"width\":[0.07299999999999951],\"x\":[\"4.4455\"],\"y\":[409.5]}},\"id\":\"4b2e58e8-33d2-43fd-a071-e780070f0da1\",\"type\":\"ColumnDataSource\"},{\"attributes\":{\"callback\":null,\"column_names\":[\"y\",\"line_color\",\"height\",\"fill_alpha\",\"label\",\"line_alpha\",\"color\",\"width\",\"x\"],\"data\":{\"chart_index\":[\"(3.606000, 3.679000]\"],\"color\":[\"#f22c40\"],\"fill_alpha\":[0.8],\"height\":[11.0],\"label\":[\"(3.606000, 3.679000]\"],\"line_alpha\":[1.0],\"line_color\":[\"black\"],\"width\":[0.07299999999999995],\"x\":[\"3.6425\"],\"y\":[5.5]}},\"id\":\"1b66c1b4-f762-452d-a12f-f89583416e7b\",\"type\":\"ColumnDataSource\"},{\"attributes\":{\"callback\":null,\"column_names\":[\"y\",\"line_color\",\"height\",\"fill_alpha\",\"label\",\"line_alpha\",\"color\",\"width\",\"x\"],\"data\":{\"chart_index\":[\"(3.387000, 3.460000]\"],\"color\":[\"#f22c40\"],\"fill_alpha\":[0.8],\"height\":[3.0],\"label\":[\"(3.387000, 3.460000]\"],\"line_alpha\":[1.0],\"line_color\":[\"black\"],\"width\":[0.07299999999999995],\"x\":[\"3.4234999999999998\"],\"y\":[1.5]}},\"id\":\"cf6678e2-7d85-407c-8ec6-ccd3481dbc56\",\"type\":\"ColumnDataSource\"},{\"attributes\":{\"data_source\":{\"id\":\"bf934fb2-ab2d-456f-950b-949a70370731\",\"type\":\"ColumnDataSource\"},\"glyph\":{\"id\":\"40b4d805-d54b-451e-8c16-3a4d9ab04813\",\"type\":\"Rect\"},\"hover_glyph\":null,\"muted_glyph\":null},\"id\":\"a4cd2943-298c-4d99-a8b0-312555fc5de6\",\"type\":\"GlyphRenderer\"},{\"attributes\":{\"data_source\":{\"id\":\"642bbafe-63d5-49df-8367-52beb1a70c40\",\"type\":\"ColumnDataSource\"},\"glyph\":{\"id\":\"813572e1-7eff-4c52-8e81-1241eb7900a2\",\"type\":\"Rect\"},\"hover_glyph\":null,\"muted_glyph\":null},\"id\":\"fc68be71-56f5-4092-b235-e16ae7628d7c\",\"type\":\"GlyphRenderer\"},{\"attributes\":{\"fill_alpha\":{\"field\":\"fill_alpha\"},\"fill_color\":{\"field\":\"color\"},\"height\":{\"field\":\"height\",\"units\":\"data\"},\"line_color\":{\"field\":\"line_color\"},\"width\":{\"field\":\"width\",\"units\":\"data\"},\"x\":{\"field\":\"x\"},\"y\":{\"field\":\"y\"}},\"id\":\"70874c09-4965-4565-a40c-fbeb37e966d0\",\"type\":\"Rect\"},{\"attributes\":{\"plot\":{\"id\":\"f9e37391-0b17-44a9-a9f6-fd1b733daabc\",\"subtype\":\"Chart\",\"type\":\"Plot\"}},\"id\":\"0493d945-a83d-4291-bfc3-1df744243452\",\"type\":\"SaveTool\"},{\"attributes\":{\"active_drag\":\"auto\",\"active_scroll\":\"auto\",\"active_tap\":\"auto\",\"tools\":[{\"id\":\"c6288e89-6ca2-43cc-a4c6-14f8ba79dd68\",\"type\":\"PanTool\"},{\"id\":\"0372fd51-418a-4cab-b474-fbac297cdffe\",\"type\":\"WheelZoomTool\"},{\"id\":\"4a91fe7c-ed91-47f3-95e2-0dff0ea13554\",\"type\":\"BoxZoomTool\"},{\"id\":\"0493d945-a83d-4291-bfc3-1df744243452\",\"type\":\"SaveTool\"},{\"id\":\"dfdbeec3-e958-4790-b6ab-6a15ad7d959f\",\"type\":\"ResetTool\"},{\"id\":\"a51a8ea2-6a7d-4096-828f-7b730a8beac1\",\"type\":\"HelpTool\"}]},\"id\":\"0d11fc6a-9df8-422b-8413-cd3fc993eab1\",\"type\":\"Toolbar\"},{\"attributes\":{\"data_source\":{\"id\":\"8cc28d50-5d4e-4c5b-acaf-df798ce7af20\",\"type\":\"ColumnDataSource\"},\"glyph\":{\"id\":\"a8faa0d8-350a-4b25-a897-614175f740d0\",\"type\":\"Rect\"},\"hover_glyph\":null,\"muted_glyph\":null},\"id\":\"32616d11-9e77-4c54-883d-6755b6b40794\",\"type\":\"GlyphRenderer\"},{\"attributes\":{\"fill_alpha\":{\"field\":\"fill_alpha\"},\"fill_color\":{\"field\":\"color\"},\"height\":{\"field\":\"height\",\"units\":\"data\"},\"line_color\":{\"field\":\"line_color\"},\"width\":{\"field\":\"width\",\"units\":\"data\"},\"x\":{\"field\":\"x\"},\"y\":{\"field\":\"y\"}},\"id\":\"e6ce5f5b-2e6b-4adb-8803-12b9263e74f8\",\"type\":\"Rect\"},{\"attributes\":{\"callback\":null,\"column_names\":[\"y\",\"line_color\",\"height\",\"fill_alpha\",\"label\",\"line_alpha\",\"color\",\"width\",\"x\"],\"data\":{\"chart_index\":[\"(4.701000, 4.774000]\"],\"color\":[\"#f22c40\"],\"fill_alpha\":[0.8],\"height\":[486.0],\"label\":[\"(4.701000, 4.774000]\"],\"line_alpha\":[1.0],\"line_color\":[\"black\"],\"width\":[0.0730000000000004],\"x\":[\"4.7375\"],\"y\":[243.0]}},\"id\":\"542b67e2-cf67-45cb-a58f-fded0066aa53\",\"type\":\"ColumnDataSource\"},{\"attributes\":{\"data_source\":{\"id\":\"040bbfa8-c4e2-49c2-9d9e-e54d3898d92b\",\"type\":\"ColumnDataSource\"},\"glyph\":{\"id\":\"662649be-63aa-48d8-a53b-91a5ff75f741\",\"type\":\"Rect\"},\"hover_glyph\":null,\"muted_glyph\":null},\"id\":\"f2e4bd87-4bb9-45db-b742-309ff36db33f\",\"type\":\"GlyphRenderer\"},{\"attributes\":{\"callback\":null,\"column_names\":[\"y\",\"line_color\",\"height\",\"fill_alpha\",\"label\",\"line_alpha\",\"color\",\"width\",\"x\"],\"data\":{\"chart_index\":[\"(3.314000, 3.387000]\"],\"color\":[\"#f22c40\"],\"fill_alpha\":[0.8],\"height\":[4.0],\"label\":[\"(3.314000, 3.387000]\"],\"line_alpha\":[1.0],\"line_color\":[\"black\"],\"width\":[0.07299999999999995],\"x\":[\"3.3505000000000003\"],\"y\":[2.0]}},\"id\":\"4edef797-7c72-4707-9d1e-9b59555a2064\",\"type\":\"ColumnDataSource\"},{\"attributes\":{\"data_source\":{\"id\":\"b774af04-ee7d-4e4d-90e3-8fa910c07dd2\",\"type\":\"ColumnDataSource\"},\"glyph\":{\"id\":\"da1dc793-1a80-42c1-be58-bda815ff26b7\",\"type\":\"Rect\"},\"hover_glyph\":null,\"muted_glyph\":null},\"id\":\"78ac1a00-edd6-42ec-bf79-4f5f99fa82db\",\"type\":\"GlyphRenderer\"},{\"attributes\":{\"callback\":null,\"column_names\":[\"y\",\"line_color\",\"height\",\"fill_alpha\",\"label\",\"line_alpha\",\"color\",\"width\",\"x\"],\"data\":{\"chart_index\":[\"(3.679000, 3.752000]\"],\"color\":[\"#f22c40\"],\"fill_alpha\":[0.8],\"height\":[19.0],\"label\":[\"(3.679000, 3.752000]\"],\"line_alpha\":[1.0],\"line_color\":[\"black\"],\"width\":[0.07299999999999995],\"x\":[\"3.7154999999999996\"],\"y\":[9.5]}},\"id\":\"9f7cbbf4-6520-4940-8861-2fcc113a11cc\",\"type\":\"ColumnDataSource\"},{\"attributes\":{\"data_source\":{\"id\":\"7a3c430d-92f4-4505-b68b-ac3ea27b6db0\",\"type\":\"ColumnDataSource\"},\"glyph\":{\"id\":\"a4e7958a-634a-483a-be05-6f910b0fa859\",\"type\":\"Rect\"},\"hover_glyph\":null,\"muted_glyph\":null},\"id\":\"1f92ae81-d057-403f-8f72-aaae1481f564\",\"type\":\"GlyphRenderer\"},{\"attributes\":{},\"id\":\"061250a8-b467-4c9a-9241-9e21a6eec601\",\"type\":\"BasicTickFormatter\"},{\"attributes\":{\"data_source\":{\"id\":\"38b98130-3da1-4525-90f2-ca380c89759e\",\"type\":\"ColumnDataSource\"},\"glyph\":{\"id\":\"584a0522-cc1d-442a-9149-f40ff2d5a1d8\",\"type\":\"Rect\"},\"hover_glyph\":null,\"muted_glyph\":null},\"id\":\"a6a20965-9236-442b-a791-433a572ba2eb\",\"type\":\"GlyphRenderer\"},{\"attributes\":{\"callback\":null,\"column_names\":[\"y\",\"line_color\",\"height\",\"fill_alpha\",\"label\",\"line_alpha\",\"color\",\"width\",\"x\"],\"data\":{\"chart_index\":[\"(4.263000, 4.336000]\"],\"color\":[\"#f22c40\"],\"fill_alpha\":[0.8],\"height\":[416.0],\"label\":[\"(4.263000, 4.336000]\"],\"line_alpha\":[1.0],\"line_color\":[\"black\"],\"width\":[0.0730000000000004],\"x\":[\"4.2995\"],\"y\":[208.0]}},\"id\":\"8cc28d50-5d4e-4c5b-acaf-df798ce7af20\",\"type\":\"ColumnDataSource\"},{\"attributes\":{\"data_source\":{\"id\":\"cf6678e2-7d85-407c-8ec6-ccd3481dbc56\",\"type\":\"ColumnDataSource\"},\"glyph\":{\"id\":\"4795f398-ca8f-4825-b5b3-276f0ad97ece\",\"type\":\"Rect\"},\"hover_glyph\":null,\"muted_glyph\":null},\"id\":\"c49cabdd-8efb-4b37-a0f7-ca205572f35e\",\"type\":\"GlyphRenderer\"},{\"attributes\":{\"axis_label\":\"count\",\"formatter\":{\"id\":\"03ec6e7d-6097-4101-9d0d-b10e65bb888e\",\"type\":\"BasicTickFormatter\"},\"plot\":{\"id\":\"f9e37391-0b17-44a9-a9f6-fd1b733daabc\",\"subtype\":\"Chart\",\"type\":\"Plot\"},\"ticker\":{\"id\":\"b8cfedb7-559b-4ab1-9f5e-487140c1e1f2\",\"type\":\"BasicTicker\"}},\"id\":\"01f7e3bf-9163-4d7f-b669-a72b330d9585\",\"type\":\"LinearAxis\"},{\"attributes\":{\"overlay\":{\"id\":\"99c9c908-fbed-4a7f-a501-b3eb54863119\",\"type\":\"BoxAnnotation\"},\"plot\":{\"id\":\"f9e37391-0b17-44a9-a9f6-fd1b733daabc\",\"subtype\":\"Chart\",\"type\":\"Plot\"}},\"id\":\"4a91fe7c-ed91-47f3-95e2-0dff0ea13554\",\"type\":\"BoxZoomTool\"},{\"attributes\":{\"fill_alpha\":{\"field\":\"fill_alpha\"},\"fill_color\":{\"field\":\"color\"},\"height\":{\"field\":\"height\",\"units\":\"data\"},\"line_color\":{\"field\":\"line_color\"},\"width\":{\"field\":\"width\",\"units\":\"data\"},\"x\":{\"field\":\"x\"},\"y\":{\"field\":\"y\"}},\"id\":\"7b6d43cc-3026-44d9-9512-27d934f7be22\",\"type\":\"Rect\"},{\"attributes\":{\"data_source\":{\"id\":\"d7cfa1e5-d653-43e2-9611-b897f9aec02e\",\"type\":\"ColumnDataSource\"},\"glyph\":{\"id\":\"e6ce5f5b-2e6b-4adb-8803-12b9263e74f8\",\"type\":\"Rect\"},\"hover_glyph\":null,\"muted_glyph\":null},\"id\":\"88b003cc-2776-4d85-8104-422f13e450ff\",\"type\":\"GlyphRenderer\"},{\"attributes\":{\"data_source\":{\"id\":\"d982a07f-0834-4c0c-81cd-ebeaf332e34d\",\"type\":\"ColumnDataSource\"},\"glyph\":{\"id\":\"99122642-8fb7-4fad-b2ff-277df897d532\",\"type\":\"Rect\"},\"hover_glyph\":null,\"muted_glyph\":null},\"id\":\"7e9a10b7-e1bd-482c-9bc3-df2ac2a29acd\",\"type\":\"GlyphRenderer\"},{\"attributes\":{\"plot\":{\"id\":\"f9e37391-0b17-44a9-a9f6-fd1b733daabc\",\"subtype\":\"Chart\",\"type\":\"Plot\"}},\"id\":\"c6288e89-6ca2-43cc-a4c6-14f8ba79dd68\",\"type\":\"PanTool\"},{\"attributes\":{\"fill_alpha\":{\"field\":\"fill_alpha\"},\"fill_color\":{\"field\":\"color\"},\"height\":{\"field\":\"height\",\"units\":\"data\"},\"line_color\":{\"field\":\"line_color\"},\"width\":{\"field\":\"width\",\"units\":\"data\"},\"x\":{\"field\":\"x\"},\"y\":{\"field\":\"y\"}},\"id\":\"584a0522-cc1d-442a-9149-f40ff2d5a1d8\",\"type\":\"Rect\"},{\"attributes\":{\"callback\":null,\"column_names\":[\"y\",\"line_color\",\"height\",\"fill_alpha\",\"label\",\"line_alpha\",\"color\",\"width\",\"x\"],\"data\":{\"chart_index\":[\"(3.825000, 3.898000]\"],\"color\":[\"#f22c40\"],\"fill_alpha\":[0.8],\"height\":[39.0],\"label\":[\"(3.825000, 3.898000]\"],\"line_alpha\":[1.0],\"line_color\":[\"black\"],\"width\":[0.07299999999999951],\"x\":[\"3.8615000000000004\"],\"y\":[19.5]}},\"id\":\"c79b489b-f80f-41ed-9552-a289e1e670e3\",\"type\":\"ColumnDataSource\"},{\"attributes\":{\"data_source\":{\"id\":\"ae736c07-2c48-49c4-ba58-0dc25b1f5d84\",\"type\":\"ColumnDataSource\"},\"glyph\":{\"id\":\"c82e1bcc-f0f8-4b37-a18b-388e11c3a14c\",\"type\":\"Rect\"},\"hover_glyph\":null,\"muted_glyph\":null},\"id\":\"dc31105b-de9e-4852-8c50-7fc415ff5b3c\",\"type\":\"GlyphRenderer\"},{\"attributes\":{\"fill_alpha\":{\"field\":\"fill_alpha\"},\"fill_color\":{\"field\":\"color\"},\"height\":{\"field\":\"height\",\"units\":\"data\"},\"line_color\":{\"field\":\"line_color\"},\"width\":{\"field\":\"width\",\"units\":\"data\"},\"x\":{\"field\":\"x\"},\"y\":{\"field\":\"y\"}},\"id\":\"e8fd1179-45cd-486a-82b5-89516b3b72a5\",\"type\":\"Rect\"},{\"attributes\":{\"callback\":null,\"column_names\":[\"y\",\"line_color\",\"height\",\"fill_alpha\",\"label\",\"line_alpha\",\"color\",\"width\",\"x\"],\"data\":{\"chart_index\":[\"(3.460000, 3.533000]\"],\"color\":[\"#f22c40\"],\"fill_alpha\":[0.8],\"height\":[9.0],\"label\":[\"(3.460000, 3.533000]\"],\"line_alpha\":[1.0],\"line_color\":[\"black\"],\"width\":[0.07299999999999995],\"x\":[\"3.4965\"],\"y\":[4.5]}},\"id\":\"d7cfa1e5-d653-43e2-9611-b897f9aec02e\",\"type\":\"ColumnDataSource\"},{\"attributes\":{},\"id\":\"08029a56-7acf-43ce-898e-4199d654cb70\",\"type\":\"BasicTicker\"},{\"attributes\":{\"plot\":{\"id\":\"f9e37391-0b17-44a9-a9f6-fd1b733daabc\",\"subtype\":\"Chart\",\"type\":\"Plot\"}},\"id\":\"dfdbeec3-e958-4790-b6ab-6a15ad7d959f\",\"type\":\"ResetTool\"},{\"attributes\":{\"location\":\"top_left\",\"plot\":{\"id\":\"f9e37391-0b17-44a9-a9f6-fd1b733daabc\",\"subtype\":\"Chart\",\"type\":\"Plot\"}},\"id\":\"50a581ad-d417-40fa-8d09-7f9d84f7f8ee\",\"type\":\"Legend\"},{\"attributes\":{\"fill_alpha\":{\"field\":\"fill_alpha\"},\"fill_color\":{\"field\":\"color\"},\"height\":{\"field\":\"height\",\"units\":\"data\"},\"line_color\":{\"field\":\"line_color\"},\"width\":{\"field\":\"width\",\"units\":\"data\"},\"x\":{\"field\":\"x\"},\"y\":{\"field\":\"y\"}},\"id\":\"039bdb05-f529-4405-be74-f0e2a129982b\",\"type\":\"Rect\"},{\"attributes\":{\"axis_label\":\"reviews\",\"formatter\":{\"id\":\"061250a8-b467-4c9a-9241-9e21a6eec601\",\"type\":\"BasicTickFormatter\"},\"plot\":{\"id\":\"f9e37391-0b17-44a9-a9f6-fd1b733daabc\",\"subtype\":\"Chart\",\"type\":\"Plot\"},\"ticker\":{\"id\":\"08029a56-7acf-43ce-898e-4199d654cb70\",\"type\":\"BasicTicker\"}},\"id\":\"3cd04871-f1d0-4d71-acb7-0bf66263f9d2\",\"type\":\"LinearAxis\"},{\"attributes\":{\"below\":[{\"id\":\"3cd04871-f1d0-4d71-acb7-0bf66263f9d2\",\"type\":\"LinearAxis\"}],\"css_classes\":null,\"left\":[{\"id\":\"01f7e3bf-9163-4d7f-b669-a72b330d9585\",\"type\":\"LinearAxis\"}],\"plot_height\":300,\"plot_width\":300,\"renderers\":[{\"id\":\"99c9c908-fbed-4a7f-a501-b3eb54863119\",\"type\":\"BoxAnnotation\"},{\"id\":\"fc68be71-56f5-4092-b235-e16ae7628d7c\",\"type\":\"GlyphRenderer\"},{\"id\":\"a4cd2943-298c-4d99-a8b0-312555fc5de6\",\"type\":\"GlyphRenderer\"},{\"id\":\"68f25e1e-c060-4cc4-a3b1-b4cc4d1abddb\",\"type\":\"GlyphRenderer\"},{\"id\":\"224197df-c51d-4713-9062-d6ee28954d57\",\"type\":\"GlyphRenderer\"},{\"id\":\"dc31105b-de9e-4852-8c50-7fc415ff5b3c\",\"type\":\"GlyphRenderer\"},{\"id\":\"ddcba53a-4f4b-4b77-bf36-05c0426955b2\",\"type\":\"GlyphRenderer\"},{\"id\":\"78ac1a00-edd6-42ec-bf79-4f5f99fa82db\",\"type\":\"GlyphRenderer\"},{\"id\":\"c5a6333e-ac8f-4293-bb63-a8bc1f2548b8\",\"type\":\"GlyphRenderer\"},{\"id\":\"8045be7c-5de4-49b3-8ccc-04598c47656c\",\"type\":\"GlyphRenderer\"},{\"id\":\"c49cabdd-8efb-4b37-a0f7-ca205572f35e\",\"type\":\"GlyphRenderer\"},{\"id\":\"88b003cc-2776-4d85-8104-422f13e450ff\",\"type\":\"GlyphRenderer\"},{\"id\":\"1f92ae81-d057-403f-8f72-aaae1481f564\",\"type\":\"GlyphRenderer\"},{\"id\":\"49d8f8bf-f6d6-489c-a714-2e771badd4e4\",\"type\":\"GlyphRenderer\"},{\"id\":\"e3b39684-6fe9-4cb0-8a82-ba5d15288896\",\"type\":\"GlyphRenderer\"},{\"id\":\"df17f4f5-9e4f-4746-8521-9aedbf8a2379\",\"type\":\"GlyphRenderer\"},{\"id\":\"975a62c3-e4b0-41b8-a004-0a25df00343e\",\"type\":\"GlyphRenderer\"},{\"id\":\"30d462b6-1b7a-4d5e-853a-c13812131da5\",\"type\":\"GlyphRenderer\"},{\"id\":\"a6a20965-9236-442b-a791-433a572ba2eb\",\"type\":\"GlyphRenderer\"},{\"id\":\"534b6404-e76c-4e92-92fd-be267f2b0293\",\"type\":\"GlyphRenderer\"},{\"id\":\"7e9a10b7-e1bd-482c-9bc3-df2ac2a29acd\",\"type\":\"GlyphRenderer\"},{\"id\":\"67f44262-0e63-47fc-8468-fa6e150e9753\",\"type\":\"GlyphRenderer\"},{\"id\":\"32616d11-9e77-4c54-883d-6755b6b40794\",\"type\":\"GlyphRenderer\"},{\"id\":\"63b7c58e-5baf-4060-8a07-dafee3dfe02c\",\"type\":\"GlyphRenderer\"},{\"id\":\"85b563f6-ba4d-490a-9614-16e81a3c1af6\",\"type\":\"GlyphRenderer\"},{\"id\":\"c18821b2-2e9a-4ebd-859a-21bbe3456e41\",\"type\":\"GlyphRenderer\"},{\"id\":\"2e9ec5d9-4e12-4906-ab2a-93d9c198f41e\",\"type\":\"GlyphRenderer\"},{\"id\":\"ef49ae90-001f-4c5a-ac1a-3b34daad2f82\",\"type\":\"GlyphRenderer\"},{\"id\":\"5c974eb1-88ed-4c33-b054-936409f5ef38\",\"type\":\"GlyphRenderer\"},{\"id\":\"f2e4bd87-4bb9-45db-b742-309ff36db33f\",\"type\":\"GlyphRenderer\"},{\"id\":\"f8af4c6a-77fb-4145-836f-8c9479e06c56\",\"type\":\"GlyphRenderer\"},{\"id\":\"50a581ad-d417-40fa-8d09-7f9d84f7f8ee\",\"type\":\"Legend\"},{\"id\":\"3cd04871-f1d0-4d71-acb7-0bf66263f9d2\",\"type\":\"LinearAxis\"},{\"id\":\"01f7e3bf-9163-4d7f-b669-a72b330d9585\",\"type\":\"LinearAxis\"},{\"id\":\"b11326e1-35d6-4181-aa77-31f33f8fa85b\",\"type\":\"Grid\"}],\"title\":{\"id\":\"ab8c4a40-f391-4192-a349-7a974777a7e9\",\"type\":\"Title\"},\"tool_events\":{\"id\":\"1854e18e-595b-475b-ba29-8c9d4813fdfc\",\"type\":\"ToolEvents\"},\"toolbar\":{\"id\":\"0d11fc6a-9df8-422b-8413-cd3fc993eab1\",\"type\":\"Toolbar\"},\"x_mapper_type\":\"auto\",\"x_range\":{\"id\":\"0d174669-70f5-4076-aed6-2dd38f034e41\",\"type\":\"Range1d\"},\"y_mapper_type\":\"auto\",\"y_range\":{\"id\":\"8e45e78a-ad08-48fc-9501-45438508a318\",\"type\":\"Range1d\"}},\"id\":\"f9e37391-0b17-44a9-a9f6-fd1b733daabc\",\"subtype\":\"Chart\",\"type\":\"Plot\"},{\"attributes\":{\"data_source\":{\"id\":\"0a31dbe1-9738-4041-ba87-67f616b18699\",\"type\":\"ColumnDataSource\"},\"glyph\":{\"id\":\"70874c09-4965-4565-a40c-fbeb37e966d0\",\"type\":\"Rect\"},\"hover_glyph\":null,\"muted_glyph\":null},\"id\":\"2e9ec5d9-4e12-4906-ab2a-93d9c198f41e\",\"type\":\"GlyphRenderer\"},{\"attributes\":{\"callback\":null,\"column_names\":[\"y\",\"line_color\",\"height\",\"fill_alpha\",\"label\",\"line_alpha\",\"color\",\"width\",\"x\"],\"data\":{\"chart_index\":[\"(4.482000, 4.555000]\"],\"color\":[\"#f22c40\"],\"fill_alpha\":[0.8],\"height\":[833.0],\"label\":[\"(4.482000, 4.555000]\"],\"line_alpha\":[1.0],\"line_color\":[\"black\"],\"width\":[0.0730000000000004],\"x\":[\"4.5184999999999995\"],\"y\":[416.5]}},\"id\":\"55d74cc7-57b3-4a13-80bb-a5e2384649fb\",\"type\":\"ColumnDataSource\"},{\"attributes\":{\"fill_alpha\":{\"field\":\"fill_alpha\"},\"fill_color\":{\"field\":\"color\"},\"height\":{\"field\":\"height\",\"units\":\"data\"},\"line_color\":{\"field\":\"line_color\"},\"width\":{\"field\":\"width\",\"units\":\"data\"},\"x\":{\"field\":\"x\"},\"y\":{\"field\":\"y\"}},\"id\":\"4795f398-ca8f-4825-b5b3-276f0ad97ece\",\"type\":\"Rect\"},{\"attributes\":{\"fill_alpha\":{\"field\":\"fill_alpha\"},\"fill_color\":{\"field\":\"color\"},\"height\":{\"field\":\"height\",\"units\":\"data\"},\"line_color\":{\"field\":\"line_color\"},\"width\":{\"field\":\"width\",\"units\":\"data\"},\"x\":{\"field\":\"x\"},\"y\":{\"field\":\"y\"}},\"id\":\"09a0f233-771e-414b-bbff-2f0434035093\",\"type\":\"Rect\"},{\"attributes\":{\"plot\":{\"id\":\"f9e37391-0b17-44a9-a9f6-fd1b733daabc\",\"subtype\":\"Chart\",\"type\":\"Plot\"}},\"id\":\"a51a8ea2-6a7d-4096-828f-7b730a8beac1\",\"type\":\"HelpTool\"},{\"attributes\":{\"callback\":null,\"column_names\":[\"y\",\"line_color\",\"height\",\"fill_alpha\",\"label\",\"line_alpha\",\"color\",\"width\",\"x\"],\"data\":{\"chart_index\":[\"(4.044000, 4.117000]\"],\"color\":[\"#f22c40\"],\"fill_alpha\":[0.8],\"height\":[132.0],\"label\":[\"(4.044000, 4.117000]\"],\"line_alpha\":[1.0],\"line_color\":[\"black\"],\"width\":[0.0730000000000004],\"x\":[\"4.0805\"],\"y\":[66.0]}},\"id\":\"b56dc764-97aa-4c49-8445-43a9bdd22daa\",\"type\":\"ColumnDataSource\"},{\"attributes\":{\"data_source\":{\"id\":\"542b67e2-cf67-45cb-a58f-fded0066aa53\",\"type\":\"ColumnDataSource\"},\"glyph\":{\"id\":\"dde41395-a933-4eae-ba4c-7b80fee6b0bd\",\"type\":\"Rect\"},\"hover_glyph\":null,\"muted_glyph\":null},\"id\":\"5c974eb1-88ed-4c33-b054-936409f5ef38\",\"type\":\"GlyphRenderer\"},{\"attributes\":{\"bottom_units\":\"screen\",\"fill_alpha\":{\"value\":0.5},\"fill_color\":{\"value\":\"lightgrey\"},\"left_units\":\"screen\",\"level\":\"overlay\",\"line_alpha\":{\"value\":1.0},\"line_color\":{\"value\":\"black\"},\"line_dash\":[4,4],\"line_width\":{\"value\":2},\"plot\":null,\"render_mode\":\"css\",\"right_units\":\"screen\",\"top_units\":\"screen\"},\"id\":\"99c9c908-fbed-4a7f-a501-b3eb54863119\",\"type\":\"BoxAnnotation\"},{\"attributes\":{\"callback\":null,\"column_names\":[\"y\",\"line_color\",\"height\",\"fill_alpha\",\"label\",\"line_alpha\",\"color\",\"width\",\"x\"],\"data\":{\"chart_index\":[\"(4.774000, 4.847000]\"],\"color\":[\"#f22c40\"],\"fill_alpha\":[0.8],\"height\":[255.0],\"label\":[\"(4.774000, 4.847000]\"],\"line_alpha\":[1.0],\"line_color\":[\"black\"],\"width\":[0.07299999999999951],\"x\":[\"4.8105\"],\"y\":[127.5]}},\"id\":\"040bbfa8-c4e2-49c2-9d9e-e54d3898d92b\",\"type\":\"ColumnDataSource\"},{\"attributes\":{\"fill_alpha\":{\"field\":\"fill_alpha\"},\"fill_color\":{\"field\":\"color\"},\"height\":{\"field\":\"height\",\"units\":\"data\"},\"line_color\":{\"field\":\"line_color\"},\"width\":{\"field\":\"width\",\"units\":\"data\"},\"x\":{\"field\":\"x\"},\"y\":{\"field\":\"y\"}},\"id\":\"3ea40310-3d12-424c-b758-43ad6d05a75a\",\"type\":\"Rect\"},{\"attributes\":{\"callback\":null,\"column_names\":[\"y\",\"line_color\",\"height\",\"fill_alpha\",\"label\",\"line_alpha\",\"color\",\"width\",\"x\"],\"data\":{\"chart_index\":[\"(3.898000, 3.971000]\"],\"color\":[\"#f22c40\"],\"fill_alpha\":[0.8],\"height\":[66.0],\"label\":[\"(3.898000, 3.971000]\"],\"line_alpha\":[1.0],\"line_color\":[\"black\"],\"width\":[0.0730000000000004],\"x\":[\"3.9345\"],\"y\":[33.0]}},\"id\":\"00dcaa8d-be20-4c5f-ac5e-81444a9c9f70\",\"type\":\"ColumnDataSource\"},{\"attributes\":{},\"id\":\"1854e18e-595b-475b-ba29-8c9d4813fdfc\",\"type\":\"ToolEvents\"},{\"attributes\":{\"data_source\":{\"id\":\"1b66c1b4-f762-452d-a12f-f89583416e7b\",\"type\":\"ColumnDataSource\"},\"glyph\":{\"id\":\"204ff8c3-185d-4086-8714-4da5edf7c4a8\",\"type\":\"Rect\"},\"hover_glyph\":null,\"muted_glyph\":null},\"id\":\"49d8f8bf-f6d6-489c-a714-2e771badd4e4\",\"type\":\"GlyphRenderer\"},{\"attributes\":{\"callback\":null,\"column_names\":[\"y\",\"line_color\",\"height\",\"fill_alpha\",\"label\",\"line_alpha\",\"color\",\"width\",\"x\"],\"data\":{\"chart_index\":[\"(2.803000, 2.876000]\"],\"color\":[\"#f22c40\"],\"fill_alpha\":[0.8],\"height\":[0.0],\"label\":[\"(2.803000, 2.876000]\"],\"line_alpha\":[1.0],\"line_color\":[\"black\"],\"width\":[0.07299999999999995],\"x\":[\"2.8395\"],\"y\":[0.0]}},\"id\":\"bf934fb2-ab2d-456f-950b-949a70370731\",\"type\":\"ColumnDataSource\"},{\"attributes\":{\"data_source\":{\"id\":\"47df2bd2-681b-46c4-9bbc-5ff939353e2c\",\"type\":\"ColumnDataSource\"},\"glyph\":{\"id\":\"7b6d43cc-3026-44d9-9512-27d934f7be22\",\"type\":\"Rect\"},\"hover_glyph\":null,\"muted_glyph\":null},\"id\":\"ef49ae90-001f-4c5a-ac1a-3b34daad2f82\",\"type\":\"GlyphRenderer\"},{\"attributes\":{\"callback\":null,\"end\":5.11125,\"start\":2.5387499999999994},\"id\":\"0d174669-70f5-4076-aed6-2dd38f034e41\",\"type\":\"Range1d\"},{\"attributes\":{\"fill_alpha\":{\"field\":\"fill_alpha\"},\"fill_color\":{\"field\":\"color\"},\"height\":{\"field\":\"height\",\"units\":\"data\"},\"line_color\":{\"field\":\"line_color\"},\"width\":{\"field\":\"width\",\"units\":\"data\"},\"x\":{\"field\":\"x\"},\"y\":{\"field\":\"y\"}},\"id\":\"40b4d805-d54b-451e-8c16-3a4d9ab04813\",\"type\":\"Rect\"},{\"attributes\":{\"callback\":null,\"column_names\":[\"y\",\"line_color\",\"height\",\"fill_alpha\",\"label\",\"line_alpha\",\"color\",\"width\",\"x\"],\"data\":{\"chart_index\":[\"(2.876000, 2.949000]\"],\"color\":[\"#f22c40\"],\"fill_alpha\":[0.8],\"height\":[0.0],\"label\":[\"(2.876000, 2.949000]\"],\"line_alpha\":[1.0],\"line_color\":[\"black\"],\"width\":[0.07299999999999995],\"x\":[\"2.9124999999999996\"],\"y\":[0.0]}},\"id\":\"cab1fd77-1a54-43af-95c5-1fd991d56a10\",\"type\":\"ColumnDataSource\"},{\"attributes\":{\"data_source\":{\"id\":\"9f7cbbf4-6520-4940-8861-2fcc113a11cc\",\"type\":\"ColumnDataSource\"},\"glyph\":{\"id\":\"401523de-763b-42ae-81bc-6b8976772af3\",\"type\":\"Rect\"},\"hover_glyph\":null,\"muted_glyph\":null},\"id\":\"e3b39684-6fe9-4cb0-8a82-ba5d15288896\",\"type\":\"GlyphRenderer\"},{\"attributes\":{\"fill_alpha\":{\"field\":\"fill_alpha\"},\"fill_color\":{\"field\":\"color\"},\"height\":{\"field\":\"height\",\"units\":\"data\"},\"line_color\":{\"field\":\"line_color\"},\"width\":{\"field\":\"width\",\"units\":\"data\"},\"x\":{\"field\":\"x\"},\"y\":{\"field\":\"y\"}},\"id\":\"a4e7958a-634a-483a-be05-6f910b0fa859\",\"type\":\"Rect\"},{\"attributes\":{\"callback\":null,\"column_names\":[\"y\",\"line_color\",\"height\",\"fill_alpha\",\"label\",\"line_alpha\",\"color\",\"width\",\"x\"],\"data\":{\"chart_index\":[\"(3.022000, 3.095000]\"],\"color\":[\"#f22c40\"],\"fill_alpha\":[0.8],\"height\":[0.0],\"label\":[\"(3.022000, 3.095000]\"],\"line_alpha\":[1.0],\"line_color\":[\"black\"],\"width\":[0.07299999999999995],\"x\":[\"3.0585\"],\"y\":[0.0]}},\"id\":\"ae736c07-2c48-49c4-ba58-0dc25b1f5d84\",\"type\":\"ColumnDataSource\"},{\"attributes\":{\"data_source\":{\"id\":\"55d74cc7-57b3-4a13-80bb-a5e2384649fb\",\"type\":\"ColumnDataSource\"},\"glyph\":{\"id\":\"4461a921-348e-42d3-9527-672129d2ae2b\",\"type\":\"Rect\"},\"hover_glyph\":null,\"muted_glyph\":null},\"id\":\"c18821b2-2e9a-4ebd-859a-21bbe3456e41\",\"type\":\"GlyphRenderer\"},{\"attributes\":{\"fill_alpha\":{\"field\":\"fill_alpha\"},\"fill_color\":{\"field\":\"color\"},\"height\":{\"field\":\"height\",\"units\":\"data\"},\"line_color\":{\"field\":\"line_color\"},\"width\":{\"field\":\"width\",\"units\":\"data\"},\"x\":{\"field\":\"x\"},\"y\":{\"field\":\"y\"}},\"id\":\"4461a921-348e-42d3-9527-672129d2ae2b\",\"type\":\"Rect\"},{\"attributes\":{\"fill_alpha\":{\"field\":\"fill_alpha\"},\"fill_color\":{\"field\":\"color\"},\"height\":{\"field\":\"height\",\"units\":\"data\"},\"line_color\":{\"field\":\"line_color\"},\"width\":{\"field\":\"width\",\"units\":\"data\"},\"x\":{\"field\":\"x\"},\"y\":{\"field\":\"y\"}},\"id\":\"da1dc793-1a80-42c1-be58-bda815ff26b7\",\"type\":\"Rect\"},{\"attributes\":{\"fill_alpha\":{\"field\":\"fill_alpha\"},\"fill_color\":{\"field\":\"color\"},\"height\":{\"field\":\"height\",\"units\":\"data\"},\"line_color\":{\"field\":\"line_color\"},\"width\":{\"field\":\"width\",\"units\":\"data\"},\"x\":{\"field\":\"x\"},\"y\":{\"field\":\"y\"}},\"id\":\"8f4ee711-fd2b-45d9-ab08-715a2b1f433e\",\"type\":\"Rect\"},{\"attributes\":{\"fill_alpha\":{\"field\":\"fill_alpha\"},\"fill_color\":{\"field\":\"color\"},\"height\":{\"field\":\"height\",\"units\":\"data\"},\"line_color\":{\"field\":\"line_color\"},\"width\":{\"field\":\"width\",\"units\":\"data\"},\"x\":{\"field\":\"x\"},\"y\":{\"field\":\"y\"}},\"id\":\"87fbbe9f-b8e7-48aa-9725-07a90360ab60\",\"type\":\"Rect\"},{\"attributes\":{\"fill_alpha\":{\"field\":\"fill_alpha\"},\"fill_color\":{\"field\":\"color\"},\"height\":{\"field\":\"height\",\"units\":\"data\"},\"line_color\":{\"field\":\"line_color\"},\"width\":{\"field\":\"width\",\"units\":\"data\"},\"x\":{\"field\":\"x\"},\"y\":{\"field\":\"y\"}},\"id\":\"8a7ac652-ed9e-45be-aad5-a01a2a565e98\",\"type\":\"Rect\"},{\"attributes\":{\"callback\":null,\"column_names\":[\"y\",\"line_color\",\"height\",\"fill_alpha\",\"label\",\"line_alpha\",\"color\",\"width\",\"x\"],\"data\":{\"chart_index\":[\"[2.730000, 2.803000]\"],\"color\":[\"#f22c40\"],\"fill_alpha\":[0.8],\"height\":[1.0],\"label\":[\"[2.730000, 2.803000]\"],\"line_alpha\":[1.0],\"line_color\":[\"black\"],\"width\":[0.07299999999999995],\"x\":[\"2.7664999999999997\"],\"y\":[0.5]}},\"id\":\"642bbafe-63d5-49df-8367-52beb1a70c40\",\"type\":\"ColumnDataSource\"},{\"attributes\":{\"data_source\":{\"id\":\"c79b489b-f80f-41ed-9552-a289e1e670e3\",\"type\":\"ColumnDataSource\"},\"glyph\":{\"id\":\"87fbbe9f-b8e7-48aa-9725-07a90360ab60\",\"type\":\"Rect\"},\"hover_glyph\":null,\"muted_glyph\":null},\"id\":\"975a62c3-e4b0-41b8-a004-0a25df00343e\",\"type\":\"GlyphRenderer\"},{\"attributes\":{\"fill_alpha\":{\"field\":\"fill_alpha\"},\"fill_color\":{\"field\":\"color\"},\"height\":{\"field\":\"height\",\"units\":\"data\"},\"line_color\":{\"field\":\"line_color\"},\"width\":{\"field\":\"width\",\"units\":\"data\"},\"x\":{\"field\":\"x\"},\"y\":{\"field\":\"y\"}},\"id\":\"8e4495b7-9a42-40f1-87f2-8278d6d98fd4\",\"type\":\"Rect\"},{\"attributes\":{\"data_source\":{\"id\":\"4edef797-7c72-4707-9d1e-9b59555a2064\",\"type\":\"ColumnDataSource\"},\"glyph\":{\"id\":\"039bdb05-f529-4405-be74-f0e2a129982b\",\"type\":\"Rect\"},\"hover_glyph\":null,\"muted_glyph\":null},\"id\":\"8045be7c-5de4-49b3-8ccc-04598c47656c\",\"type\":\"GlyphRenderer\"},{\"attributes\":{\"data_source\":{\"id\":\"37ba5b0c-f180-4ad9-8fb1-c5e378804930\",\"type\":\"ColumnDataSource\"},\"glyph\":{\"id\":\"e8fd1179-45cd-486a-82b5-89516b3b72a5\",\"type\":\"Rect\"},\"hover_glyph\":null,\"muted_glyph\":null},\"id\":\"63b7c58e-5baf-4060-8a07-dafee3dfe02c\",\"type\":\"GlyphRenderer\"},{\"attributes\":{\"callback\":null,\"column_names\":[\"y\",\"line_color\",\"height\",\"fill_alpha\",\"label\",\"line_alpha\",\"color\",\"width\",\"x\"],\"data\":{\"chart_index\":[\"(3.971000, 4.044000]\"],\"color\":[\"#f22c40\"],\"fill_alpha\":[0.8],\"height\":[101.0],\"label\":[\"(3.971000, 4.044000]\"],\"line_alpha\":[1.0],\"line_color\":[\"black\"],\"width\":[0.07299999999999951],\"x\":[\"4.0075\"],\"y\":[50.5]}},\"id\":\"38b98130-3da1-4525-90f2-ca380c89759e\",\"type\":\"ColumnDataSource\"},{\"attributes\":{\"plot\":null,\"text\":\"Reviews Distribution\"},\"id\":\"ab8c4a40-f391-4192-a349-7a974777a7e9\",\"type\":\"Title\"},{\"attributes\":{\"callback\":null,\"end\":1031.8000000000002},\"id\":\"8e45e78a-ad08-48fc-9501-45438508a318\",\"type\":\"Range1d\"},{\"attributes\":{\"callback\":null,\"column_names\":[\"y\",\"line_color\",\"height\",\"fill_alpha\",\"label\",\"line_alpha\",\"color\",\"width\",\"x\"],\"data\":{\"chart_index\":[\"(4.847000, 4.920000]\"],\"color\":[\"#f22c40\"],\"fill_alpha\":[0.8],\"height\":[34.0],\"label\":[\"(4.847000, 4.920000]\"],\"line_alpha\":[1.0],\"line_color\":[\"black\"],\"width\":[0.0730000000000004],\"x\":[\"4.8835\"],\"y\":[17.0]}},\"id\":\"827fb72b-394c-4948-ab9b-90d62c18caac\",\"type\":\"ColumnDataSource\"},{\"attributes\":{\"data_source\":{\"id\":\"01d392ed-3818-4645-8ac4-a2ff1f5316e3\",\"type\":\"ColumnDataSource\"},\"glyph\":{\"id\":\"793e65b1-bc56-489e-8cb2-2d7ec5bea6cc\",\"type\":\"Rect\"},\"hover_glyph\":null,\"muted_glyph\":null},\"id\":\"224197df-c51d-4713-9062-d6ee28954d57\",\"type\":\"GlyphRenderer\"},{\"attributes\":{\"fill_alpha\":{\"field\":\"fill_alpha\"},\"fill_color\":{\"field\":\"color\"},\"height\":{\"field\":\"height\",\"units\":\"data\"},\"line_color\":{\"field\":\"line_color\"},\"width\":{\"field\":\"width\",\"units\":\"data\"},\"x\":{\"field\":\"x\"},\"y\":{\"field\":\"y\"}},\"id\":\"93b23c99-a754-4db3-ab36-f924a1460552\",\"type\":\"Rect\"},{\"attributes\":{\"fill_alpha\":{\"field\":\"fill_alpha\"},\"fill_color\":{\"field\":\"color\"},\"height\":{\"field\":\"height\",\"units\":\"data\"},\"line_color\":{\"field\":\"line_color\"},\"width\":{\"field\":\"width\",\"units\":\"data\"},\"x\":{\"field\":\"x\"},\"y\":{\"field\":\"y\"}},\"id\":\"f7a0e100-18de-4f3e-bcf4-d25e240fdbe0\",\"type\":\"Rect\"},{\"attributes\":{\"fill_alpha\":{\"field\":\"fill_alpha\"},\"fill_color\":{\"field\":\"color\"},\"height\":{\"field\":\"height\",\"units\":\"data\"},\"line_color\":{\"field\":\"line_color\"},\"width\":{\"field\":\"width\",\"units\":\"data\"},\"x\":{\"field\":\"x\"},\"y\":{\"field\":\"y\"}},\"id\":\"401523de-763b-42ae-81bc-6b8976772af3\",\"type\":\"Rect\"},{\"attributes\":{\"fill_alpha\":{\"field\":\"fill_alpha\"},\"fill_color\":{\"field\":\"color\"},\"height\":{\"field\":\"height\",\"units\":\"data\"},\"line_color\":{\"field\":\"line_color\"},\"width\":{\"field\":\"width\",\"units\":\"data\"},\"x\":{\"field\":\"x\"},\"y\":{\"field\":\"y\"}},\"id\":\"dde41395-a933-4eae-ba4c-7b80fee6b0bd\",\"type\":\"Rect\"},{\"attributes\":{\"fill_alpha\":{\"field\":\"fill_alpha\"},\"fill_color\":{\"field\":\"color\"},\"height\":{\"field\":\"height\",\"units\":\"data\"},\"line_color\":{\"field\":\"line_color\"},\"width\":{\"field\":\"width\",\"units\":\"data\"},\"x\":{\"field\":\"x\"},\"y\":{\"field\":\"y\"}},\"id\":\"99122642-8fb7-4fad-b2ff-277df897d532\",\"type\":\"Rect\"},{\"attributes\":{\"callback\":null,\"column_names\":[\"y\",\"line_color\",\"height\",\"fill_alpha\",\"label\",\"line_alpha\",\"color\",\"width\",\"x\"],\"data\":{\"chart_index\":[\"(4.117000, 4.190000]\"],\"color\":[\"#f22c40\"],\"fill_alpha\":[0.8],\"height\":[201.0],\"label\":[\"(4.117000, 4.190000]\"],\"line_alpha\":[1.0],\"line_color\":[\"black\"],\"width\":[0.07299999999999951],\"x\":[\"4.1535\"],\"y\":[100.5]}},\"id\":\"d982a07f-0834-4c0c-81cd-ebeaf332e34d\",\"type\":\"ColumnDataSource\"},{\"attributes\":{\"callback\":null,\"column_names\":[\"y\",\"line_color\",\"height\",\"fill_alpha\",\"label\",\"line_alpha\",\"color\",\"width\",\"x\"],\"data\":{\"chart_index\":[\"(4.628000, 4.701000]\"],\"color\":[\"#f22c40\"],\"fill_alpha\":[0.8],\"height\":[904.0],\"label\":[\"(4.628000, 4.701000]\"],\"line_alpha\":[1.0],\"line_color\":[\"black\"],\"width\":[0.07299999999999951],\"x\":[\"4.6645\"],\"y\":[452.0]}},\"id\":\"47df2bd2-681b-46c4-9bbc-5ff939353e2c\",\"type\":\"ColumnDataSource\"},{\"attributes\":{\"data_source\":{\"id\":\"cab1fd77-1a54-43af-95c5-1fd991d56a10\",\"type\":\"ColumnDataSource\"},\"glyph\":{\"id\":\"8f4ee711-fd2b-45d9-ab08-715a2b1f433e\",\"type\":\"Rect\"},\"hover_glyph\":null,\"muted_glyph\":null},\"id\":\"68f25e1e-c060-4cc4-a3b1-b4cc4d1abddb\",\"type\":\"GlyphRenderer\"},{\"attributes\":{\"callback\":null,\"column_names\":[\"y\",\"line_color\",\"height\",\"fill_alpha\",\"label\",\"line_alpha\",\"color\",\"width\",\"x\"],\"data\":{\"chart_index\":[\"(4.190000, 4.263000]\"],\"color\":[\"#f22c40\"],\"fill_alpha\":[0.8],\"height\":[329.0],\"label\":[\"(4.190000, 4.263000]\"],\"line_alpha\":[1.0],\"line_color\":[\"black\"],\"width\":[0.0730000000000004],\"x\":[\"4.2265\"],\"y\":[164.5]}},\"id\":\"24b66525-a5b6-4b52-a068-e7605bafa2ad\",\"type\":\"ColumnDataSource\"},{\"attributes\":{\"callback\":null,\"column_names\":[\"y\",\"line_color\",\"height\",\"fill_alpha\",\"label\",\"line_alpha\",\"color\",\"width\",\"x\"],\"data\":{\"chart_index\":[\"(3.752000, 3.825000]\"],\"color\":[\"#f22c40\"],\"fill_alpha\":[0.8],\"height\":[27.0],\"label\":[\"(3.752000, 3.825000]\"],\"line_alpha\":[1.0],\"line_color\":[\"black\"],\"width\":[0.0730000000000004],\"x\":[\"3.7885\"],\"y\":[13.5]}},\"id\":\"0042349f-c6a6-4af1-8ecc-a2fc71db49a6\",\"type\":\"ColumnDataSource\"},{\"attributes\":{\"data_source\":{\"id\":\"22ed387d-f30f-466d-8d3d-3e8814680987\",\"type\":\"ColumnDataSource\"},\"glyph\":{\"id\":\"09a0f233-771e-414b-bbff-2f0434035093\",\"type\":\"Rect\"},\"hover_glyph\":null,\"muted_glyph\":null},\"id\":\"ddcba53a-4f4b-4b77-bf36-05c0426955b2\",\"type\":\"GlyphRenderer\"},{\"attributes\":{\"fill_alpha\":{\"field\":\"fill_alpha\"},\"fill_color\":{\"field\":\"color\"},\"height\":{\"field\":\"height\",\"units\":\"data\"},\"line_color\":{\"field\":\"line_color\"},\"width\":{\"field\":\"width\",\"units\":\"data\"},\"x\":{\"field\":\"x\"},\"y\":{\"field\":\"y\"}},\"id\":\"813572e1-7eff-4c52-8e81-1241eb7900a2\",\"type\":\"Rect\"},{\"attributes\":{\"callback\":null,\"column_names\":[\"y\",\"line_color\",\"height\",\"fill_alpha\",\"label\",\"line_alpha\",\"color\",\"width\",\"x\"],\"data\":{\"chart_index\":[\"(4.555000, 4.628000]\"],\"color\":[\"#f22c40\"],\"fill_alpha\":[0.8],\"height\":[938.0],\"label\":[\"(4.555000, 4.628000]\"],\"line_alpha\":[1.0],\"line_color\":[\"black\"],\"width\":[0.0730000000000004],\"x\":[\"4.5915\"],\"y\":[469.0]}},\"id\":\"0a31dbe1-9738-4041-ba87-67f616b18699\",\"type\":\"ColumnDataSource\"},{\"attributes\":{\"dimension\":1,\"plot\":{\"id\":\"f9e37391-0b17-44a9-a9f6-fd1b733daabc\",\"subtype\":\"Chart\",\"type\":\"Plot\"},\"ticker\":{\"id\":\"b8cfedb7-559b-4ab1-9f5e-487140c1e1f2\",\"type\":\"BasicTicker\"}},\"id\":\"b11326e1-35d6-4181-aa77-31f33f8fa85b\",\"type\":\"Grid\"},{\"attributes\":{\"callback\":null,\"column_names\":[\"y\",\"line_color\",\"height\",\"fill_alpha\",\"label\",\"line_alpha\",\"color\",\"width\",\"x\"],\"data\":{\"chart_index\":[\"(2.949000, 3.022000]\"],\"color\":[\"#f22c40\"],\"fill_alpha\":[0.8],\"height\":[0.0],\"label\":[\"(2.949000, 3.022000]\"],\"line_alpha\":[1.0],\"line_color\":[\"black\"],\"width\":[0.07299999999999995],\"x\":[\"2.9855\"],\"y\":[0.0]}},\"id\":\"01d392ed-3818-4645-8ac4-a2ff1f5316e3\",\"type\":\"ColumnDataSource\"},{\"attributes\":{},\"id\":\"b8cfedb7-559b-4ab1-9f5e-487140c1e1f2\",\"type\":\"BasicTicker\"},{\"attributes\":{\"data_source\":{\"id\":\"4b2e58e8-33d2-43fd-a071-e780070f0da1\",\"type\":\"ColumnDataSource\"},\"glyph\":{\"id\":\"8e4495b7-9a42-40f1-87f2-8278d6d98fd4\",\"type\":\"Rect\"},\"hover_glyph\":null,\"muted_glyph\":null},\"id\":\"85b563f6-ba4d-490a-9614-16e81a3c1af6\",\"type\":\"GlyphRenderer\"},{\"attributes\":{\"data_source\":{\"id\":\"0042349f-c6a6-4af1-8ecc-a2fc71db49a6\",\"type\":\"ColumnDataSource\"},\"glyph\":{\"id\":\"31a5964f-9149-4e6f-8b39-39be3f5aa9ed\",\"type\":\"Rect\"},\"hover_glyph\":null,\"muted_glyph\":null},\"id\":\"df17f4f5-9e4f-4746-8521-9aedbf8a2379\",\"type\":\"GlyphRenderer\"},{\"attributes\":{\"plot\":{\"id\":\"f9e37391-0b17-44a9-a9f6-fd1b733daabc\",\"subtype\":\"Chart\",\"type\":\"Plot\"}},\"id\":\"0372fd51-418a-4cab-b474-fbac297cdffe\",\"type\":\"WheelZoomTool\"},{\"attributes\":{\"fill_alpha\":{\"field\":\"fill_alpha\"},\"fill_color\":{\"field\":\"color\"},\"height\":{\"field\":\"height\",\"units\":\"data\"},\"line_color\":{\"field\":\"line_color\"},\"width\":{\"field\":\"width\",\"units\":\"data\"},\"x\":{\"field\":\"x\"},\"y\":{\"field\":\"y\"}},\"id\":\"793e65b1-bc56-489e-8cb2-2d7ec5bea6cc\",\"type\":\"Rect\"},{\"attributes\":{\"data_source\":{\"id\":\"00dcaa8d-be20-4c5f-ac5e-81444a9c9f70\",\"type\":\"ColumnDataSource\"},\"glyph\":{\"id\":\"8a7ac652-ed9e-45be-aad5-a01a2a565e98\",\"type\":\"Rect\"},\"hover_glyph\":null,\"muted_glyph\":null},\"id\":\"30d462b6-1b7a-4d5e-853a-c13812131da5\",\"type\":\"GlyphRenderer\"},{\"attributes\":{\"data_source\":{\"id\":\"24b66525-a5b6-4b52-a068-e7605bafa2ad\",\"type\":\"ColumnDataSource\"},\"glyph\":{\"id\":\"3ea40310-3d12-424c-b758-43ad6d05a75a\",\"type\":\"Rect\"},\"hover_glyph\":null,\"muted_glyph\":null},\"id\":\"67f44262-0e63-47fc-8468-fa6e150e9753\",\"type\":\"GlyphRenderer\"},{\"attributes\":{\"callback\":null,\"column_names\":[\"y\",\"line_color\",\"height\",\"fill_alpha\",\"label\",\"line_alpha\",\"color\",\"width\",\"x\"],\"data\":{\"chart_index\":[\"(3.533000, 3.606000]\"],\"color\":[\"#f22c40\"],\"fill_alpha\":[0.8],\"height\":[8.0],\"label\":[\"(3.533000, 3.606000]\"],\"line_alpha\":[1.0],\"line_color\":[\"black\"],\"width\":[0.07299999999999995],\"x\":[\"3.5694999999999997\"],\"y\":[4.0]}},\"id\":\"7a3c430d-92f4-4505-b68b-ac3ea27b6db0\",\"type\":\"ColumnDataSource\"},{\"attributes\":{\"fill_alpha\":{\"field\":\"fill_alpha\"},\"fill_color\":{\"field\":\"color\"},\"height\":{\"field\":\"height\",\"units\":\"data\"},\"line_color\":{\"field\":\"line_color\"},\"width\":{\"field\":\"width\",\"units\":\"data\"},\"x\":{\"field\":\"x\"},\"y\":{\"field\":\"y\"}},\"id\":\"662649be-63aa-48d8-a53b-91a5ff75f741\",\"type\":\"Rect\"},{\"attributes\":{\"data_source\":{\"id\":\"827fb72b-394c-4948-ab9b-90d62c18caac\",\"type\":\"ColumnDataSource\"},\"glyph\":{\"id\":\"93b23c99-a754-4db3-ab36-f924a1460552\",\"type\":\"Rect\"},\"hover_glyph\":null,\"muted_glyph\":null},\"id\":\"f8af4c6a-77fb-4145-836f-8c9479e06c56\",\"type\":\"GlyphRenderer\"},{\"attributes\":{},\"id\":\"03ec6e7d-6097-4101-9d0d-b10e65bb888e\",\"type\":\"BasicTickFormatter\"},{\"attributes\":{\"fill_alpha\":{\"field\":\"fill_alpha\"},\"fill_color\":{\"field\":\"color\"},\"height\":{\"field\":\"height\",\"units\":\"data\"},\"line_color\":{\"field\":\"line_color\"},\"width\":{\"field\":\"width\",\"units\":\"data\"},\"x\":{\"field\":\"x\"},\"y\":{\"field\":\"y\"}},\"id\":\"9eab8907-4d90-4c46-b5e3-6a36ac82fd4c\",\"type\":\"Rect\"},{\"attributes\":{\"fill_alpha\":{\"field\":\"fill_alpha\"},\"fill_color\":{\"field\":\"color\"},\"height\":{\"field\":\"height\",\"units\":\"data\"},\"line_color\":{\"field\":\"line_color\"},\"width\":{\"field\":\"width\",\"units\":\"data\"},\"x\":{\"field\":\"x\"},\"y\":{\"field\":\"y\"}},\"id\":\"a8faa0d8-350a-4b25-a897-614175f740d0\",\"type\":\"Rect\"},{\"attributes\":{\"fill_alpha\":{\"field\":\"fill_alpha\"},\"fill_color\":{\"field\":\"color\"},\"height\":{\"field\":\"height\",\"units\":\"data\"},\"line_color\":{\"field\":\"line_color\"},\"width\":{\"field\":\"width\",\"units\":\"data\"},\"x\":{\"field\":\"x\"},\"y\":{\"field\":\"y\"}},\"id\":\"31a5964f-9149-4e6f-8b39-39be3f5aa9ed\",\"type\":\"Rect\"},{\"attributes\":{\"callback\":null,\"column_names\":[\"y\",\"line_color\",\"height\",\"fill_alpha\",\"label\",\"line_alpha\",\"color\",\"width\",\"x\"],\"data\":{\"chart_index\":[\"(3.095000, 3.168000]\"],\"color\":[\"#f22c40\"],\"fill_alpha\":[0.8],\"height\":[0.0],\"label\":[\"(3.095000, 3.168000]\"],\"line_alpha\":[1.0],\"line_color\":[\"black\"],\"width\":[0.0730000000000004],\"x\":[\"3.1315\"],\"y\":[0.0]}},\"id\":\"22ed387d-f30f-466d-8d3d-3e8814680987\",\"type\":\"ColumnDataSource\"}],\"root_ids\":[\"f9e37391-0b17-44a9-a9f6-fd1b733daabc\"]},\"title\":\"Bokeh Application\",\"version\":\"0.12.5\"}};\n",
       "            var render_items = [{\"docid\":\"a666c5b0-1ab1-44f2-8106-120de80b94ef\",\"elementid\":\"c1e75330-bee4-4f6b-94c0-e26b9fb957a5\",\"modelid\":\"f9e37391-0b17-44a9-a9f6-fd1b733daabc\"}];\n",
       "            \n",
       "            Bokeh.embed.embed_items(docs_json, render_items);\n",
       "          };\n",
       "          if (document.readyState != \"loading\") fn();\n",
       "          else document.addEventListener(\"DOMContentLoaded\", fn);\n",
       "        })();\n",
       "      },\n",
       "      function(Bokeh) {\n",
       "      }\n",
       "    ];\n",
       "  \n",
       "    function run_inline_js() {\n",
       "      \n",
       "      if ((window.Bokeh !== undefined) || (force === true)) {\n",
       "        for (var i = 0; i < inline_js.length; i++) {\n",
       "          inline_js[i](window.Bokeh);\n",
       "        }if (force === true) {\n",
       "          display_loaded();\n",
       "        }} else if (Date.now() < window._bokeh_timeout) {\n",
       "        setTimeout(run_inline_js, 100);\n",
       "      } else if (!window._bokeh_failed_load) {\n",
       "        console.log(\"Bokeh: BokehJS failed to load within specified timeout.\");\n",
       "        window._bokeh_failed_load = true;\n",
       "      } else if (force !== true) {\n",
       "        var cell = $(document.getElementById(\"c1e75330-bee4-4f6b-94c0-e26b9fb957a5\")).parents('.cell').data().cell;\n",
       "        cell.output_area.append_execute_result(NB_LOAD_WARNING)\n",
       "      }\n",
       "  \n",
       "    }\n",
       "  \n",
       "    if (window._bokeh_is_loading === 0) {\n",
       "      console.log(\"Bokeh: BokehJS loaded, going straight to plotting\");\n",
       "      run_inline_js();\n",
       "    } else {\n",
       "      load_libs(js_urls, function() {\n",
       "        console.log(\"Bokeh: BokehJS plotting callback run at\", now());\n",
       "        run_inline_js();\n",
       "      });\n",
       "    }\n",
       "  }(this));\n",
       "</script>"
      ]
     },
     "metadata": {},
     "output_type": "display_data"
    }
   ],
   "source": [
    "p_reviews = Histogram(reviews,  bins=30,\n",
    "              title=\"Reviews Distribution\",xlabel=\"reviews\", ylabel=\"count\",\n",
    "                      plot_height=300,plot_width=300)\n",
    "show(p_reviews)"
   ]
  },
  {
   "cell_type": "markdown",
   "metadata": {
    "deletable": true,
    "editable": true
   },
   "source": [
    "## Ingredient Recommendation"
   ]
  },
  {
   "cell_type": "code",
   "execution_count": 24,
   "metadata": {
    "collapsed": false
   },
   "outputs": [],
   "source": [
    "\n",
    "def get_joint_probabilities(cooccurrence_matrix,indicies,log_probability = True):\n",
    "    \"\"\"\n",
    "    Calculates the joint probability of ingredient occurances with the given ones\n",
    "    \"\"\"\n",
    "    if log_probability:\n",
    "        #sum log probabilities of the co-occurances with the ingredients of the selected recipe \n",
    "        #and sort them in decsending order\n",
    "        with np.errstate(divide='ignore'):\n",
    "            joint_probabilities = np.sum(\n",
    "                ma.log2(cooccurrence_matrix[indicies]).filled(-500),\n",
    "                axis=0)\n",
    "    else:\n",
    "        #multiply the probabilities to get the joint probability of each ingredient's \n",
    "        #occurance with already existing ones in the recipe\n",
    "        joint_probabilities = np.prod(cooccurrence_matrix[indicies], axis=0) \n",
    "    return joint_probabilities\n",
    "\n",
    "def select_ingredients(indicies,kept_indicies,cooccurrence_matrix,surprise_factor = 1):\n",
    "    \"\"\"\n",
    "    Selects complimentary ingredients that are likely to occur together with the given ones\n",
    "    Surprise factor alters the ingredient selection. If it is 1 then always the ingredient \n",
    "    with the highes probability is selected. If it is 3, for example, the ingredient is selected\n",
    "    from the most likely 3 other ingredients randomly.\n",
    "    \"\"\"\n",
    "    new_ingredients = {}\n",
    "    nof_new_ingredients = len(indicies) - len(kept_indicies)\n",
    "    #new_conditional_probabilities = rw_conditional_log_probabilities\n",
    "    #new_sorted_ingredient_indicies = rw_log_sorted_ingredient_indicies.copy()\n",
    "    excluded_ingredients = copy.deepcopy(indicies)\n",
    "    indicies_selected = copy.deepcopy(kept_indicies)\n",
    "    assert surprise_factor > 0, \"The surprise factor must be greater than 0\"\n",
    "   \n",
    "    for i in range(nof_new_ingredients):\n",
    "        con_probabilities = get_joint_probabilities(cooccurrence_matrix,indicies_selected)\n",
    "        sorted_indicies = np.argsort(con_probabilities)[::-1]\n",
    "\n",
    "        #exclude the ingredients of the recipe from the ingredient list\n",
    "        ingredients_to_choose = ma.masked_where(np.in1d(sorted_indicies,\n",
    "                                                        np.array(excluded_ingredients) ), \n",
    "                                                sorted_indicies)\n",
    "        #choose ingredient that is the most likely or one of the most likely\n",
    "        new_ingredients[i] = random.choice(ingredients_to_choose[~ingredients_to_choose.mask][:surprise_factor].data)\n",
    "        #new_conditional_probabilities =  new_conditional_probabilities + cooccurrence_matrix_normalized[new_ingredients[i]]\n",
    "        #new_sorted_ingredient_indicies = np.argsort(new_conditional_probabilities)[::-1]\n",
    "        excluded_ingredients.append(new_ingredients[i])\n",
    "        indicies_selected.append(new_ingredients[i])\n",
    "    return new_ingredients\n",
    "\n",
    "def calculate_normalized_cooccurrence_matrix(ingredient_matrix, rankings = None):\n",
    "    \"\"\"\n",
    "    Calculates the normalized co-occurance matrix of ingredients. If rankings are not None then\n",
    "    calculate the ranking weighted co-occurance matrix\n",
    "    \"\"\"\n",
    "    if rankings:\n",
    "        review_weighted_ingredient_matrix = ingredient_matrix * np.array(reviews)[:,None] / 5\n",
    "        cooccurrence_matrix = np.dot(review_weighted_ingredient_matrix.transpose(),\n",
    "                                     review_weighted_ingredient_matrix)\n",
    "        #rw_cooccurrence_matrix_diagonal = np.diagonal(rw_cooccurrence_matrix)\n",
    "        #with np.errstate(divide='ignore', invalid='ignore'):\n",
    "        #rw_cooccurrence_matrix_normalized = np.nan_to_num(np.true_divide(rw_cooccurrence_matrix, rw_cooccurrence_matrix_diagonal[:, None]))\n",
    "    else:\n",
    "        cooccurrence_matrix = np.dot(ingredient_matrix.transpose(),ingredient_matrix)\n",
    "    \n",
    "    cooccurrence_matrix_diagonal = np.diagonal(cooccurrence_matrix)\n",
    "    with np.errstate(divide='ignore', invalid='ignore'):\n",
    "        cooccurrence_matrix_normalized = np.nan_to_num(np.true_divide(cooccurrence_matrix, cooccurrence_matrix_diagonal[:, None]))\n",
    "        #print('\\ncooccurrence_matrix_normalized:\\n{0}'.format(cooccurrence_matrix_normalized))\n",
    "    return cooccurrence_matrix_normalized\n",
    "\n",
    "def bulk_select_ingredients(cooccurrence_matrix,indicies,to_replace_indicies):\n",
    "    \"\"\"\n",
    "    Select all missing ingredients in one based on the joint\n",
    "    \"\"\"\n",
    "    #sort the ingredients from maximum to minimum\n",
    "    conditional_probabilities = get_joint_probabilities(cooccurrence_matrix,indicies,False)\n",
    "    #remove the ingredients already in the recipe\n",
    "    sorted_ingredient_indicies = np.argsort(conditional_probabilities)[::-1]\n",
    "    complimentary_ingredients = [ing_index for ing_index in sorted_ingredient_indicies if not ing_index in indicies]\n",
    "    #get as many new ingredients as the ones to be replaced\n",
    "    new_ingredients = vocabulary[complimentary_ingredients[:len(to_replace_indicies)]]\n",
    "    return new_ingredients\n",
    "\n",
    "def print_recipe(ingredients,to_replace,new_ingredients):\n",
    "    print (\"\\nOriginal Recipe: \\n\" + \" , \".join(ingredients))\n",
    "    print(\"\\nIngredients dropped: \\n\" + \"\\x1b[31m\" + \" - \".join(to_replace) + \"\\x1b[0m\")\n",
    "    print(\"\\nNew Ingredients added: \\n\" + \"\\x1b[32m\" + \" - \".join(new_ingredients) + \"\\x1b[0m\")\n",
    "    print (\"\\nNew recipe: \\n\" + \" ** \".join(new_ingredients) + \" ** \" + \" ** \".join(set(ingredients).difference( set(to_replace))))"
   ]
  },
  {
   "cell_type": "markdown",
   "metadata": {},
   "source": [
    "#### Randomly select a recipe and ingredients to replace "
   ]
  },
  {
   "cell_type": "code",
   "execution_count": 25,
   "metadata": {
    "collapsed": false
   },
   "outputs": [
    {
     "name": "stdout",
     "output_type": "stream",
     "text": [
      "\n",
      "Recipe: Outrageous Chocolate Chip Cookies\n",
      "\n",
      "Ingredients: {'vanilla extract', 'baking soda', 'salt', 'white sugar', 'butter', 'peanut butter', 'flour', 'brown sugar', 'egg', 'oat', 'semisweet chocolate chip'}\n",
      "\n",
      "Ingredients to replace: ['oat' 'salt' 'white sugar' 'butter' 'peanut butter' 'baking soda'\n",
      " 'brown sugar' 'semisweet chocolate chip' 'flour' 'egg']\n",
      "\n",
      "Ingredients to keep: ['vanilla extract']\n"
     ]
    }
   ],
   "source": [
    "recipe, ingredients = random.choice(list(updated_recipe_dic.items()))\n",
    "print (\"\\nRecipe: \" + recipe)\n",
    "print (\"\\nIngredients: \" + str(ingredients))\n",
    "\n",
    "to_replace = np.random.choice(list(ingredients), np.random.randint(low=1, high=len(ingredients)),replace=False)\n",
    "print (\"\\nIngredients to replace: \" + str(to_replace))\n",
    "\n",
    "indicies = [int(np.where(ingredient == vocabulary)[0]) for ingredient in  ingredients]\n",
    "to_replace_indicies = [int(np.where(ingredient == vocabulary)[0]) for ingredient in  to_replace]\n",
    "to_keep_indicies = [ing_index for ing_index in indicies if not ing_index in to_replace_indicies]\n",
    "nof_new_ingredients = len(to_replace_indicies)\n",
    "\n",
    "print (\"\\nIngredients to keep: \" + str(vocabulary[to_keep_indicies]))"
   ]
  },
  {
   "cell_type": "code",
   "execution_count": 26,
   "metadata": {
    "collapsed": false
   },
   "outputs": [
    {
     "name": "stdout",
     "output_type": "stream",
     "text": [
      "\n",
      "Original Recipe: \n",
      "vanilla extract , baking soda , salt , white sugar , butter , peanut butter , flour , brown sugar , egg , oat , semisweet chocolate chip\n",
      "\n",
      "Ingredients dropped: \n",
      "\u001b[31moat - salt - white sugar - butter - peanut butter - baking soda - brown sugar - semisweet chocolate chip - flour - egg\u001b[0m\n",
      "\n",
      "New Ingredients added: \n",
      "\u001b[32mbaking powder - milk - cinnamon - vegetable oil - water - walnut - confectioner sugar - shortening - pecan - unsweetened cocoa powder\u001b[0m\n",
      "\n",
      "New recipe: \n",
      "baking powder ** milk ** cinnamon ** vegetable oil ** water ** walnut ** confectioner sugar ** shortening ** pecan ** unsweetened cocoa powder ** vanilla extract\n"
     ]
    }
   ],
   "source": [
    "cooccurrence_matrix = calculate_normalized_cooccurrence_matrix(ingredient_matrix)\n",
    "new_ingredients = bulk_select_ingredients(cooccurrence_matrix,indicies,to_replace_indicies)\n",
    "print_recipe(ingredients,to_replace,new_ingredients)"
   ]
  },
  {
   "cell_type": "markdown",
   "metadata": {},
   "source": [
    "### Find the Best Fitting Ingredients Weighted by Ratings\n",
    "Here, I also consider the average ratings of the recipes where the ingredients are taken from. Normally, occurance of each ingredient is incremented by one when it found in a recipe. Here, I tried to increment it by its average rating which is scaled in the range of [0,1]. "
   ]
  },
  {
   "cell_type": "markdown",
   "metadata": {},
   "source": [
    "Calculate rank-weighted co-occurance matrix"
   ]
  },
  {
   "cell_type": "code",
   "execution_count": 27,
   "metadata": {
    "collapsed": false
   },
   "outputs": [
    {
     "name": "stdout",
     "output_type": "stream",
     "text": [
      "\n",
      "Original Recipe: \n",
      "vanilla extract , baking soda , salt , white sugar , butter , peanut butter , flour , brown sugar , egg , oat , semisweet chocolate chip\n",
      "\n",
      "Ingredients dropped: \n",
      "\u001b[31moat - salt - white sugar - butter - peanut butter - baking soda - brown sugar - semisweet chocolate chip - flour - egg\u001b[0m\n",
      "\n",
      "New Ingredients added: \n",
      "\u001b[32mbaking powder - vegetable oil - walnut - water - cinnamon - nutmeg - cream cheese - lemon juice - confectioner sugar - sour cream\u001b[0m\n",
      "\n",
      "New recipe: \n",
      "baking powder ** vegetable oil ** walnut ** water ** cinnamon ** nutmeg ** cream cheese ** lemon juice ** confectioner sugar ** sour cream ** vanilla extract\n"
     ]
    }
   ],
   "source": [
    "rw_cooccurrence_matrix_normalized = calculate_normalized_cooccurrence_matrix(ingredient_matrix,reviews)\n",
    "selected_indicies = select_ingredients(indicies,to_keep_indicies,rw_cooccurrence_matrix_normalized,3)\n",
    "new_selected_ingredients = vocabulary[list(selected_indicies.values())]\n",
    "print_recipe(ingredients,to_replace,new_selected_ingredients)"
   ]
  },
  {
   "cell_type": "markdown",
   "metadata": {
    "deletable": true,
    "editable": true
   },
   "source": [
    "## Network Analysis"
   ]
  },
  {
   "cell_type": "markdown",
   "metadata": {
    "deletable": true,
    "editable": true
   },
   "source": [
    "Create a graph"
   ]
  },
  {
   "cell_type": "code",
   "execution_count": 28,
   "metadata": {
    "collapsed": false,
    "deletable": true,
    "editable": true
   },
   "outputs": [],
   "source": [
    "G=nx.Graph()\n",
    "for ingredients in updated_recipe_dic.values():\n",
    "    G.add_nodes_from(ingredients)\n",
    "    G.add_edges_from(list(itertools.combinations(list(ingredients), 2)))"
   ]
  },
  {
   "cell_type": "code",
   "execution_count": 29,
   "metadata": {
    "collapsed": false,
    "deletable": true,
    "editable": true
   },
   "outputs": [],
   "source": [
    "import matplotlib.pyplot as plt\n",
    "plt.style.use('seaborn-paper')"
   ]
  },
  {
   "cell_type": "code",
   "execution_count": 30,
   "metadata": {
    "collapsed": false,
    "deletable": true,
    "editable": true
   },
   "outputs": [],
   "source": [
    "d = nx.degree(G)"
   ]
  },
  {
   "cell_type": "code",
   "execution_count": 31,
   "metadata": {
    "collapsed": false,
    "deletable": true,
    "editable": true
   },
   "outputs": [],
   "source": [
    "import operator\n",
    "sorted_x = sorted(d.items(), key=operator.itemgetter(1))[::-1]"
   ]
  },
  {
   "cell_type": "code",
   "execution_count": 32,
   "metadata": {
    "collapsed": false,
    "deletable": true,
    "editable": true,
    "scrolled": true
   },
   "outputs": [
    {
     "data": {
      "image/png": "[encoded data removed]",
      "text/plain": [
       "<matplotlib.figure.Figure at 0x119244fd0>"
      ]
     },
     "metadata": {},
     "output_type": "display_data"
    }
   ],
   "source": [
    "plt.axis('off')\n",
    "\n",
    "nlist = [x[0] for x in sorted_x[20:]]\n",
    "ndegree = [x[1] for x in sorted_x[20:]]\n",
    "pos = nx.random_layout(G)\n",
    "\n",
    "nx.draw_networkx_nodes(G,pos,nodelist=nlist, node_color=\"green\",with_labels=False,node_size=ndegree, alpha=0.3)\n",
    "#nx.draw_networkx_nodes(G,pos, node_color=\"blue\",with_labels=True,node_size=[v * 10 for v in d.values()], alpha=0.7)\n",
    "nx.draw_networkx_labels(G,pos,dict(zip(nlist,nlist)),font_size=6, font_color=\"white\")\n",
    "nx.draw_networkx_edges(G, pos,nodelist=nlist,edge_color=\"white\");\n",
    "\n",
    "pos = nx.shell_layout(G)\n",
    "#nx.draw(G, nodelist=d.keys(), node_size=[v * 100 for v in d.values()])\n",
    "\n",
    "nlist = [x[0] for x in sorted_x[:10]]\n",
    "ndegree = [x[1] * 10 for x in sorted_x[:10]]\n",
    "nx.draw_networkx_nodes(G,pos,nodelist=nlist, node_color=\"black\",with_labels=False,node_size=ndegree, alpha=0.9)\n",
    "#nx.draw_networkx_nodes(G,pos, node_color=\"blue\",with_labels=True,node_size=[v * 10 for v in d.values()], alpha=0.7)\n",
    "nx.draw_networkx_labels(G,pos,dict(zip(nlist,nlist)),font_size=10, font_color=\"white\")\n",
    "nx.draw_networkx_edges(G, pos,nodelist=nlist,edge_color=\"white\");\n",
    "\n",
    "nlist = [x[0] for x in sorted_x[10:20]]\n",
    "ndegree = [x[1] * 3 for x in sorted_x[10:20]]\n",
    "\n",
    "nx.draw_networkx_nodes(G,pos,nodelist=nlist, node_color=\"red\",with_labels=False,node_size=ndegree, alpha=0.7)\n",
    "#nx.draw_networkx_nodes(G,pos, node_color=\"blue\",with_labels=True,node_size=[v * 10 for v in d.values()], alpha=0.7)\n",
    "nx.draw_networkx_labels(G,pos,dict(zip(nlist,nlist)),font_size=10, font_color=\"white\")\n",
    "nx.draw_networkx_edges(G, pos,nodelist=nlist,edge_color=\"white\");\n",
    "\n"
   ]
  }
 ],
 "metadata": {
  "anaconda-cloud": {},
  "kernelspec": {
   "display_name": "Python [conda env:condap3]",
   "language": "python",
   "name": "conda-env-condap3-py"
  },
  "language_info": {
   "codemirror_mode": {
    "name": "ipython",
    "version": 3
   },
   "file_extension": ".py",
   "mimetype": "text/x-python",
   "name": "python",
   "nbconvert_exporter": "python",
   "pygments_lexer": "ipython3",
   "version": "3.5.3"
  }
 },
 "nbformat": 4,
 "nbformat_minor": 1
}
